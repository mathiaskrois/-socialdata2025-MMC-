{
 "cells": [
  {
   "cell_type": "code",
   "execution_count": 1,
   "id": "20ec7aa8b6d77d19",
   "metadata": {
    "collapsed": true,
    "ExecuteTime": {
     "end_time": "2025-05-11T12:50:17.234238Z",
     "start_time": "2025-05-11T12:37:12.175335Z"
    }
   },
   "outputs": [
    {
     "name": "stdout",
     "output_type": "stream",
     "text": [
      "Processing files 1/4: VoteWatch-EP-voting-data_2004-2022/EP6_RCVs_2022_06_13.xlsx and VoteWatch-EP-voting-data_2004-2022/EP6_Voted docs.xlsx\n",
      "Were not able to match: 0 votes\n",
      "Should be total length: 5827060\n",
      "Got length: 4759840\n",
      "Processing files 2/4: VoteWatch-EP-voting-data_2004-2022/EP7_RCVs_2014_06_19.xlsx and VoteWatch-EP-voting-data_2004-2022/EP7_Voted docs.xlsx\n",
      "Were not able to match: 0 votes\n",
      "Should be total length: 5937733\n",
      "Got length: 5233859\n",
      "Processing files 3/4: VoteWatch-EP-voting-data_2004-2022/EP8_RCVs_2019_06_25.xlsx and VoteWatch-EP-voting-data_2004-2022/EP8_Voted docs.xlsx\n",
      "Were not able to match: 0 votes\n",
      "Should be total length: 8796216\n",
      "Got length: 7696506\n",
      "Processing files 4/4: VoteWatch-EP-voting-data_2004-2022/EP9_RCVs_2022_06_22.xlsx and VoteWatch-EP-voting-data_2004-2022/EP9_Voted docs.xlsx\n"
     ]
    },
    {
     "name": "stderr",
     "output_type": "stream",
     "text": [
      "/Users/mathiaskroismoller/anaconda3/envs/ada/lib/python3.9/site-packages/openpyxl/worksheet/_reader.py:329: UserWarning: Data Validation extension is not supported and will be removed\n",
      "  warn(msg)\n"
     ]
    },
    {
     "name": "stdout",
     "output_type": "stream",
     "text": [
      "Were not able to match: 0 votes\n",
      "Should be total length: 10915249\n",
      "Got length: 9520348\n"
     ]
    }
   ],
   "source": [
    "import pandas as pd\n",
    "\n",
    "\n",
    "def clean_name(first_name, last_name):\n",
    "    import unicodedata\n",
    "\n",
    "    if not isinstance(first_name, str):\n",
    "        first_name = str(first_name) if first_name is not None else \"\"\n",
    "    if not isinstance(last_name, str):\n",
    "        last_name = str(last_name) if last_name is not None else \"\"\n",
    "\n",
    "    first_name = first_name.lower().strip()\n",
    "    last_name = last_name.lower().strip()\n",
    "\n",
    "    def normalize_chars(text):\n",
    "        text = unicodedata.normalize('NFKD', text).encode('ASCII', 'ignore').decode('ASCII')\n",
    "        return text\n",
    "\n",
    "    first_name = normalize_chars(first_name)\n",
    "    last_name = normalize_chars(last_name)\n",
    "\n",
    "    for char in ['-', \"'\", \"`\", \".\", \",\", \"&\", \"'\"]:  # Added apostrophe variants\n",
    "        first_name = first_name.replace(char, ' ')\n",
    "        last_name = last_name.replace(char, ' ')\n",
    "\n",
    "    while '  ' in first_name:\n",
    "        first_name = first_name.replace('  ', ' ')\n",
    "    while '  ' in last_name:\n",
    "        last_name = last_name.replace('  ', ' ')\n",
    "\n",
    "    first_name = ' '.join(word.capitalize() for word in first_name.split())\n",
    "    last_name = ' '.join(word.capitalize() for word in last_name.split())\n",
    "\n",
    "    full_name = f\"{first_name} {last_name}\".strip()\n",
    "\n",
    "    return full_name\n",
    "\n",
    "\n",
    "def clean_text(text):\n",
    "    if not isinstance(text, str):\n",
    "        return text\n",
    "\n",
    "    text = text.lower()\n",
    "\n",
    "    for char in ['&', ',', '-']:\n",
    "        text = text.replace(char, ' ')\n",
    "\n",
    "    text = text.replace(' and ', ' ')\n",
    "\n",
    "    while '  ' in text:\n",
    "        text = text.replace('  ', ' ')\n",
    "\n",
    "    return text.strip()\n",
    "\n",
    "\n",
    "def process_ep_voting_data(rcv_files, voted_docs_files):\n",
    "    if len(rcv_files) != len(voted_docs_files):\n",
    "        raise ValueError(\"The lists of RCV files and Voted docs files must have the same length\")\n",
    "\n",
    "    all_data = []\n",
    "\n",
    "    for i, (rcv_file, voted_doc_file) in enumerate(zip(rcv_files, voted_docs_files)):\n",
    "        print(f\"Processing files {i + 1}/{len(rcv_files)}: {rcv_file} and {voted_doc_file}\")\n",
    "\n",
    "        if \"EP6\" in rcv_file:\n",
    "            ep_session = \"EP6\"\n",
    "            vote_start_index = 10\n",
    "            rcv_data = pd.read_excel(rcv_file, header=1)\n",
    "        elif \"EP7\" in rcv_file:\n",
    "            ep_session = \"EP7\"\n",
    "            vote_start_index = 9\n",
    "            rcv_data = pd.read_excel(rcv_file, sheet_name=0)\n",
    "        elif \"EP8\" in rcv_file:\n",
    "            ep_session = \"EP8\"\n",
    "            vote_start_index = 9\n",
    "            rcv_data = pd.read_excel(rcv_file, sheet_name=0)\n",
    "        elif \"EP9\" in rcv_file:\n",
    "            ep_session = \"EP9\"\n",
    "            vote_start_index = 10\n",
    "            rcv_data = pd.read_excel(rcv_file, sheet_name=0)\n",
    "        else:\n",
    "            ep_session = \"Unknown\"\n",
    "            rcv_data = pd.read_excel(rcv_file, sheet_name=0)\n",
    "            print(\"UNKNOWN SESSION\")\n",
    "\n",
    "        rcv_data = rcv_data.dropna(how='all')\n",
    "\n",
    "        voted_docs = pd.read_excel(voted_doc_file)\n",
    "\n",
    "        # Get vote columns headers (index)\n",
    "        vote_columns = rcv_data.columns[vote_start_index:].tolist()\n",
    "\n",
    "        votes_df = process_votes_ep(rcv_data, voted_docs, vote_columns, ep_session=ep_session)\n",
    "\n",
    "        print(f\"Should be total length: {len(rcv_data) * len(voted_docs)}\")\n",
    "        print(f\"Got length: {len(votes_df)}\")\n",
    "\n",
    "        # Add EP session information\n",
    "        votes_df['ep_session'] = ep_session\n",
    "\n",
    "        # Append to the list of results\n",
    "        all_data.append(votes_df)\n",
    "\n",
    "    # Concatenate all dataframes\n",
    "    combined_df = pd.concat(all_data, ignore_index=True)\n",
    "\n",
    "    # Perform final cleaning\n",
    "    combined_df = clean_combined_data(combined_df)\n",
    "\n",
    "    return combined_df\n",
    "\n",
    "\n",
    "def process_votes_ep(rcv_data, voted_docs, vote_columns, ep_session=None):\n",
    "    \"\"\"Process voting data for EP7, EP8, EP9 sessions\"\"\"\n",
    "\n",
    "    total_skipped = 0\n",
    "\n",
    "    if ep_session == 'EP6':\n",
    "        date = 'date'\n",
    "        title = 'title'\n",
    "        policy_area = 'main_policy_name'\n",
    "        vote_id_key = 'euro_act_id'\n",
    "        author = 'author_name'\n",
    "\n",
    "        mep_id_key = 'WebisteEpID'\n",
    "\n",
    "    else:\n",
    "        date = 'Date'\n",
    "        title = 'Title'\n",
    "        policy_area = 'De'\n",
    "        vote_id_key = 'Vote ID'\n",
    "        author = 'Author'\n",
    "\n",
    "        mep_id_key = 'WebisteEpID'\n",
    "\n",
    "        if ep_session == 'EP7':\n",
    "            mep_id_key = 'MEP ID'\n",
    "\n",
    "        if ep_session == 'EP8':\n",
    "            policy_area = \"De/Policy area\"\n",
    "\n",
    "        elif ep_session == 'EP9':\n",
    "            policy_area = 'Policy area'\n",
    "\n",
    "    # Create a dictionary to map vote IDs to vote information\n",
    "    vote_info = {}\n",
    "    for _, row in voted_docs.iterrows():\n",
    "        vote_info[str(row[vote_id_key])] = {\n",
    "            'date': row[date],\n",
    "            'title': row[title],\n",
    "            'policy_area': row[policy_area],\n",
    "            'author': author,\n",
    "        }\n",
    "\n",
    "    # Create a list to store results\n",
    "    results = []\n",
    "\n",
    "    # Process each MEP's votes\n",
    "    for _, mep_row in rcv_data.iterrows():\n",
    "        country = mep_row['Country']\n",
    "        party = mep_row['Party']\n",
    "        epg = mep_row['EPG']\n",
    "\n",
    "        first_name = mep_row['Fname']\n",
    "        last_name = mep_row['Lname']\n",
    "\n",
    "        mep_id = mep_row[mep_id_key]\n",
    "\n",
    "        # Process each vote for this MEP\n",
    "        for vote_col in vote_columns:\n",
    "\n",
    "            vote_col = str(vote_col)\n",
    "            vote_code = f'{ep_session}-{vote_col}'\n",
    "\n",
    "            if vote_col not in vote_info:\n",
    "                total_skipped += 1\n",
    "                continue\n",
    "\n",
    "            try:\n",
    "                mep_vote = mep_row[str(vote_col)]\n",
    "            except Exception as e:\n",
    "                mep_vote = mep_row[int(vote_col)]\n",
    "\n",
    "            if mep_vote == 0:\n",
    "                continue\n",
    "\n",
    "            info = vote_info[vote_col]\n",
    "\n",
    "            results.append({\n",
    "                'full name': clean_name(first_name, last_name),\n",
    "                'country': country,\n",
    "                'national_party': party,\n",
    "                'epg': epg,\n",
    "                'mep_id': mep_id,\n",
    "                'vote_code': vote_code,\n",
    "                'vote': mep_vote,\n",
    "                'date': info['date'],\n",
    "                'title': info['title'],\n",
    "                'policy_area': clean_text(info['policy_area']),\n",
    "            })\n",
    "\n",
    "    print(f\"Were not able to match: {total_skipped} votes\")\n",
    "    return pd.DataFrame(results)\n",
    "\n",
    "\n",
    "def clean_combined_data(df):\n",
    "    df['date'] = pd.to_datetime(df['date'], errors='coerce')\n",
    "    df['year'] = df['date'].dt.year\n",
    "    df['month'] = df['date'].dt.month\n",
    "    df['policy_area_cleaned'] = df['policy_area'].str.strip().str.lower()\n",
    "\n",
    "    return df\n",
    "\n",
    "\n",
    "voted_docs_files = [\"VoteWatch-EP-voting-data_2004-2022/EP6_Voted docs.xlsx\",\n",
    "                    \"VoteWatch-EP-voting-data_2004-2022/EP7_Voted docs.xlsx\",\n",
    "                    \"VoteWatch-EP-voting-data_2004-2022/EP8_Voted docs.xlsx\",\n",
    "                    \"VoteWatch-EP-voting-data_2004-2022/EP9_Voted docs.xlsx\"]\n",
    "rcv_files = [\"VoteWatch-EP-voting-data_2004-2022/EP6_RCVs_2022_06_13.xlsx\",\n",
    "             \"VoteWatch-EP-voting-data_2004-2022/EP7_RCVs_2014_06_19.xlsx\",\n",
    "             \"VoteWatch-EP-voting-data_2004-2022/EP8_RCVs_2019_06_25.xlsx\",\n",
    "             \"VoteWatch-EP-voting-data_2004-2022/EP9_RCVs_2022_06_22.xlsx\"]\n",
    "\n",
    "combined_df = process_ep_voting_data(rcv_files, voted_docs_files)\n",
    "\n",
    "# Save the combined dataframe\n",
    "output_file = \"ep_voting_data_combined.csv\"\n",
    "combined_df.to_csv(output_file, index=False)"
   ]
  },
  {
   "cell_type": "code",
   "execution_count": 2,
   "outputs": [
    {
     "name": "stdout",
     "output_type": "stream",
     "text": [
      "Column headers:\n",
      "['full name', 'country', 'national_party', 'epg', 'mep_id', 'vote_code', 'vote', 'date', 'title', 'policy_area', 'ep_session', 'year', 'month', 'policy_area_cleaned']\n",
      "\n",
      "Total number of headers: 14\n"
     ]
    }
   ],
   "source": [
    "\n",
    "# Get all column headers as a list\n",
    "headers_list = combined_df.columns.tolist()\n",
    "\n",
    "# Print the list of headers\n",
    "print(\"Column headers:\")\n",
    "print(headers_list)\n",
    "\n",
    "# Print the total number of headers\n",
    "print(f\"\\nTotal number of headers: {len(headers_list)}\")"
   ],
   "metadata": {
    "collapsed": false,
    "ExecuteTime": {
     "end_time": "2025-05-11T12:50:17.240723Z",
     "start_time": "2025-05-11T12:50:17.236368Z"
    }
   },
   "id": "166d9933e480eae4"
  },
  {
   "cell_type": "code",
   "execution_count": 26,
   "outputs": [
    {
     "name": "stdout",
     "output_type": "stream",
     "text": [
      "['full name', 'country', 'national_party', 'epg', 'mep_id', 'vote_code', 'vote', 'date', 'title', 'policy_area', 'ep_session', 'year', 'month', 'policy_area_cleaned']\n",
      "[1. 5. 2. 3. 4. 6.]\n"
     ]
    }
   ],
   "source": [
    "\n",
    "import pandas as pd\n",
    "\n",
    "df = pd.read_csv('ep_voting_data_combined.csv')\n",
    "\n",
    "headers_list = list(df.columns)\n",
    "print(headers_list)\n",
    "print(df['vote'].unique())"
   ],
   "metadata": {
    "collapsed": false,
    "ExecuteTime": {
     "end_time": "2025-05-11T13:30:28.829973Z",
     "start_time": "2025-05-11T13:29:38.517557Z"
    }
   },
   "id": "initial_id"
  },
  {
   "cell_type": "code",
   "execution_count": 27,
   "outputs": [
    {
     "data": {
      "text/plain": "       full name country                                     national_party  \\\n0  Adamos Adamou  Cyprus  Anorthotiko Komma Ergazomenou Laou - Aristera ...   \n1  Adamos Adamou  Cyprus  Anorthotiko Komma Ergazomenou Laou - Aristera ...   \n2  Adamos Adamou  Cyprus  Anorthotiko Komma Ergazomenou Laou - Aristera ...   \n3  Adamos Adamou  Cyprus  Anorthotiko Komma Ergazomenou Laou - Aristera ...   \n4  Adamos Adamou  Cyprus  Anorthotiko Komma Ergazomenou Laou - Aristera ...   \n\n                                                 epg   mep_id vote_code  vote  \\\n0  Confederal Group of the European United Left -...  28469.0     EP6-1   1.0   \n1  Confederal Group of the European United Left -...  28469.0     EP6-2   1.0   \n2  Confederal Group of the European United Left -...  28469.0     EP6-3   1.0   \n3  Confederal Group of the European United Left -...  28469.0     EP6-4   1.0   \n4  Confederal Group of the European United Left -...  28469.0     EP6-5   1.0   \n\n         date                            title policy_area ep_session    year  \\\n0  2004-09-15   EU-Mauritius fishing agreement   fisheries        EP6  2004.0   \n1  2004-09-15   EU-Mauritius fishing agreement   fisheries        EP6  2004.0   \n2  2004-09-15  EU-Madagascar Fishing agreement   fisheries        EP6  2004.0   \n3  2004-09-15  EU-Madagascar Fishing agreement   fisheries        EP6  2004.0   \n4  2004-09-15  EU-Cape Verde Fishing agreement   fisheries        EP6  2004.0   \n\n   month policy_area_cleaned  \n0    9.0           fisheries  \n1    9.0           fisheries  \n2    9.0           fisheries  \n3    9.0           fisheries  \n4    9.0           fisheries  ",
      "text/html": "<div>\n<style scoped>\n    .dataframe tbody tr th:only-of-type {\n        vertical-align: middle;\n    }\n\n    .dataframe tbody tr th {\n        vertical-align: top;\n    }\n\n    .dataframe thead th {\n        text-align: right;\n    }\n</style>\n<table border=\"1\" class=\"dataframe\">\n  <thead>\n    <tr style=\"text-align: right;\">\n      <th></th>\n      <th>full name</th>\n      <th>country</th>\n      <th>national_party</th>\n      <th>epg</th>\n      <th>mep_id</th>\n      <th>vote_code</th>\n      <th>vote</th>\n      <th>date</th>\n      <th>title</th>\n      <th>policy_area</th>\n      <th>ep_session</th>\n      <th>year</th>\n      <th>month</th>\n      <th>policy_area_cleaned</th>\n    </tr>\n  </thead>\n  <tbody>\n    <tr>\n      <th>0</th>\n      <td>Adamos Adamou</td>\n      <td>Cyprus</td>\n      <td>Anorthotiko Komma Ergazomenou Laou - Aristera ...</td>\n      <td>Confederal Group of the European United Left -...</td>\n      <td>28469.0</td>\n      <td>EP6-1</td>\n      <td>1.0</td>\n      <td>2004-09-15</td>\n      <td>EU-Mauritius fishing agreement</td>\n      <td>fisheries</td>\n      <td>EP6</td>\n      <td>2004.0</td>\n      <td>9.0</td>\n      <td>fisheries</td>\n    </tr>\n    <tr>\n      <th>1</th>\n      <td>Adamos Adamou</td>\n      <td>Cyprus</td>\n      <td>Anorthotiko Komma Ergazomenou Laou - Aristera ...</td>\n      <td>Confederal Group of the European United Left -...</td>\n      <td>28469.0</td>\n      <td>EP6-2</td>\n      <td>1.0</td>\n      <td>2004-09-15</td>\n      <td>EU-Mauritius fishing agreement</td>\n      <td>fisheries</td>\n      <td>EP6</td>\n      <td>2004.0</td>\n      <td>9.0</td>\n      <td>fisheries</td>\n    </tr>\n    <tr>\n      <th>2</th>\n      <td>Adamos Adamou</td>\n      <td>Cyprus</td>\n      <td>Anorthotiko Komma Ergazomenou Laou - Aristera ...</td>\n      <td>Confederal Group of the European United Left -...</td>\n      <td>28469.0</td>\n      <td>EP6-3</td>\n      <td>1.0</td>\n      <td>2004-09-15</td>\n      <td>EU-Madagascar Fishing agreement</td>\n      <td>fisheries</td>\n      <td>EP6</td>\n      <td>2004.0</td>\n      <td>9.0</td>\n      <td>fisheries</td>\n    </tr>\n    <tr>\n      <th>3</th>\n      <td>Adamos Adamou</td>\n      <td>Cyprus</td>\n      <td>Anorthotiko Komma Ergazomenou Laou - Aristera ...</td>\n      <td>Confederal Group of the European United Left -...</td>\n      <td>28469.0</td>\n      <td>EP6-4</td>\n      <td>1.0</td>\n      <td>2004-09-15</td>\n      <td>EU-Madagascar Fishing agreement</td>\n      <td>fisheries</td>\n      <td>EP6</td>\n      <td>2004.0</td>\n      <td>9.0</td>\n      <td>fisheries</td>\n    </tr>\n    <tr>\n      <th>4</th>\n      <td>Adamos Adamou</td>\n      <td>Cyprus</td>\n      <td>Anorthotiko Komma Ergazomenou Laou - Aristera ...</td>\n      <td>Confederal Group of the European United Left -...</td>\n      <td>28469.0</td>\n      <td>EP6-5</td>\n      <td>1.0</td>\n      <td>2004-09-15</td>\n      <td>EU-Cape Verde Fishing agreement</td>\n      <td>fisheries</td>\n      <td>EP6</td>\n      <td>2004.0</td>\n      <td>9.0</td>\n      <td>fisheries</td>\n    </tr>\n  </tbody>\n</table>\n</div>"
     },
     "execution_count": 27,
     "metadata": {},
     "output_type": "execute_result"
    }
   ],
   "source": [
    "df.head()"
   ],
   "metadata": {
    "collapsed": false,
    "ExecuteTime": {
     "end_time": "2025-05-11T13:30:28.839825Z",
     "start_time": "2025-05-11T13:30:28.832937Z"
    }
   },
   "id": "9c26cc443519ebb4"
  },
  {
   "cell_type": "code",
   "execution_count": 27,
   "outputs": [],
   "source": [],
   "metadata": {
    "collapsed": false,
    "ExecuteTime": {
     "end_time": "2025-05-11T13:30:28.839988Z",
     "start_time": "2025-05-11T13:30:28.835478Z"
    }
   },
   "id": "84f53c54956f387b"
  },
  {
   "cell_type": "markdown",
   "source": [
    "## Cleaning the group names"
   ],
   "metadata": {
    "collapsed": false
   },
   "id": "9baa55f4126926e4"
  },
  {
   "cell_type": "code",
   "execution_count": 28,
   "outputs": [
    {
     "name": "stdout",
     "output_type": "stream",
     "text": [
      "['The Left' 'IDG' 'EPP' 'NI' 'ALDE' 'S&D' 'UEN' 'Greens/EFA' 'EFD' 'ECR'\n",
      " nan 'EFDD' 'ENF' 'REG']\n"
     ]
    }
   ],
   "source": [
    "# 1) Define a mapping from full names → abbreviations\n",
    "epg_map = {\n",
    "    'Confederal Group of the European United Left - Nordic Green Left': 'The Left',\n",
    "    'Independence/Democracy Group':                           'IDG',\n",
    "    \"Group of the European People's Party (Christian Democrats) and European Democrats\": 'EPP',\n",
    "    \"Group of the European People's Party (Christian Democrats)\":                     'EPP',\n",
    "    'Non-attached Members':                                     'NI',\n",
    "    'Group of the Alliance of Liberals and Democrats for Europe': 'ALDE',\n",
    "    'Socialist Group in the European Parliament':                'S&D',\n",
    "    'Group of the Progressive Alliance of Socialists and Democrats in the European Parliament': 'S&D',\n",
    "    'Union for Europe of the Nations Group':                     'UEN',\n",
    "    'Group of the Greens/European Free Alliance':                'Greens/EFA',\n",
    "    'Europe of freedom and democracy Group':                     'EFD',\n",
    "    'Europe of Freedom and Direct Democracy Group':              'EFDD',\n",
    "    'Europe of Nations and Freedom Group':                       'ENF',\n",
    "    'European Conservatives and Reformists Group':               'ECR',\n",
    "}\n",
    "\n",
    "# 2) Replace (and leave existing abbreviations intact)\n",
    "df['epg'] = df['epg'].replace(epg_map)\n",
    "\n",
    "# 4) Check\n",
    "print(df['epg'].unique())\n"
   ],
   "metadata": {
    "collapsed": false,
    "ExecuteTime": {
     "end_time": "2025-05-11T13:30:38.434186Z",
     "start_time": "2025-05-11T13:30:29.289867Z"
    }
   },
   "id": "851c481a43553f56"
  },
  {
   "cell_type": "markdown",
   "source": [
    "## Rice Index"
   ],
   "metadata": {
    "collapsed": false
   },
   "id": "9e4822a01d518e58"
  },
  {
   "cell_type": "code",
   "execution_count": 29,
   "outputs": [],
   "source": [
    "def rice_index(yes, no, abstain):\n",
    "    return abs(yes - no) / (yes + no + abstain)"
   ],
   "metadata": {
    "collapsed": false,
    "ExecuteTime": {
     "end_time": "2025-05-11T13:30:38.439031Z",
     "start_time": "2025-05-11T13:30:38.434383Z"
    }
   },
   "id": "9dd06bdf7ec46372"
  },
  {
   "cell_type": "markdown",
   "source": [
    "## Overall parliament agreement by year"
   ],
   "metadata": {
    "collapsed": false
   },
   "id": "41a9199e49f61dc0"
  },
  {
   "cell_type": "code",
   "execution_count": 30,
   "outputs": [],
   "source": [
    "# keep only real votes\n",
    "df_votes = df[df['vote_code'].notna() & df['vote'].isin([1,2,3])].copy()\n",
    "\n",
    "# count yes/no/abstain per roll-call (vote_code) & year\n",
    "counts = (\n",
    "    df_votes\n",
    "    .groupby(['vote_code','year'])['vote']\n",
    "    .value_counts()\n",
    "    .unstack(fill_value=0)\n",
    "    .rename(columns={1:'yes', 2:'no', 3:'abstain'})\n",
    "    .reset_index()\n",
    ")\n",
    "\n",
    "# compute Rice for each vote_code\n",
    "counts['rice'] = counts.apply(lambda r: rice_index(r.yes, r.no, r.abstain), axis=1)\n",
    "\n",
    "# average across all vote_codes in each year\n",
    "yearly = (\n",
    "    counts\n",
    "    .groupby('year')['rice']\n",
    "    .mean()\n",
    "    .reset_index()\n",
    "    .sort_values('year')\n",
    ")"
   ],
   "metadata": {
    "collapsed": false,
    "ExecuteTime": {
     "end_time": "2025-05-11T13:30:54.755222Z",
     "start_time": "2025-05-11T13:30:38.436255Z"
    }
   },
   "id": "c95f8167cf33d39e"
  },
  {
   "cell_type": "code",
   "execution_count": 32,
   "outputs": [],
   "source": [
    "# 5. Within-party agreement by year\n",
    "#    Count yes/no/abstain per (party, vote_code, year)\n",
    "pv = (\n",
    "    df_votes\n",
    "    .groupby(['epg', 'vote_code', 'year'])['vote']\n",
    "    .value_counts()\n",
    "    .unstack(fill_value=0)\n",
    "    .rename(columns={1: 'yes', 2: 'no', 3: 'abstain'})\n",
    "    .reset_index()\n",
    ")\n",
    "pv['rice'] = pv.apply(lambda r: rice_index(r.yes, r.no, r.abstain), axis=1)\n",
    "\n",
    "# Average Rice per party & year, pivot so each party is a column\n",
    "party_year = (\n",
    "    pv\n",
    "    .groupby(['epg', 'year'])['rice']\n",
    "    .mean()\n",
    "    .reset_index()\n",
    "    .pivot(index='year', columns='epg', values='rice')\n",
    "    .sort_index()\n",
    ")\n"
   ],
   "metadata": {
    "collapsed": false,
    "ExecuteTime": {
     "end_time": "2025-05-11T13:30:59.715949Z",
     "start_time": "2025-05-11T13:30:55.487613Z"
    }
   },
   "id": "d81aa3636dbcc36d"
  },
  {
   "cell_type": "code",
   "execution_count": 39,
   "outputs": [
    {
     "ename": "KeyError",
     "evalue": "'epg'",
     "output_type": "error",
     "traceback": [
      "\u001B[0;31m---------------------------------------------------------------------------\u001B[0m",
      "\u001B[0;31mKeyError\u001B[0m                                  Traceback (most recent call last)",
      "File \u001B[0;32m~/anaconda3/envs/ada/lib/python3.9/site-packages/pandas/core/indexes/base.py:3791\u001B[0m, in \u001B[0;36mIndex.get_loc\u001B[0;34m(self, key)\u001B[0m\n\u001B[1;32m   3790\u001B[0m \u001B[38;5;28;01mtry\u001B[39;00m:\n\u001B[0;32m-> 3791\u001B[0m     \u001B[38;5;28;01mreturn\u001B[39;00m \u001B[38;5;28;43mself\u001B[39;49m\u001B[38;5;241;43m.\u001B[39;49m\u001B[43m_engine\u001B[49m\u001B[38;5;241;43m.\u001B[39;49m\u001B[43mget_loc\u001B[49m\u001B[43m(\u001B[49m\u001B[43mcasted_key\u001B[49m\u001B[43m)\u001B[49m\n\u001B[1;32m   3792\u001B[0m \u001B[38;5;28;01mexcept\u001B[39;00m \u001B[38;5;167;01mKeyError\u001B[39;00m \u001B[38;5;28;01mas\u001B[39;00m err:\n",
      "File \u001B[0;32mindex.pyx:152\u001B[0m, in \u001B[0;36mpandas._libs.index.IndexEngine.get_loc\u001B[0;34m()\u001B[0m\n",
      "File \u001B[0;32mindex.pyx:181\u001B[0m, in \u001B[0;36mpandas._libs.index.IndexEngine.get_loc\u001B[0;34m()\u001B[0m\n",
      "File \u001B[0;32mpandas/_libs/hashtable_class_helper.pxi:7080\u001B[0m, in \u001B[0;36mpandas._libs.hashtable.PyObjectHashTable.get_item\u001B[0;34m()\u001B[0m\n",
      "File \u001B[0;32mpandas/_libs/hashtable_class_helper.pxi:7088\u001B[0m, in \u001B[0;36mpandas._libs.hashtable.PyObjectHashTable.get_item\u001B[0;34m()\u001B[0m\n",
      "\u001B[0;31mKeyError\u001B[0m: 'epg'",
      "\nThe above exception was the direct cause of the following exception:\n",
      "\u001B[0;31mKeyError\u001B[0m                                  Traceback (most recent call last)",
      "Cell \u001B[0;32mIn[39], line 22\u001B[0m\n\u001B[1;32m     10\u001B[0m pp[\u001B[38;5;124m'\u001B[39m\u001B[38;5;124mrice\u001B[39m\u001B[38;5;124m'\u001B[39m] \u001B[38;5;241m=\u001B[39m pp\u001B[38;5;241m.\u001B[39mapply(\u001B[38;5;28;01mlambda\u001B[39;00m r: rice_index(r\u001B[38;5;241m.\u001B[39myes, r\u001B[38;5;241m.\u001B[39mno, r\u001B[38;5;241m.\u001B[39mabstain), axis\u001B[38;5;241m=\u001B[39m\u001B[38;5;241m1\u001B[39m)\n\u001B[1;32m     12\u001B[0m policy_year \u001B[38;5;241m=\u001B[39m (\n\u001B[1;32m     13\u001B[0m     pp\n\u001B[1;32m     14\u001B[0m     \u001B[38;5;241m.\u001B[39mgroupby([\u001B[38;5;124m'\u001B[39m\u001B[38;5;124mpolicy_area_cleaned\u001B[39m\u001B[38;5;124m'\u001B[39m, \u001B[38;5;124m'\u001B[39m\u001B[38;5;124myear\u001B[39m\u001B[38;5;124m'\u001B[39m])[\u001B[38;5;124m'\u001B[39m\u001B[38;5;124mrice\u001B[39m\u001B[38;5;124m'\u001B[39m]\n\u001B[0;32m   (...)\u001B[0m\n\u001B[1;32m     18\u001B[0m     \u001B[38;5;241m.\u001B[39msort_index()\n\u001B[1;32m     19\u001B[0m )\n\u001B[1;32m     21\u001B[0m party_policy \u001B[38;5;241m=\u001B[39m (\n\u001B[0;32m---> 22\u001B[0m     \u001B[43mpp\u001B[49m\n\u001B[1;32m     23\u001B[0m \u001B[43m    \u001B[49m\u001B[38;5;241;43m.\u001B[39;49m\u001B[43mpivot\u001B[49m\u001B[43m(\u001B[49m\u001B[43mindex\u001B[49m\u001B[38;5;241;43m=\u001B[39;49m\u001B[38;5;124;43m'\u001B[39;49m\u001B[38;5;124;43mpolicy_area_cleaned\u001B[39;49m\u001B[38;5;124;43m'\u001B[39;49m\u001B[43m,\u001B[49m\u001B[43m \u001B[49m\u001B[43mcolumns\u001B[49m\u001B[38;5;241;43m=\u001B[39;49m\u001B[38;5;124;43m'\u001B[39;49m\u001B[38;5;124;43mepg\u001B[39;49m\u001B[38;5;124;43m'\u001B[39;49m\u001B[43m,\u001B[49m\u001B[43m \u001B[49m\u001B[43mvalues\u001B[49m\u001B[38;5;241;43m=\u001B[39;49m\u001B[38;5;124;43m'\u001B[39;49m\u001B[38;5;124;43mrice\u001B[39;49m\u001B[38;5;124;43m'\u001B[39;49m\u001B[43m)\u001B[49m\n\u001B[1;32m     24\u001B[0m     \u001B[38;5;241m.\u001B[39mfillna(\u001B[38;5;241m0\u001B[39m)               \u001B[38;5;66;03m# in case some party never voted in an area\u001B[39;00m\n\u001B[1;32m     25\u001B[0m     \u001B[38;5;241m.\u001B[39msort_index()\n\u001B[1;32m     26\u001B[0m )\n",
      "File \u001B[0;32m~/anaconda3/envs/ada/lib/python3.9/site-packages/pandas/core/frame.py:9025\u001B[0m, in \u001B[0;36mDataFrame.pivot\u001B[0;34m(self, columns, index, values)\u001B[0m\n\u001B[1;32m   9018\u001B[0m \u001B[38;5;129m@Substitution\u001B[39m(\u001B[38;5;124m\"\u001B[39m\u001B[38;5;124m\"\u001B[39m)\n\u001B[1;32m   9019\u001B[0m \u001B[38;5;129m@Appender\u001B[39m(_shared_docs[\u001B[38;5;124m\"\u001B[39m\u001B[38;5;124mpivot\u001B[39m\u001B[38;5;124m\"\u001B[39m])\n\u001B[1;32m   9020\u001B[0m \u001B[38;5;28;01mdef\u001B[39;00m \u001B[38;5;21mpivot\u001B[39m(\n\u001B[1;32m   9021\u001B[0m     \u001B[38;5;28mself\u001B[39m, \u001B[38;5;241m*\u001B[39m, columns, index\u001B[38;5;241m=\u001B[39mlib\u001B[38;5;241m.\u001B[39mno_default, values\u001B[38;5;241m=\u001B[39mlib\u001B[38;5;241m.\u001B[39mno_default\n\u001B[1;32m   9022\u001B[0m ) \u001B[38;5;241m-\u001B[39m\u001B[38;5;241m>\u001B[39m DataFrame:\n\u001B[1;32m   9023\u001B[0m     \u001B[38;5;28;01mfrom\u001B[39;00m \u001B[38;5;21;01mpandas\u001B[39;00m\u001B[38;5;21;01m.\u001B[39;00m\u001B[38;5;21;01mcore\u001B[39;00m\u001B[38;5;21;01m.\u001B[39;00m\u001B[38;5;21;01mreshape\u001B[39;00m\u001B[38;5;21;01m.\u001B[39;00m\u001B[38;5;21;01mpivot\u001B[39;00m \u001B[38;5;28;01mimport\u001B[39;00m pivot\n\u001B[0;32m-> 9025\u001B[0m     \u001B[38;5;28;01mreturn\u001B[39;00m \u001B[43mpivot\u001B[49m\u001B[43m(\u001B[49m\u001B[38;5;28;43mself\u001B[39;49m\u001B[43m,\u001B[49m\u001B[43m \u001B[49m\u001B[43mindex\u001B[49m\u001B[38;5;241;43m=\u001B[39;49m\u001B[43mindex\u001B[49m\u001B[43m,\u001B[49m\u001B[43m \u001B[49m\u001B[43mcolumns\u001B[49m\u001B[38;5;241;43m=\u001B[39;49m\u001B[43mcolumns\u001B[49m\u001B[43m,\u001B[49m\u001B[43m \u001B[49m\u001B[43mvalues\u001B[49m\u001B[38;5;241;43m=\u001B[39;49m\u001B[43mvalues\u001B[49m\u001B[43m)\u001B[49m\n",
      "File \u001B[0;32m~/anaconda3/envs/ada/lib/python3.9/site-packages/pandas/core/reshape/pivot.py:538\u001B[0m, in \u001B[0;36mpivot\u001B[0;34m(data, columns, index, values)\u001B[0m\n\u001B[1;32m    535\u001B[0m \u001B[38;5;28;01melse\u001B[39;00m:\n\u001B[1;32m    536\u001B[0m     index_list \u001B[38;5;241m=\u001B[39m [data[idx] \u001B[38;5;28;01mfor\u001B[39;00m idx \u001B[38;5;129;01min\u001B[39;00m com\u001B[38;5;241m.\u001B[39mconvert_to_list_like(index)]\n\u001B[0;32m--> 538\u001B[0m data_columns \u001B[38;5;241m=\u001B[39m [data[col] \u001B[38;5;28;01mfor\u001B[39;00m col \u001B[38;5;129;01min\u001B[39;00m columns_listlike]\n\u001B[1;32m    539\u001B[0m index_list\u001B[38;5;241m.\u001B[39mextend(data_columns)\n\u001B[1;32m    540\u001B[0m multiindex \u001B[38;5;241m=\u001B[39m MultiIndex\u001B[38;5;241m.\u001B[39mfrom_arrays(index_list)\n",
      "File \u001B[0;32m~/anaconda3/envs/ada/lib/python3.9/site-packages/pandas/core/reshape/pivot.py:538\u001B[0m, in \u001B[0;36m<listcomp>\u001B[0;34m(.0)\u001B[0m\n\u001B[1;32m    535\u001B[0m \u001B[38;5;28;01melse\u001B[39;00m:\n\u001B[1;32m    536\u001B[0m     index_list \u001B[38;5;241m=\u001B[39m [data[idx] \u001B[38;5;28;01mfor\u001B[39;00m idx \u001B[38;5;129;01min\u001B[39;00m com\u001B[38;5;241m.\u001B[39mconvert_to_list_like(index)]\n\u001B[0;32m--> 538\u001B[0m data_columns \u001B[38;5;241m=\u001B[39m [\u001B[43mdata\u001B[49m\u001B[43m[\u001B[49m\u001B[43mcol\u001B[49m\u001B[43m]\u001B[49m \u001B[38;5;28;01mfor\u001B[39;00m col \u001B[38;5;129;01min\u001B[39;00m columns_listlike]\n\u001B[1;32m    539\u001B[0m index_list\u001B[38;5;241m.\u001B[39mextend(data_columns)\n\u001B[1;32m    540\u001B[0m multiindex \u001B[38;5;241m=\u001B[39m MultiIndex\u001B[38;5;241m.\u001B[39mfrom_arrays(index_list)\n",
      "File \u001B[0;32m~/anaconda3/envs/ada/lib/python3.9/site-packages/pandas/core/frame.py:3893\u001B[0m, in \u001B[0;36mDataFrame.__getitem__\u001B[0;34m(self, key)\u001B[0m\n\u001B[1;32m   3891\u001B[0m \u001B[38;5;28;01mif\u001B[39;00m \u001B[38;5;28mself\u001B[39m\u001B[38;5;241m.\u001B[39mcolumns\u001B[38;5;241m.\u001B[39mnlevels \u001B[38;5;241m>\u001B[39m \u001B[38;5;241m1\u001B[39m:\n\u001B[1;32m   3892\u001B[0m     \u001B[38;5;28;01mreturn\u001B[39;00m \u001B[38;5;28mself\u001B[39m\u001B[38;5;241m.\u001B[39m_getitem_multilevel(key)\n\u001B[0;32m-> 3893\u001B[0m indexer \u001B[38;5;241m=\u001B[39m \u001B[38;5;28;43mself\u001B[39;49m\u001B[38;5;241;43m.\u001B[39;49m\u001B[43mcolumns\u001B[49m\u001B[38;5;241;43m.\u001B[39;49m\u001B[43mget_loc\u001B[49m\u001B[43m(\u001B[49m\u001B[43mkey\u001B[49m\u001B[43m)\u001B[49m\n\u001B[1;32m   3894\u001B[0m \u001B[38;5;28;01mif\u001B[39;00m is_integer(indexer):\n\u001B[1;32m   3895\u001B[0m     indexer \u001B[38;5;241m=\u001B[39m [indexer]\n",
      "File \u001B[0;32m~/anaconda3/envs/ada/lib/python3.9/site-packages/pandas/core/indexes/base.py:3798\u001B[0m, in \u001B[0;36mIndex.get_loc\u001B[0;34m(self, key)\u001B[0m\n\u001B[1;32m   3793\u001B[0m     \u001B[38;5;28;01mif\u001B[39;00m \u001B[38;5;28misinstance\u001B[39m(casted_key, \u001B[38;5;28mslice\u001B[39m) \u001B[38;5;129;01mor\u001B[39;00m (\n\u001B[1;32m   3794\u001B[0m         \u001B[38;5;28misinstance\u001B[39m(casted_key, abc\u001B[38;5;241m.\u001B[39mIterable)\n\u001B[1;32m   3795\u001B[0m         \u001B[38;5;129;01mand\u001B[39;00m \u001B[38;5;28many\u001B[39m(\u001B[38;5;28misinstance\u001B[39m(x, \u001B[38;5;28mslice\u001B[39m) \u001B[38;5;28;01mfor\u001B[39;00m x \u001B[38;5;129;01min\u001B[39;00m casted_key)\n\u001B[1;32m   3796\u001B[0m     ):\n\u001B[1;32m   3797\u001B[0m         \u001B[38;5;28;01mraise\u001B[39;00m InvalidIndexError(key)\n\u001B[0;32m-> 3798\u001B[0m     \u001B[38;5;28;01mraise\u001B[39;00m \u001B[38;5;167;01mKeyError\u001B[39;00m(key) \u001B[38;5;28;01mfrom\u001B[39;00m \u001B[38;5;21;01merr\u001B[39;00m\n\u001B[1;32m   3799\u001B[0m \u001B[38;5;28;01mexcept\u001B[39;00m \u001B[38;5;167;01mTypeError\u001B[39;00m:\n\u001B[1;32m   3800\u001B[0m     \u001B[38;5;66;03m# If we have a listlike key, _check_indexing_error will raise\u001B[39;00m\n\u001B[1;32m   3801\u001B[0m     \u001B[38;5;66;03m#  InvalidIndexError. Otherwise we fall through and re-raise\u001B[39;00m\n\u001B[1;32m   3802\u001B[0m     \u001B[38;5;66;03m#  the TypeError.\u001B[39;00m\n\u001B[1;32m   3803\u001B[0m     \u001B[38;5;28mself\u001B[39m\u001B[38;5;241m.\u001B[39m_check_indexing_error(key)\n",
      "\u001B[0;31mKeyError\u001B[0m: 'epg'"
     ]
    }
   ],
   "source": [
    "# 6. Agreement by policy area by year\n",
    "pp = (\n",
    "    df_votes\n",
    "    .groupby(['policy_area_cleaned', 'vote_code', 'year'])['vote']\n",
    "    .value_counts()\n",
    "    .unstack(fill_value=0)\n",
    "    .rename(columns={1: 'yes', 2: 'no', 3: 'abstain'})\n",
    "    .reset_index()\n",
    ")\n",
    "pp['rice'] = pp.apply(lambda r: rice_index(r.yes, r.no, r.abstain), axis=1)\n",
    "\n",
    "policy_year = (\n",
    "    pp\n",
    "    .groupby(['policy_area_cleaned', 'year'])['rice']\n",
    "    .mean()\n",
    "    .reset_index()\n",
    "    .pivot(index='year', columns='policy_area_cleaned', values='rice')\n",
    "    .sort_index()\n",
    ")\n"
   ],
   "metadata": {
    "collapsed": false,
    "ExecuteTime": {
     "end_time": "2025-05-11T13:41:37.125286Z",
     "start_time": "2025-05-11T13:41:34.231321Z"
    }
   },
   "id": "6beb863214d4bfa5"
  },
  {
   "cell_type": "code",
   "execution_count": 37,
   "outputs": [
    {
     "data": {
      "text/html": "    <style>\n        .bk-notebook-logo {\n            display: block;\n            width: 20px;\n            height: 20px;\n            background-image: url(data:image/png;base64,iVBORw0KGgoAAAANSUhEUgAAABQAAAAUCAYAAACNiR0NAAAABHNCSVQICAgIfAhkiAAAAAlwSFlzAAALEgAACxIB0t1+/AAAABx0RVh0U29mdHdhcmUAQWRvYmUgRmlyZXdvcmtzIENTNui8sowAAAOkSURBVDiNjZRtaJVlGMd/1/08zzln5zjP1LWcU9N0NkN8m2CYjpgQYQXqSs0I84OLIC0hkEKoPtiH3gmKoiJDU7QpLgoLjLIQCpEsNJ1vqUOdO7ppbuec5+V+rj4ctwzd8IIbbi6u+8f1539dt3A78eXC7QizUF7gyV1fD1Yqg4JWz84yffhm0qkFqBogB9rM8tZdtwVsPUhWhGcFJngGeWrPzHm5oaMmkfEg1usvLFyc8jLRqDOMru7AyC8saQr7GG7f5fvDeH7Ej8CM66nIF+8yngt6HWaKh7k49Soy9nXurCi1o3qUbS3zWfrYeQDTB/Qj6kX6Ybhw4B+bOYoLKCC9H3Nu/leUTZ1JdRWkkn2ldcCamzrcf47KKXdAJllSlxAOkRgyHsGC/zRday5Qld9DyoM4/q/rUoy/CXh3jzOu3bHUVZeU+DEn8FInkPBFlu3+nW3Nw0mk6vCDiWg8CeJaxEwuHS3+z5RgY+YBR6V1Z1nxSOfoaPa4LASWxxdNp+VWTk7+4vzaou8v8PN+xo+KY2xsw6une2frhw05CTYOmQvsEhjhWjn0bmXPjpE1+kplmmkP3suftwTubK9Vq22qKmrBhpY4jvd5afdRA3wGjFAgcnTK2s4hY0/GPNIb0nErGMCRxWOOX64Z8RAC4oCXdklmEvcL8o0BfkNK4lUg9HTl+oPlQxdNo3Mg4Nv175e/1LDGzZen30MEjRUtmXSfiTVu1kK8W4txyV6BMKlbgk3lMwYCiusNy9fVfvvwMxv8Ynl6vxoByANLTWplvuj/nF9m2+PDtt1eiHPBr1oIfhCChQMBw6Aw0UulqTKZdfVvfG7VcfIqLG9bcldL/+pdWTLxLUy8Qq38heUIjh4XlzZxzQm19lLFlr8vdQ97rjZVOLf8nclzckbcD4wxXMidpX30sFd37Fv/GtwwhzhxGVAprjbg0gCAEeIgwCZyTV2Z1REEW8O4py0wsjeloKoMr6iCY6dP92H6Vw/oTyICIthibxjm/DfN9lVz8IqtqKYLUXfoKVMVQVVJOElGjrnnUt9T9wbgp8AyYKaGlqingHZU/uG2NTZSVqwHQTWkx9hxjkpWDaCg6Ckj5qebgBVbT3V3NNXMSiWSDdGV3hrtzla7J+duwPOToIg42ChPQOQjspnSlp1V+Gjdged7+8UN5CRAV7a5EdFNwCjEaBR27b3W890TE7g24NAP/mMDXRWrGoFPQI9ls/MWO2dWFAar/xcOIImbbpA3zgAAAABJRU5ErkJggg==);\n        }\n    </style>\n    <div>\n        <a href=\"https://bokeh.org\" target=\"_blank\" class=\"bk-notebook-logo\"></a>\n        <span id=\"bded8a14-1bf9-4b11-9509-07c40548e2af\">Loading BokehJS ...</span>\n    </div>\n"
     },
     "metadata": {},
     "output_type": "display_data"
    },
    {
     "data": {
      "application/javascript": "'use strict';\n(function(root) {\n  function now() {\n    return new Date();\n  }\n\n  const force = true;\n\n  if (typeof root._bokeh_onload_callbacks === \"undefined\" || force === true) {\n    root._bokeh_onload_callbacks = [];\n    root._bokeh_is_loading = undefined;\n  }\n\nconst JS_MIME_TYPE = 'application/javascript';\n  const HTML_MIME_TYPE = 'text/html';\n  const EXEC_MIME_TYPE = 'application/vnd.bokehjs_exec.v0+json';\n  const CLASS_NAME = 'output_bokeh rendered_html';\n\n  /**\n   * Render data to the DOM node\n   */\n  function render(props, node) {\n    const script = document.createElement(\"script\");\n    node.appendChild(script);\n  }\n\n  /**\n   * Handle when an output is cleared or removed\n   */\n  function handleClearOutput(event, handle) {\n    function drop(id) {\n      const view = Bokeh.index.get_by_id(id)\n      if (view != null) {\n        view.model.document.clear()\n        Bokeh.index.delete(view)\n      }\n    }\n\n    const cell = handle.cell;\n\n    const id = cell.output_area._bokeh_element_id;\n    const server_id = cell.output_area._bokeh_server_id;\n\n    // Clean up Bokeh references\n    if (id != null) {\n      drop(id)\n    }\n\n    if (server_id !== undefined) {\n      // Clean up Bokeh references\n      const cmd_clean = \"from bokeh.io.state import curstate; print(curstate().uuid_to_server['\" + server_id + \"'].get_sessions()[0].document.roots[0]._id)\";\n      cell.notebook.kernel.execute(cmd_clean, {\n        iopub: {\n          output: function(msg) {\n            const id = msg.content.text.trim()\n            drop(id)\n          }\n        }\n      });\n      // Destroy server and session\n      const cmd_destroy = \"import bokeh.io.notebook as ion; ion.destroy_server('\" + server_id + \"')\";\n      cell.notebook.kernel.execute(cmd_destroy);\n    }\n  }\n\n  /**\n   * Handle when a new output is added\n   */\n  function handleAddOutput(event, handle) {\n    const output_area = handle.output_area;\n    const output = handle.output;\n\n    // limit handleAddOutput to display_data with EXEC_MIME_TYPE content only\n    if ((output.output_type != \"display_data\") || (!Object.prototype.hasOwnProperty.call(output.data, EXEC_MIME_TYPE))) {\n      return\n    }\n\n    const toinsert = output_area.element.find(\".\" + CLASS_NAME.split(' ')[0]);\n\n    if (output.metadata[EXEC_MIME_TYPE][\"id\"] !== undefined) {\n      toinsert[toinsert.length - 1].firstChild.textContent = output.data[JS_MIME_TYPE];\n      // store reference to embed id on output_area\n      output_area._bokeh_element_id = output.metadata[EXEC_MIME_TYPE][\"id\"];\n    }\n    if (output.metadata[EXEC_MIME_TYPE][\"server_id\"] !== undefined) {\n      const bk_div = document.createElement(\"div\");\n      bk_div.innerHTML = output.data[HTML_MIME_TYPE];\n      const script_attrs = bk_div.children[0].attributes;\n      for (let i = 0; i < script_attrs.length; i++) {\n        toinsert[toinsert.length - 1].firstChild.setAttribute(script_attrs[i].name, script_attrs[i].value);\n        toinsert[toinsert.length - 1].firstChild.textContent = bk_div.children[0].textContent\n      }\n      // store reference to server id on output_area\n      output_area._bokeh_server_id = output.metadata[EXEC_MIME_TYPE][\"server_id\"];\n    }\n  }\n\n  function register_renderer(events, OutputArea) {\n\n    function append_mime(data, metadata, element) {\n      // create a DOM node to render to\n      const toinsert = this.create_output_subarea(\n        metadata,\n        CLASS_NAME,\n        EXEC_MIME_TYPE\n      );\n      this.keyboard_manager.register_events(toinsert);\n      // Render to node\n      const props = {data: data, metadata: metadata[EXEC_MIME_TYPE]};\n      render(props, toinsert[toinsert.length - 1]);\n      element.append(toinsert);\n      return toinsert\n    }\n\n    /* Handle when an output is cleared or removed */\n    events.on('clear_output.CodeCell', handleClearOutput);\n    events.on('delete.Cell', handleClearOutput);\n\n    /* Handle when a new output is added */\n    events.on('output_added.OutputArea', handleAddOutput);\n\n    /**\n     * Register the mime type and append_mime function with output_area\n     */\n    OutputArea.prototype.register_mime_type(EXEC_MIME_TYPE, append_mime, {\n      /* Is output safe? */\n      safe: true,\n      /* Index of renderer in `output_area.display_order` */\n      index: 0\n    });\n  }\n\n  // register the mime type if in Jupyter Notebook environment and previously unregistered\n  if (root.Jupyter !== undefined) {\n    const events = require('base/js/events');\n    const OutputArea = require('notebook/js/outputarea').OutputArea;\n\n    if (OutputArea.prototype.mime_types().indexOf(EXEC_MIME_TYPE) == -1) {\n      register_renderer(events, OutputArea);\n    }\n  }\n  if (typeof (root._bokeh_timeout) === \"undefined\" || force === true) {\n    root._bokeh_timeout = Date.now() + 5000;\n    root._bokeh_failed_load = false;\n  }\n\n  const NB_LOAD_WARNING = {'data': {'text/html':\n     \"<div style='background-color: #fdd'>\\n\"+\n     \"<p>\\n\"+\n     \"BokehJS does not appear to have successfully loaded. If loading BokehJS from CDN, this \\n\"+\n     \"may be due to a slow or bad network connection. Possible fixes:\\n\"+\n     \"</p>\\n\"+\n     \"<ul>\\n\"+\n     \"<li>re-rerun `output_notebook()` to attempt to load from CDN again, or</li>\\n\"+\n     \"<li>use INLINE resources instead, as so:</li>\\n\"+\n     \"</ul>\\n\"+\n     \"<code>\\n\"+\n     \"from bokeh.resources import INLINE\\n\"+\n     \"output_notebook(resources=INLINE)\\n\"+\n     \"</code>\\n\"+\n     \"</div>\"}};\n\n  function display_loaded(error = null) {\n    const el = document.getElementById(\"bded8a14-1bf9-4b11-9509-07c40548e2af\");\n    if (el != null) {\n      const html = (() => {\n        if (typeof root.Bokeh === \"undefined\") {\n          if (error == null) {\n            return \"BokehJS is loading ...\";\n          } else {\n            return \"BokehJS failed to load.\";\n          }\n        } else {\n          const prefix = `BokehJS ${root.Bokeh.version}`;\n          if (error == null) {\n            return `${prefix} successfully loaded.`;\n          } else {\n            return `${prefix} <b>encountered errors</b> while loading and may not function as expected.`;\n          }\n        }\n      })();\n      el.innerHTML = html;\n\n      if (error != null) {\n        const wrapper = document.createElement(\"div\");\n        wrapper.style.overflow = \"auto\";\n        wrapper.style.height = \"5em\";\n        wrapper.style.resize = \"vertical\";\n        const content = document.createElement(\"div\");\n        content.style.fontFamily = \"monospace\";\n        content.style.whiteSpace = \"pre-wrap\";\n        content.style.backgroundColor = \"rgb(255, 221, 221)\";\n        content.textContent = error.stack ?? error.toString();\n        wrapper.append(content);\n        el.append(wrapper);\n      }\n    } else if (Date.now() < root._bokeh_timeout) {\n      setTimeout(() => display_loaded(error), 100);\n    }\n  }\n\n  function run_callbacks() {\n    try {\n      root._bokeh_onload_callbacks.forEach(function(callback) {\n        if (callback != null)\n          callback();\n      });\n    } finally {\n      delete root._bokeh_onload_callbacks\n    }\n    console.debug(\"Bokeh: all callbacks have finished\");\n  }\n\n  function load_libs(css_urls, js_urls, callback) {\n    if (css_urls == null) css_urls = [];\n    if (js_urls == null) js_urls = [];\n\n    root._bokeh_onload_callbacks.push(callback);\n    if (root._bokeh_is_loading > 0) {\n      console.debug(\"Bokeh: BokehJS is being loaded, scheduling callback at\", now());\n      return null;\n    }\n    if (js_urls == null || js_urls.length === 0) {\n      run_callbacks();\n      return null;\n    }\n    console.debug(\"Bokeh: BokehJS not loaded, scheduling load and callback at\", now());\n    root._bokeh_is_loading = css_urls.length + js_urls.length;\n\n    function on_load() {\n      root._bokeh_is_loading--;\n      if (root._bokeh_is_loading === 0) {\n        console.debug(\"Bokeh: all BokehJS libraries/stylesheets loaded\");\n        run_callbacks()\n      }\n    }\n\n    function on_error(url) {\n      console.error(\"failed to load \" + url);\n    }\n\n    for (let i = 0; i < css_urls.length; i++) {\n      const url = css_urls[i];\n      const element = document.createElement(\"link\");\n      element.onload = on_load;\n      element.onerror = on_error.bind(null, url);\n      element.rel = \"stylesheet\";\n      element.type = \"text/css\";\n      element.href = url;\n      console.debug(\"Bokeh: injecting link tag for BokehJS stylesheet: \", url);\n      document.body.appendChild(element);\n    }\n\n    for (let i = 0; i < js_urls.length; i++) {\n      const url = js_urls[i];\n      const element = document.createElement('script');\n      element.onload = on_load;\n      element.onerror = on_error.bind(null, url);\n      element.async = false;\n      element.src = url;\n      console.debug(\"Bokeh: injecting script tag for BokehJS library: \", url);\n      document.head.appendChild(element);\n    }\n  };\n\n  function inject_raw_css(css) {\n    const element = document.createElement(\"style\");\n    element.appendChild(document.createTextNode(css));\n    document.body.appendChild(element);\n  }\n\n  const js_urls = [\"https://cdn.bokeh.org/bokeh/release/bokeh-3.4.3.min.js\", \"https://cdn.bokeh.org/bokeh/release/bokeh-gl-3.4.3.min.js\", \"https://cdn.bokeh.org/bokeh/release/bokeh-widgets-3.4.3.min.js\", \"https://cdn.bokeh.org/bokeh/release/bokeh-tables-3.4.3.min.js\", \"https://cdn.bokeh.org/bokeh/release/bokeh-mathjax-3.4.3.min.js\"];\n  const css_urls = [];\n\n  const inline_js = [    function(Bokeh) {\n      Bokeh.set_log_level(\"info\");\n    },\nfunction(Bokeh) {\n    }\n  ];\n\n  function run_inline_js() {\n    if (root.Bokeh !== undefined || force === true) {\n      try {\n            for (let i = 0; i < inline_js.length; i++) {\n      inline_js[i].call(root, root.Bokeh);\n    }\n\n      } catch (error) {display_loaded(error);throw error;\n      }if (force === true) {\n        display_loaded();\n      }} else if (Date.now() < root._bokeh_timeout) {\n      setTimeout(run_inline_js, 100);\n    } else if (!root._bokeh_failed_load) {\n      console.log(\"Bokeh: BokehJS failed to load within specified timeout.\");\n      root._bokeh_failed_load = true;\n    } else if (force !== true) {\n      const cell = $(document.getElementById(\"bded8a14-1bf9-4b11-9509-07c40548e2af\")).parents('.cell').data().cell;\n      cell.output_area.append_execute_result(NB_LOAD_WARNING)\n    }\n  }\n\n  if (root._bokeh_is_loading === 0) {\n    console.debug(\"Bokeh: BokehJS loaded, going straight to plotting\");\n    run_inline_js();\n  } else {\n    load_libs(css_urls, js_urls, function() {\n      console.debug(\"Bokeh: BokehJS plotting callback run at\", now());\n      run_inline_js();\n    });\n  }\n}(window));",
      "application/vnd.bokehjs_load.v0+json": "'use strict';\n(function(root) {\n  function now() {\n    return new Date();\n  }\n\n  const force = true;\n\n  if (typeof root._bokeh_onload_callbacks === \"undefined\" || force === true) {\n    root._bokeh_onload_callbacks = [];\n    root._bokeh_is_loading = undefined;\n  }\n\n\n  if (typeof (root._bokeh_timeout) === \"undefined\" || force === true) {\n    root._bokeh_timeout = Date.now() + 5000;\n    root._bokeh_failed_load = false;\n  }\n\n  const NB_LOAD_WARNING = {'data': {'text/html':\n     \"<div style='background-color: #fdd'>\\n\"+\n     \"<p>\\n\"+\n     \"BokehJS does not appear to have successfully loaded. If loading BokehJS from CDN, this \\n\"+\n     \"may be due to a slow or bad network connection. Possible fixes:\\n\"+\n     \"</p>\\n\"+\n     \"<ul>\\n\"+\n     \"<li>re-rerun `output_notebook()` to attempt to load from CDN again, or</li>\\n\"+\n     \"<li>use INLINE resources instead, as so:</li>\\n\"+\n     \"</ul>\\n\"+\n     \"<code>\\n\"+\n     \"from bokeh.resources import INLINE\\n\"+\n     \"output_notebook(resources=INLINE)\\n\"+\n     \"</code>\\n\"+\n     \"</div>\"}};\n\n  function display_loaded(error = null) {\n    const el = document.getElementById(\"bded8a14-1bf9-4b11-9509-07c40548e2af\");\n    if (el != null) {\n      const html = (() => {\n        if (typeof root.Bokeh === \"undefined\") {\n          if (error == null) {\n            return \"BokehJS is loading ...\";\n          } else {\n            return \"BokehJS failed to load.\";\n          }\n        } else {\n          const prefix = `BokehJS ${root.Bokeh.version}`;\n          if (error == null) {\n            return `${prefix} successfully loaded.`;\n          } else {\n            return `${prefix} <b>encountered errors</b> while loading and may not function as expected.`;\n          }\n        }\n      })();\n      el.innerHTML = html;\n\n      if (error != null) {\n        const wrapper = document.createElement(\"div\");\n        wrapper.style.overflow = \"auto\";\n        wrapper.style.height = \"5em\";\n        wrapper.style.resize = \"vertical\";\n        const content = document.createElement(\"div\");\n        content.style.fontFamily = \"monospace\";\n        content.style.whiteSpace = \"pre-wrap\";\n        content.style.backgroundColor = \"rgb(255, 221, 221)\";\n        content.textContent = error.stack ?? error.toString();\n        wrapper.append(content);\n        el.append(wrapper);\n      }\n    } else if (Date.now() < root._bokeh_timeout) {\n      setTimeout(() => display_loaded(error), 100);\n    }\n  }\n\n  function run_callbacks() {\n    try {\n      root._bokeh_onload_callbacks.forEach(function(callback) {\n        if (callback != null)\n          callback();\n      });\n    } finally {\n      delete root._bokeh_onload_callbacks\n    }\n    console.debug(\"Bokeh: all callbacks have finished\");\n  }\n\n  function load_libs(css_urls, js_urls, callback) {\n    if (css_urls == null) css_urls = [];\n    if (js_urls == null) js_urls = [];\n\n    root._bokeh_onload_callbacks.push(callback);\n    if (root._bokeh_is_loading > 0) {\n      console.debug(\"Bokeh: BokehJS is being loaded, scheduling callback at\", now());\n      return null;\n    }\n    if (js_urls == null || js_urls.length === 0) {\n      run_callbacks();\n      return null;\n    }\n    console.debug(\"Bokeh: BokehJS not loaded, scheduling load and callback at\", now());\n    root._bokeh_is_loading = css_urls.length + js_urls.length;\n\n    function on_load() {\n      root._bokeh_is_loading--;\n      if (root._bokeh_is_loading === 0) {\n        console.debug(\"Bokeh: all BokehJS libraries/stylesheets loaded\");\n        run_callbacks()\n      }\n    }\n\n    function on_error(url) {\n      console.error(\"failed to load \" + url);\n    }\n\n    for (let i = 0; i < css_urls.length; i++) {\n      const url = css_urls[i];\n      const element = document.createElement(\"link\");\n      element.onload = on_load;\n      element.onerror = on_error.bind(null, url);\n      element.rel = \"stylesheet\";\n      element.type = \"text/css\";\n      element.href = url;\n      console.debug(\"Bokeh: injecting link tag for BokehJS stylesheet: \", url);\n      document.body.appendChild(element);\n    }\n\n    for (let i = 0; i < js_urls.length; i++) {\n      const url = js_urls[i];\n      const element = document.createElement('script');\n      element.onload = on_load;\n      element.onerror = on_error.bind(null, url);\n      element.async = false;\n      element.src = url;\n      console.debug(\"Bokeh: injecting script tag for BokehJS library: \", url);\n      document.head.appendChild(element);\n    }\n  };\n\n  function inject_raw_css(css) {\n    const element = document.createElement(\"style\");\n    element.appendChild(document.createTextNode(css));\n    document.body.appendChild(element);\n  }\n\n  const js_urls = [\"https://cdn.bokeh.org/bokeh/release/bokeh-3.4.3.min.js\", \"https://cdn.bokeh.org/bokeh/release/bokeh-gl-3.4.3.min.js\", \"https://cdn.bokeh.org/bokeh/release/bokeh-widgets-3.4.3.min.js\", \"https://cdn.bokeh.org/bokeh/release/bokeh-tables-3.4.3.min.js\", \"https://cdn.bokeh.org/bokeh/release/bokeh-mathjax-3.4.3.min.js\"];\n  const css_urls = [];\n\n  const inline_js = [    function(Bokeh) {\n      Bokeh.set_log_level(\"info\");\n    },\nfunction(Bokeh) {\n    }\n  ];\n\n  function run_inline_js() {\n    if (root.Bokeh !== undefined || force === true) {\n      try {\n            for (let i = 0; i < inline_js.length; i++) {\n      inline_js[i].call(root, root.Bokeh);\n    }\n\n      } catch (error) {display_loaded(error);throw error;\n      }if (force === true) {\n        display_loaded();\n      }} else if (Date.now() < root._bokeh_timeout) {\n      setTimeout(run_inline_js, 100);\n    } else if (!root._bokeh_failed_load) {\n      console.log(\"Bokeh: BokehJS failed to load within specified timeout.\");\n      root._bokeh_failed_load = true;\n    } else if (force !== true) {\n      const cell = $(document.getElementById(\"bded8a14-1bf9-4b11-9509-07c40548e2af\")).parents('.cell').data().cell;\n      cell.output_area.append_execute_result(NB_LOAD_WARNING)\n    }\n  }\n\n  if (root._bokeh_is_loading === 0) {\n    console.debug(\"Bokeh: BokehJS loaded, going straight to plotting\");\n    run_inline_js();\n  } else {\n    load_libs(css_urls, js_urls, function() {\n      console.debug(\"Bokeh: BokehJS plotting callback run at\", now());\n      run_inline_js();\n    });\n  }\n}(window));"
     },
     "metadata": {},
     "output_type": "display_data"
    },
    {
     "data": {
      "text/html": "\n  <div id=\"dcc51e24-9f65-4f9e-93d6-4c5789e10d99\" data-root-id=\"p2462\" style=\"display: contents;\"></div>\n"
     },
     "metadata": {},
     "output_type": "display_data"
    },
    {
     "data": {
      "application/javascript": "(function(root) {\n  function embed_document(root) {\n  const docs_json = {\"512efc41-fb46-474c-a745-e8d8789d0ef3\":{\"version\":\"3.4.3\",\"title\":\"Bokeh Application\",\"roots\":[{\"type\":\"object\",\"name\":\"Figure\",\"id\":\"p2462\",\"attributes\":{\"width\":700,\"height\":350,\"x_range\":{\"type\":\"object\",\"name\":\"DataRange1d\",\"id\":\"p2463\"},\"y_range\":{\"type\":\"object\",\"name\":\"DataRange1d\",\"id\":\"p2464\"},\"x_scale\":{\"type\":\"object\",\"name\":\"LinearScale\",\"id\":\"p2472\"},\"y_scale\":{\"type\":\"object\",\"name\":\"LinearScale\",\"id\":\"p2473\"},\"title\":{\"type\":\"object\",\"name\":\"Title\",\"id\":\"p2465\",\"attributes\":{\"text\":\"Parliament-wide Agreement (Rice Index)\",\"text_color\":\"#E0E0E0\",\"text_font\":\"Helvetica\",\"text_font_size\":\"1.15em\"}},\"outline_line_color\":\"#E0E0E0\",\"outline_line_alpha\":0.25,\"renderers\":[{\"type\":\"object\",\"name\":\"GlyphRenderer\",\"id\":\"p2501\",\"attributes\":{\"data_source\":{\"type\":\"object\",\"name\":\"ColumnDataSource\",\"id\":\"p2495\",\"attributes\":{\"selected\":{\"type\":\"object\",\"name\":\"Selection\",\"id\":\"p2496\",\"attributes\":{\"indices\":[],\"line_indices\":[]}},\"selection_policy\":{\"type\":\"object\",\"name\":\"UnionRenderers\",\"id\":\"p2497\"},\"data\":{\"type\":\"map\",\"entries\":[[\"x\",{\"type\":\"ndarray\",\"array\":{\"type\":\"bytes\",\"data\":\"AAAAAABQn0AAAAAAAFSfQAAAAAAAWJ9AAAAAAABcn0AAAAAAAGCfQAAAAAAAZJ9AAAAAAABon0AAAAAAAGyfQAAAAAAAcJ9AAAAAAAB0n0AAAAAAAHifQAAAAAAAfJ9AAAAAAACAn0AAAAAAAISfQAAAAAAAiJ9AAAAAAACMn0AAAAAAAJCfQAAAAAAAlJ9AAAAAAACYn0A=\"},\"shape\":[19],\"dtype\":\"float64\",\"order\":\"little\"}],[\"y\",{\"type\":\"ndarray\",\"array\":{\"type\":\"bytes\",\"data\":\"/INLU1SA4T/vK5d6FprfP2jqCnvJqOA/rzrwkoVC4D8u7JxfzADkP6OXQ4xvZOI/NhjkazD94T8+eeM+vqbiP7Zq9M8HeeI/CodXh9V64T+Y837b2RTiP8aRaVxeR+A/i19BeMYP4D+YikqNgQPgP/cs7+vmAd8/3Bof65h93j/eociOwiThP6YVKhziT+E/dw6J4/rk4D8=\"},\"shape\":[19],\"dtype\":\"float64\",\"order\":\"little\"}]]}}},\"view\":{\"type\":\"object\",\"name\":\"CDSView\",\"id\":\"p2502\",\"attributes\":{\"filter\":{\"type\":\"object\",\"name\":\"AllIndices\",\"id\":\"p2503\"}}},\"glyph\":{\"type\":\"object\",\"name\":\"Line\",\"id\":\"p2498\",\"attributes\":{\"x\":{\"type\":\"field\",\"field\":\"x\"},\"y\":{\"type\":\"field\",\"field\":\"y\"},\"line_color\":\"#1f77b4\",\"line_width\":2}},\"nonselection_glyph\":{\"type\":\"object\",\"name\":\"Line\",\"id\":\"p2499\",\"attributes\":{\"x\":{\"type\":\"field\",\"field\":\"x\"},\"y\":{\"type\":\"field\",\"field\":\"y\"},\"line_color\":\"#1f77b4\",\"line_alpha\":0.1,\"line_width\":2}},\"muted_glyph\":{\"type\":\"object\",\"name\":\"Line\",\"id\":\"p2500\",\"attributes\":{\"x\":{\"type\":\"field\",\"field\":\"x\"},\"y\":{\"type\":\"field\",\"field\":\"y\"},\"line_color\":\"#1f77b4\",\"line_alpha\":0.2,\"line_width\":2}}}}],\"toolbar\":{\"type\":\"object\",\"name\":\"Toolbar\",\"id\":\"p2471\",\"attributes\":{\"tools\":[{\"type\":\"object\",\"name\":\"PanTool\",\"id\":\"p2484\"},{\"type\":\"object\",\"name\":\"WheelZoomTool\",\"id\":\"p2485\",\"attributes\":{\"renderers\":\"auto\"}},{\"type\":\"object\",\"name\":\"BoxZoomTool\",\"id\":\"p2486\",\"attributes\":{\"overlay\":{\"type\":\"object\",\"name\":\"BoxAnnotation\",\"id\":\"p2487\",\"attributes\":{\"syncable\":false,\"level\":\"overlay\",\"visible\":false,\"left\":{\"type\":\"number\",\"value\":\"nan\"},\"right\":{\"type\":\"number\",\"value\":\"nan\"},\"top\":{\"type\":\"number\",\"value\":\"nan\"},\"bottom\":{\"type\":\"number\",\"value\":\"nan\"},\"left_units\":\"canvas\",\"right_units\":\"canvas\",\"top_units\":\"canvas\",\"bottom_units\":\"canvas\",\"line_color\":\"black\",\"line_alpha\":1.0,\"line_width\":2,\"line_dash\":[4,4],\"fill_color\":\"lightgrey\",\"fill_alpha\":0.5}}}},{\"type\":\"object\",\"name\":\"SaveTool\",\"id\":\"p2492\"},{\"type\":\"object\",\"name\":\"ResetTool\",\"id\":\"p2493\"},{\"type\":\"object\",\"name\":\"HelpTool\",\"id\":\"p2494\"}]}},\"left\":[{\"type\":\"object\",\"name\":\"LinearAxis\",\"id\":\"p2479\",\"attributes\":{\"ticker\":{\"type\":\"object\",\"name\":\"BasicTicker\",\"id\":\"p2480\",\"attributes\":{\"mantissas\":[1,2,5]}},\"formatter\":{\"type\":\"object\",\"name\":\"BasicTickFormatter\",\"id\":\"p2481\"},\"axis_label\":\"Rice index\",\"axis_label_standoff\":10,\"axis_label_text_color\":\"#E0E0E0\",\"axis_label_text_font\":\"Helvetica\",\"axis_label_text_font_size\":\"1.25em\",\"axis_label_text_font_style\":\"normal\",\"major_label_policy\":{\"type\":\"object\",\"name\":\"AllLabels\",\"id\":\"p2482\"},\"major_label_text_color\":\"#E0E0E0\",\"major_label_text_font\":\"Helvetica\",\"major_label_text_font_size\":\"1.025em\",\"axis_line_color\":\"#E0E0E0\",\"axis_line_alpha\":0,\"major_tick_line_color\":\"#E0E0E0\",\"major_tick_line_alpha\":0,\"minor_tick_line_color\":\"#E0E0E0\",\"minor_tick_line_alpha\":0}}],\"below\":[{\"type\":\"object\",\"name\":\"LinearAxis\",\"id\":\"p2474\",\"attributes\":{\"ticker\":{\"type\":\"object\",\"name\":\"BasicTicker\",\"id\":\"p2475\",\"attributes\":{\"mantissas\":[1,2,5]}},\"formatter\":{\"type\":\"object\",\"name\":\"BasicTickFormatter\",\"id\":\"p2476\"},\"axis_label\":\"Year\",\"axis_label_standoff\":10,\"axis_label_text_color\":\"#E0E0E0\",\"axis_label_text_font\":\"Helvetica\",\"axis_label_text_font_size\":\"1.25em\",\"axis_label_text_font_style\":\"normal\",\"major_label_policy\":{\"type\":\"object\",\"name\":\"AllLabels\",\"id\":\"p2477\"},\"major_label_text_color\":\"#E0E0E0\",\"major_label_text_font\":\"Helvetica\",\"major_label_text_font_size\":\"1.025em\",\"axis_line_color\":\"#E0E0E0\",\"axis_line_alpha\":0,\"major_tick_line_color\":\"#E0E0E0\",\"major_tick_line_alpha\":0,\"minor_tick_line_color\":\"#E0E0E0\",\"minor_tick_line_alpha\":0}}],\"center\":[{\"type\":\"object\",\"name\":\"Grid\",\"id\":\"p2478\",\"attributes\":{\"axis\":{\"id\":\"p2474\"},\"grid_line_color\":\"#E0E0E0\",\"grid_line_alpha\":0.25}},{\"type\":\"object\",\"name\":\"Grid\",\"id\":\"p2483\",\"attributes\":{\"dimension\":1,\"axis\":{\"id\":\"p2479\"},\"grid_line_color\":\"#E0E0E0\",\"grid_line_alpha\":0.25}}],\"background_fill_color\":\"#20262B\",\"border_fill_color\":\"#15191C\"}}]}};\n  const render_items = [{\"docid\":\"512efc41-fb46-474c-a745-e8d8789d0ef3\",\"roots\":{\"p2462\":\"dcc51e24-9f65-4f9e-93d6-4c5789e10d99\"},\"root_ids\":[\"p2462\"]}];\n  void root.Bokeh.embed.embed_items_notebook(docs_json, render_items);\n  }\n  if (root.Bokeh !== undefined) {\n    embed_document(root);\n  } else {\n    let attempts = 0;\n    const timer = setInterval(function(root) {\n      if (root.Bokeh !== undefined) {\n        clearInterval(timer);\n        embed_document(root);\n      } else {\n        attempts++;\n        if (attempts > 100) {\n          clearInterval(timer);\n          console.log(\"Bokeh: ERROR: Unable to run BokehJS code because BokehJS library is missing\");\n        }\n      }\n    }, 10, root)\n  }\n})(window);",
      "application/vnd.bokehjs_exec.v0+json": ""
     },
     "metadata": {
      "application/vnd.bokehjs_exec.v0+json": {
       "id": "p2462"
      }
     },
     "output_type": "display_data"
    },
    {
     "data": {
      "text/html": "\n  <div id=\"afc5c333-2173-4fcd-8fe1-112585e127d4\" data-root-id=\"p2661\" style=\"display: contents;\"></div>\n"
     },
     "metadata": {},
     "output_type": "display_data"
    },
    {
     "data": {
      "application/javascript": "(function(root) {\n  function embed_document(root) {\n  const docs_json = {\"80a7d03c-e2d3-4903-b382-f9ccca84be96\":{\"version\":\"3.4.3\",\"title\":\"Bokeh Application\",\"roots\":[{\"type\":\"object\",\"name\":\"Column\",\"id\":\"p2661\",\"attributes\":{\"children\":[{\"type\":\"object\",\"name\":\"CheckboxGroup\",\"id\":\"p2659\",\"attributes\":{\"js_property_callbacks\":{\"type\":\"map\",\"entries\":[[\"change:active\",[{\"type\":\"object\",\"name\":\"CustomJS\",\"id\":\"p2660\",\"attributes\":{\"args\":{\"type\":\"map\",\"entries\":[[\"lines\",{\"type\":\"map\",\"entries\":[[\"ALDE\",{\"type\":\"object\",\"name\":\"GlyphRenderer\",\"id\":\"p2548\",\"attributes\":{\"data_source\":{\"type\":\"object\",\"name\":\"ColumnDataSource\",\"id\":\"p2506\",\"attributes\":{\"selected\":{\"type\":\"object\",\"name\":\"Selection\",\"id\":\"p2507\",\"attributes\":{\"indices\":[],\"line_indices\":[]}},\"selection_policy\":{\"type\":\"object\",\"name\":\"UnionRenderers\",\"id\":\"p2508\"},\"data\":{\"type\":\"map\",\"entries\":[[\"year\",{\"type\":\"ndarray\",\"array\":{\"type\":\"bytes\",\"data\":\"AAAAAABQn0AAAAAAAFSfQAAAAAAAWJ9AAAAAAABcn0AAAAAAAGCfQAAAAAAAZJ9AAAAAAABon0AAAAAAAGyfQAAAAAAAcJ9AAAAAAAB0n0AAAAAAAHifQAAAAAAAfJ9AAAAAAACAn0AAAAAAAISfQAAAAAAAiJ9AAAAAAACMn0AAAAAAAJCfQAAAAAAAlJ9AAAAAAACYn0A=\"},\"shape\":[19],\"dtype\":\"float64\",\"order\":\"little\"}],[\"ALDE\",{\"type\":\"ndarray\",\"array\":{\"type\":\"bytes\",\"data\":\"cVLeU+hc6D+b106Q4BDrP9obdyH1Y+o/ahA2tZ466z+OfvMXtZrsPx9W1Aq5UOw/FQVGiqyE6z8sp61VG1jsP5v463jGp+w/bEHPgyIf6z/Tty1eey7rP5bGLFrFMew/a8TYkLqD6z/cmOxspL7rPwjS2yktm+s/4STpcw9o6z8AAAAAAAD4fwAAAAAAAPh/AAAAAAAA+H8=\"},\"shape\":[19],\"dtype\":\"float64\",\"order\":\"little\"}],[\"ECR\",{\"type\":\"ndarray\",\"array\":{\"type\":\"bytes\",\"data\":\"AAAAAAAA+H8AAAAAAAD4fwAAAAAAAPh/AAAAAAAA+H8AAAAAAAD4f/ELnq8vbuk/S7rrbDc36D+3zY2dUBLpP/688a3mzOk/nzcPwotk6j9auilPHu/pP57og9D8seY/rzaxqX0o5z+oOkh2wCTmPyy3eMxaOOY/9nEGVM015z/Jdan+O3fmPxQCuaJsC+c/KGxuK9GG6D8=\"},\"shape\":[19],\"dtype\":\"float64\",\"order\":\"little\"}],[\"EFD\",{\"type\":\"ndarray\",\"array\":{\"type\":\"bytes\",\"data\":\"AAAAAAAA+H8AAAAAAAD4fwAAAAAAAPh/AAAAAAAA+H8AAAAAAAD4fzJp4ksL590/c9sYpYm33T/+6JnANkLZP59IqTqsQt8/3lhOsYvS2z/mKb1PxFbZPwAAAAAAAPh/AAAAAAAA+H8AAAAAAAD4fwAAAAAAAPh/AAAAAAAA+H8AAAAAAAD4fwAAAAAAAPh/AAAAAAAA+H8=\"},\"shape\":[19],\"dtype\":\"float64\",\"order\":\"little\"}],[\"EFDD\",{\"type\":\"ndarray\",\"array\":{\"type\":\"bytes\",\"data\":\"AAAAAAAA+H8AAAAAAAD4fwAAAAAAAPh/AAAAAAAA+H8AAAAAAAD4fwAAAAAAAPh/AAAAAAAA+H8AAAAAAAD4fwAAAAAAAPh/AAAAAAAA+H9fkLzECSbbP10dlr/XAto/slbhAmq72z/yJMIRFVXaP4pVFELphNg/vlC4JX+01T8AAAAAAAD4fwAAAAAAAPh/AAAAAAAA+H8=\"},\"shape\":[19],\"dtype\":\"float64\",\"order\":\"little\"}],[\"ENF\",{\"type\":\"ndarray\",\"array\":{\"type\":\"bytes\",\"data\":\"AAAAAAAA+H8AAAAAAAD4fwAAAAAAAPh/AAAAAAAA+H8AAAAAAAD4fwAAAAAAAPh/AAAAAAAA+H8AAAAAAAD4fwAAAAAAAPh/AAAAAAAA+H82R5DD/ZTjPwmxAbLryeI/7Tq4zOOl4z9V7+Az6wjkPybfp0JCZOM/5n/JbdVQ4j8AAAAAAAD4fwAAAAAAAPh/AAAAAAAA+H8=\"},\"shape\":[19],\"dtype\":\"float64\",\"order\":\"little\"}],[\"EPP\",{\"type\":\"ndarray\",\"array\":{\"type\":\"bytes\",\"data\":\"G6zTzTjX5z+97a9UD9TqP2rtNbmsU+s/B0dRi0aN6j9Zv4oG6L3rP7vJF7u5rOw/wjmyq5s67T/kwNTrUXPtPyFPnschAe0/rASgzFn77D/eVvv0nOfsP5Eyfa7CPe0/2zyjOMgS7T8sV/lpUuDsP4hy7T2Moew/ibpVCSGD6z+/omQuxm7sP+TRThAzXuw/Wt7m3jZq6z8=\"},\"shape\":[19],\"dtype\":\"float64\",\"order\":\"little\"}],[\"Greens/EFA\",{\"type\":\"ndarray\",\"array\":{\"type\":\"bytes\",\"data\":\"PONtxMvM7D8+XG+zRIjsPzTK/4UvO+0/5OBFDVe57D9YWqn5lNDsP/5nDEeNZu0/EOjA1pYM7j8ztLqu+RntP6WkwaskAe0/WMEQar597T9ehuiO8uPsP02hQi9Ime0/t4GaBBSe7T/2CW3hZVftPxUucwd5We0/4h0zXKlX7T/FBrO6v1XuP9AqcMKHue4/ZW+T0klR7j8=\"},\"shape\":[19],\"dtype\":\"float64\",\"order\":\"little\"}],[\"IDG\",{\"type\":\"ndarray\",\"array\":{\"type\":\"bytes\",\"data\":\"3tzZsfu64j+9oc+WhijeP7fFb9yUZtw/ECYfnIz82T+8sa08lrDVPwnz/YRSSdc/AAAAAAAA+H8AAAAAAAD4fwAAAAAAAPh/AAAAAAAA+H8AAAAAAAD4fwAAAAAAAPh/AAAAAAAA+H8AAAAAAAD4fwAAAAAAAPh/yDxdhKWN5z/wRJ50rWPkP1SE2lS/hOI/O/EdT4Af5D8=\"},\"shape\":[19],\"dtype\":\"float64\",\"order\":\"little\"}],[\"NI\",{\"type\":\"ndarray\",\"array\":{\"type\":\"bytes\",\"data\":\"QT9dcE5n3T84Dy6HgVfbP0n1XL6jCts/GYmlh+6A3T+NN1AZ0WrXP1rvjiXMndk/zuEJJ3Qb1j9p88FAl/HUP2f8hYekMNY/xbHSKt+x0T8wiNC2imjTPw05tfIwmtU/VyvUo03J1T8G8KPstXDWP9X7VB78hNQ/p7OloaJr1T/HBvuRQDvXP/E956GnNtc/R76V1S3M1T8=\"},\"shape\":[19],\"dtype\":\"float64\",\"order\":\"little\"}],[\"REG\",{\"type\":\"ndarray\",\"array\":{\"type\":\"bytes\",\"data\":\"AAAAAAAA+H8AAAAAAAD4fwAAAAAAAPh/AAAAAAAA+H8AAAAAAAD4fwAAAAAAAPh/AAAAAAAA+H8AAAAAAAD4fwAAAAAAAPh/AAAAAAAA+H8AAAAAAAD4fwAAAAAAAPh/AAAAAAAA+H8AAAAAAAD4fwAAAAAAAPh/kVdwba736j/f1rkdtLrrP0gNw8258Os/6CiuBLfi6z8=\"},\"shape\":[19],\"dtype\":\"float64\",\"order\":\"little\"}],[\"S&D\",{\"type\":\"ndarray\",\"array\":{\"type\":\"bytes\",\"data\":\"IV0AAmlE7D9Xy96BgdvrP67vRJaQg+s/5I9K5mP76z+sKmQuZTDtP3egZHsjr+w/9Z2LYx0X7T/74UtwgozsP0YuBdpT5ew/VUqbt7rN6z+Y8xuQsknsP57dph8x7+w/dYafj1vg7D/Ewbrx4g/tP+bsRMv4KOw/m3bl4RXl6z+s7gwCZX7tPwZWuapo8O0/Yuu75rbw6z8=\"},\"shape\":[19],\"dtype\":\"float64\",\"order\":\"little\"}],[\"The Left\",{\"type\":\"ndarray\",\"array\":{\"type\":\"bytes\",\"data\":\"apnzh2/26T8lwZ8yxmbqP57TVy+4Yeo/ASnvx0Tp6T9DEd395SXqP4Y/pIQNAuo/EBnRN6Ma6T84UvAkzBnoPwAXNkwE1+c/eCvtH6Ue5z/AkSBdcfboP6gC7K2X/Ok/5D7Fpsrt6T8gb/rK5YzpPwtEoAZOIek/Uh41y05f6j/Ad2p0PXrrP0z5RSdNmus/oRKrJLgw6j8=\"},\"shape\":[19],\"dtype\":\"float64\",\"order\":\"little\"}],[\"UEN\",{\"type\":\"ndarray\",\"array\":{\"type\":\"bytes\",\"data\":\"LNz1LqD+4T+ApnuwFDbiP8eAMVUaOeQ/YJEhbltB5j+Ke3WGHEfoP/7BeqJFB+g/AAAAAAAA+H8AAAAAAAD4fwAAAAAAAPh/AAAAAAAA+H8AAAAAAAD4fwAAAAAAAPh/AAAAAAAA+H8AAAAAAAD4fwAAAAAAAPh/AAAAAAAA+H8AAAAAAAD4fwAAAAAAAPh/AAAAAAAA+H8=\"},\"shape\":[19],\"dtype\":\"float64\",\"order\":\"little\"}]]}}},\"view\":{\"type\":\"object\",\"name\":\"CDSView\",\"id\":\"p2549\",\"attributes\":{\"filter\":{\"type\":\"object\",\"name\":\"AllIndices\",\"id\":\"p2550\"}}},\"glyph\":{\"type\":\"object\",\"name\":\"Line\",\"id\":\"p2545\",\"attributes\":{\"x\":{\"type\":\"field\",\"field\":\"year\"},\"y\":{\"type\":\"field\",\"field\":\"ALDE\"},\"line_color\":\"#1f77b4\",\"line_width\":2}},\"nonselection_glyph\":{\"type\":\"object\",\"name\":\"Line\",\"id\":\"p2546\",\"attributes\":{\"x\":{\"type\":\"field\",\"field\":\"year\"},\"y\":{\"type\":\"field\",\"field\":\"ALDE\"},\"line_color\":\"#1f77b4\",\"line_alpha\":0.1,\"line_width\":2}},\"muted_glyph\":{\"type\":\"object\",\"name\":\"Line\",\"id\":\"p2547\",\"attributes\":{\"x\":{\"type\":\"field\",\"field\":\"year\"},\"y\":{\"type\":\"field\",\"field\":\"ALDE\"},\"line_color\":\"#1f77b4\",\"line_alpha\":0.2,\"line_width\":2}}}}],[\"ECR\",{\"type\":\"object\",\"name\":\"GlyphRenderer\",\"id\":\"p2557\",\"attributes\":{\"data_source\":{\"id\":\"p2506\"},\"view\":{\"type\":\"object\",\"name\":\"CDSView\",\"id\":\"p2558\",\"attributes\":{\"filter\":{\"type\":\"object\",\"name\":\"AllIndices\",\"id\":\"p2559\"}}},\"glyph\":{\"type\":\"object\",\"name\":\"Line\",\"id\":\"p2554\",\"attributes\":{\"x\":{\"type\":\"field\",\"field\":\"year\"},\"y\":{\"type\":\"field\",\"field\":\"ECR\"},\"line_color\":\"#1f77b4\",\"line_width\":2}},\"nonselection_glyph\":{\"type\":\"object\",\"name\":\"Line\",\"id\":\"p2555\",\"attributes\":{\"x\":{\"type\":\"field\",\"field\":\"year\"},\"y\":{\"type\":\"field\",\"field\":\"ECR\"},\"line_color\":\"#1f77b4\",\"line_alpha\":0.1,\"line_width\":2}},\"muted_glyph\":{\"type\":\"object\",\"name\":\"Line\",\"id\":\"p2556\",\"attributes\":{\"x\":{\"type\":\"field\",\"field\":\"year\"},\"y\":{\"type\":\"field\",\"field\":\"ECR\"},\"line_color\":\"#1f77b4\",\"line_alpha\":0.2,\"line_width\":2}}}}],[\"EFD\",{\"type\":\"object\",\"name\":\"GlyphRenderer\",\"id\":\"p2566\",\"attributes\":{\"data_source\":{\"id\":\"p2506\"},\"view\":{\"type\":\"object\",\"name\":\"CDSView\",\"id\":\"p2567\",\"attributes\":{\"filter\":{\"type\":\"object\",\"name\":\"AllIndices\",\"id\":\"p2568\"}}},\"glyph\":{\"type\":\"object\",\"name\":\"Line\",\"id\":\"p2563\",\"attributes\":{\"x\":{\"type\":\"field\",\"field\":\"year\"},\"y\":{\"type\":\"field\",\"field\":\"EFD\"},\"line_color\":\"#1f77b4\",\"line_width\":2}},\"nonselection_glyph\":{\"type\":\"object\",\"name\":\"Line\",\"id\":\"p2564\",\"attributes\":{\"x\":{\"type\":\"field\",\"field\":\"year\"},\"y\":{\"type\":\"field\",\"field\":\"EFD\"},\"line_color\":\"#1f77b4\",\"line_alpha\":0.1,\"line_width\":2}},\"muted_glyph\":{\"type\":\"object\",\"name\":\"Line\",\"id\":\"p2565\",\"attributes\":{\"x\":{\"type\":\"field\",\"field\":\"year\"},\"y\":{\"type\":\"field\",\"field\":\"EFD\"},\"line_color\":\"#1f77b4\",\"line_alpha\":0.2,\"line_width\":2}}}}],[\"EFDD\",{\"type\":\"object\",\"name\":\"GlyphRenderer\",\"id\":\"p2575\",\"attributes\":{\"data_source\":{\"id\":\"p2506\"},\"view\":{\"type\":\"object\",\"name\":\"CDSView\",\"id\":\"p2576\",\"attributes\":{\"filter\":{\"type\":\"object\",\"name\":\"AllIndices\",\"id\":\"p2577\"}}},\"glyph\":{\"type\":\"object\",\"name\":\"Line\",\"id\":\"p2572\",\"attributes\":{\"x\":{\"type\":\"field\",\"field\":\"year\"},\"y\":{\"type\":\"field\",\"field\":\"EFDD\"},\"line_color\":\"#1f77b4\",\"line_width\":2}},\"nonselection_glyph\":{\"type\":\"object\",\"name\":\"Line\",\"id\":\"p2573\",\"attributes\":{\"x\":{\"type\":\"field\",\"field\":\"year\"},\"y\":{\"type\":\"field\",\"field\":\"EFDD\"},\"line_color\":\"#1f77b4\",\"line_alpha\":0.1,\"line_width\":2}},\"muted_glyph\":{\"type\":\"object\",\"name\":\"Line\",\"id\":\"p2574\",\"attributes\":{\"x\":{\"type\":\"field\",\"field\":\"year\"},\"y\":{\"type\":\"field\",\"field\":\"EFDD\"},\"line_color\":\"#1f77b4\",\"line_alpha\":0.2,\"line_width\":2}}}}],[\"ENF\",{\"type\":\"object\",\"name\":\"GlyphRenderer\",\"id\":\"p2584\",\"attributes\":{\"data_source\":{\"id\":\"p2506\"},\"view\":{\"type\":\"object\",\"name\":\"CDSView\",\"id\":\"p2585\",\"attributes\":{\"filter\":{\"type\":\"object\",\"name\":\"AllIndices\",\"id\":\"p2586\"}}},\"glyph\":{\"type\":\"object\",\"name\":\"Line\",\"id\":\"p2581\",\"attributes\":{\"x\":{\"type\":\"field\",\"field\":\"year\"},\"y\":{\"type\":\"field\",\"field\":\"ENF\"},\"line_color\":\"#1f77b4\",\"line_width\":2}},\"nonselection_glyph\":{\"type\":\"object\",\"name\":\"Line\",\"id\":\"p2582\",\"attributes\":{\"x\":{\"type\":\"field\",\"field\":\"year\"},\"y\":{\"type\":\"field\",\"field\":\"ENF\"},\"line_color\":\"#1f77b4\",\"line_alpha\":0.1,\"line_width\":2}},\"muted_glyph\":{\"type\":\"object\",\"name\":\"Line\",\"id\":\"p2583\",\"attributes\":{\"x\":{\"type\":\"field\",\"field\":\"year\"},\"y\":{\"type\":\"field\",\"field\":\"ENF\"},\"line_color\":\"#1f77b4\",\"line_alpha\":0.2,\"line_width\":2}}}}],[\"EPP\",{\"type\":\"object\",\"name\":\"GlyphRenderer\",\"id\":\"p2593\",\"attributes\":{\"data_source\":{\"id\":\"p2506\"},\"view\":{\"type\":\"object\",\"name\":\"CDSView\",\"id\":\"p2594\",\"attributes\":{\"filter\":{\"type\":\"object\",\"name\":\"AllIndices\",\"id\":\"p2595\"}}},\"glyph\":{\"type\":\"object\",\"name\":\"Line\",\"id\":\"p2590\",\"attributes\":{\"x\":{\"type\":\"field\",\"field\":\"year\"},\"y\":{\"type\":\"field\",\"field\":\"EPP\"},\"line_color\":\"#1f77b4\",\"line_width\":2}},\"nonselection_glyph\":{\"type\":\"object\",\"name\":\"Line\",\"id\":\"p2591\",\"attributes\":{\"x\":{\"type\":\"field\",\"field\":\"year\"},\"y\":{\"type\":\"field\",\"field\":\"EPP\"},\"line_color\":\"#1f77b4\",\"line_alpha\":0.1,\"line_width\":2}},\"muted_glyph\":{\"type\":\"object\",\"name\":\"Line\",\"id\":\"p2592\",\"attributes\":{\"x\":{\"type\":\"field\",\"field\":\"year\"},\"y\":{\"type\":\"field\",\"field\":\"EPP\"},\"line_color\":\"#1f77b4\",\"line_alpha\":0.2,\"line_width\":2}}}}],[\"Greens/EFA\",{\"type\":\"object\",\"name\":\"GlyphRenderer\",\"id\":\"p2602\",\"attributes\":{\"data_source\":{\"id\":\"p2506\"},\"view\":{\"type\":\"object\",\"name\":\"CDSView\",\"id\":\"p2603\",\"attributes\":{\"filter\":{\"type\":\"object\",\"name\":\"AllIndices\",\"id\":\"p2604\"}}},\"glyph\":{\"type\":\"object\",\"name\":\"Line\",\"id\":\"p2599\",\"attributes\":{\"x\":{\"type\":\"field\",\"field\":\"year\"},\"y\":{\"type\":\"field\",\"field\":\"Greens/EFA\"},\"line_color\":\"#1f77b4\",\"line_width\":2}},\"nonselection_glyph\":{\"type\":\"object\",\"name\":\"Line\",\"id\":\"p2600\",\"attributes\":{\"x\":{\"type\":\"field\",\"field\":\"year\"},\"y\":{\"type\":\"field\",\"field\":\"Greens/EFA\"},\"line_color\":\"#1f77b4\",\"line_alpha\":0.1,\"line_width\":2}},\"muted_glyph\":{\"type\":\"object\",\"name\":\"Line\",\"id\":\"p2601\",\"attributes\":{\"x\":{\"type\":\"field\",\"field\":\"year\"},\"y\":{\"type\":\"field\",\"field\":\"Greens/EFA\"},\"line_color\":\"#1f77b4\",\"line_alpha\":0.2,\"line_width\":2}}}}],[\"IDG\",{\"type\":\"object\",\"name\":\"GlyphRenderer\",\"id\":\"p2611\",\"attributes\":{\"data_source\":{\"id\":\"p2506\"},\"view\":{\"type\":\"object\",\"name\":\"CDSView\",\"id\":\"p2612\",\"attributes\":{\"filter\":{\"type\":\"object\",\"name\":\"AllIndices\",\"id\":\"p2613\"}}},\"glyph\":{\"type\":\"object\",\"name\":\"Line\",\"id\":\"p2608\",\"attributes\":{\"x\":{\"type\":\"field\",\"field\":\"year\"},\"y\":{\"type\":\"field\",\"field\":\"IDG\"},\"line_color\":\"#1f77b4\",\"line_width\":2}},\"nonselection_glyph\":{\"type\":\"object\",\"name\":\"Line\",\"id\":\"p2609\",\"attributes\":{\"x\":{\"type\":\"field\",\"field\":\"year\"},\"y\":{\"type\":\"field\",\"field\":\"IDG\"},\"line_color\":\"#1f77b4\",\"line_alpha\":0.1,\"line_width\":2}},\"muted_glyph\":{\"type\":\"object\",\"name\":\"Line\",\"id\":\"p2610\",\"attributes\":{\"x\":{\"type\":\"field\",\"field\":\"year\"},\"y\":{\"type\":\"field\",\"field\":\"IDG\"},\"line_color\":\"#1f77b4\",\"line_alpha\":0.2,\"line_width\":2}}}}],[\"NI\",{\"type\":\"object\",\"name\":\"GlyphRenderer\",\"id\":\"p2620\",\"attributes\":{\"data_source\":{\"id\":\"p2506\"},\"view\":{\"type\":\"object\",\"name\":\"CDSView\",\"id\":\"p2621\",\"attributes\":{\"filter\":{\"type\":\"object\",\"name\":\"AllIndices\",\"id\":\"p2622\"}}},\"glyph\":{\"type\":\"object\",\"name\":\"Line\",\"id\":\"p2617\",\"attributes\":{\"x\":{\"type\":\"field\",\"field\":\"year\"},\"y\":{\"type\":\"field\",\"field\":\"NI\"},\"line_color\":\"#1f77b4\",\"line_width\":2}},\"nonselection_glyph\":{\"type\":\"object\",\"name\":\"Line\",\"id\":\"p2618\",\"attributes\":{\"x\":{\"type\":\"field\",\"field\":\"year\"},\"y\":{\"type\":\"field\",\"field\":\"NI\"},\"line_color\":\"#1f77b4\",\"line_alpha\":0.1,\"line_width\":2}},\"muted_glyph\":{\"type\":\"object\",\"name\":\"Line\",\"id\":\"p2619\",\"attributes\":{\"x\":{\"type\":\"field\",\"field\":\"year\"},\"y\":{\"type\":\"field\",\"field\":\"NI\"},\"line_color\":\"#1f77b4\",\"line_alpha\":0.2,\"line_width\":2}}}}],[\"REG\",{\"type\":\"object\",\"name\":\"GlyphRenderer\",\"id\":\"p2629\",\"attributes\":{\"data_source\":{\"id\":\"p2506\"},\"view\":{\"type\":\"object\",\"name\":\"CDSView\",\"id\":\"p2630\",\"attributes\":{\"filter\":{\"type\":\"object\",\"name\":\"AllIndices\",\"id\":\"p2631\"}}},\"glyph\":{\"type\":\"object\",\"name\":\"Line\",\"id\":\"p2626\",\"attributes\":{\"x\":{\"type\":\"field\",\"field\":\"year\"},\"y\":{\"type\":\"field\",\"field\":\"REG\"},\"line_color\":\"#1f77b4\",\"line_width\":2}},\"nonselection_glyph\":{\"type\":\"object\",\"name\":\"Line\",\"id\":\"p2627\",\"attributes\":{\"x\":{\"type\":\"field\",\"field\":\"year\"},\"y\":{\"type\":\"field\",\"field\":\"REG\"},\"line_color\":\"#1f77b4\",\"line_alpha\":0.1,\"line_width\":2}},\"muted_glyph\":{\"type\":\"object\",\"name\":\"Line\",\"id\":\"p2628\",\"attributes\":{\"x\":{\"type\":\"field\",\"field\":\"year\"},\"y\":{\"type\":\"field\",\"field\":\"REG\"},\"line_color\":\"#1f77b4\",\"line_alpha\":0.2,\"line_width\":2}}}}],[\"S&D\",{\"type\":\"object\",\"name\":\"GlyphRenderer\",\"id\":\"p2638\",\"attributes\":{\"data_source\":{\"id\":\"p2506\"},\"view\":{\"type\":\"object\",\"name\":\"CDSView\",\"id\":\"p2639\",\"attributes\":{\"filter\":{\"type\":\"object\",\"name\":\"AllIndices\",\"id\":\"p2640\"}}},\"glyph\":{\"type\":\"object\",\"name\":\"Line\",\"id\":\"p2635\",\"attributes\":{\"x\":{\"type\":\"field\",\"field\":\"year\"},\"y\":{\"type\":\"field\",\"field\":\"S&D\"},\"line_color\":\"#1f77b4\",\"line_width\":2}},\"nonselection_glyph\":{\"type\":\"object\",\"name\":\"Line\",\"id\":\"p2636\",\"attributes\":{\"x\":{\"type\":\"field\",\"field\":\"year\"},\"y\":{\"type\":\"field\",\"field\":\"S&D\"},\"line_color\":\"#1f77b4\",\"line_alpha\":0.1,\"line_width\":2}},\"muted_glyph\":{\"type\":\"object\",\"name\":\"Line\",\"id\":\"p2637\",\"attributes\":{\"x\":{\"type\":\"field\",\"field\":\"year\"},\"y\":{\"type\":\"field\",\"field\":\"S&D\"},\"line_color\":\"#1f77b4\",\"line_alpha\":0.2,\"line_width\":2}}}}],[\"The Left\",{\"type\":\"object\",\"name\":\"GlyphRenderer\",\"id\":\"p2647\",\"attributes\":{\"data_source\":{\"id\":\"p2506\"},\"view\":{\"type\":\"object\",\"name\":\"CDSView\",\"id\":\"p2648\",\"attributes\":{\"filter\":{\"type\":\"object\",\"name\":\"AllIndices\",\"id\":\"p2649\"}}},\"glyph\":{\"type\":\"object\",\"name\":\"Line\",\"id\":\"p2644\",\"attributes\":{\"x\":{\"type\":\"field\",\"field\":\"year\"},\"y\":{\"type\":\"field\",\"field\":\"The Left\"},\"line_color\":\"#1f77b4\",\"line_width\":2}},\"nonselection_glyph\":{\"type\":\"object\",\"name\":\"Line\",\"id\":\"p2645\",\"attributes\":{\"x\":{\"type\":\"field\",\"field\":\"year\"},\"y\":{\"type\":\"field\",\"field\":\"The Left\"},\"line_color\":\"#1f77b4\",\"line_alpha\":0.1,\"line_width\":2}},\"muted_glyph\":{\"type\":\"object\",\"name\":\"Line\",\"id\":\"p2646\",\"attributes\":{\"x\":{\"type\":\"field\",\"field\":\"year\"},\"y\":{\"type\":\"field\",\"field\":\"The Left\"},\"line_color\":\"#1f77b4\",\"line_alpha\":0.2,\"line_width\":2}}}}],[\"UEN\",{\"type\":\"object\",\"name\":\"GlyphRenderer\",\"id\":\"p2656\",\"attributes\":{\"data_source\":{\"id\":\"p2506\"},\"view\":{\"type\":\"object\",\"name\":\"CDSView\",\"id\":\"p2657\",\"attributes\":{\"filter\":{\"type\":\"object\",\"name\":\"AllIndices\",\"id\":\"p2658\"}}},\"glyph\":{\"type\":\"object\",\"name\":\"Line\",\"id\":\"p2653\",\"attributes\":{\"x\":{\"type\":\"field\",\"field\":\"year\"},\"y\":{\"type\":\"field\",\"field\":\"UEN\"},\"line_color\":\"#1f77b4\",\"line_width\":2}},\"nonselection_glyph\":{\"type\":\"object\",\"name\":\"Line\",\"id\":\"p2654\",\"attributes\":{\"x\":{\"type\":\"field\",\"field\":\"year\"},\"y\":{\"type\":\"field\",\"field\":\"UEN\"},\"line_color\":\"#1f77b4\",\"line_alpha\":0.1,\"line_width\":2}},\"muted_glyph\":{\"type\":\"object\",\"name\":\"Line\",\"id\":\"p2655\",\"attributes\":{\"x\":{\"type\":\"field\",\"field\":\"year\"},\"y\":{\"type\":\"field\",\"field\":\"UEN\"},\"line_color\":\"#1f77b4\",\"line_alpha\":0.2,\"line_width\":2}}}}]]}],[\"labels\",[\"ALDE\",\"ECR\",\"EFD\",\"EFDD\",\"ENF\",\"EPP\",\"Greens/EFA\",\"IDG\",\"NI\",\"REG\",\"S&D\",\"The Left\",\"UEN\"]]]},\"code\":\"\\n    const active = cb_obj.active.map(i => labels[i]);\\n    for (let p of labels) {\\n        lines[p].visible = active.includes(p);\\n    }\\n\"}}]]]},\"labels\":[\"ALDE\",\"ECR\",\"EFD\",\"EFDD\",\"ENF\",\"EPP\",\"Greens/EFA\",\"IDG\",\"NI\",\"REG\",\"S&D\",\"The Left\",\"UEN\"],\"active\":[0,1,2,3,4,5,6,7,8,9,10,11,12]}},{\"type\":\"object\",\"name\":\"Figure\",\"id\":\"p2509\",\"attributes\":{\"width\":700,\"height\":350,\"x_range\":{\"type\":\"object\",\"name\":\"DataRange1d\",\"id\":\"p2510\"},\"y_range\":{\"type\":\"object\",\"name\":\"DataRange1d\",\"id\":\"p2511\"},\"x_scale\":{\"type\":\"object\",\"name\":\"LinearScale\",\"id\":\"p2519\"},\"y_scale\":{\"type\":\"object\",\"name\":\"LinearScale\",\"id\":\"p2520\"},\"title\":{\"type\":\"object\",\"name\":\"Title\",\"id\":\"p2512\",\"attributes\":{\"text\":\"Agreement by Party\",\"text_color\":\"#E0E0E0\",\"text_font\":\"Helvetica\",\"text_font_size\":\"1.15em\"}},\"outline_line_color\":\"#E0E0E0\",\"outline_line_alpha\":0.25,\"renderers\":[{\"id\":\"p2548\"},{\"id\":\"p2557\"},{\"id\":\"p2566\"},{\"id\":\"p2575\"},{\"id\":\"p2584\"},{\"id\":\"p2593\"},{\"id\":\"p2602\"},{\"id\":\"p2611\"},{\"id\":\"p2620\"},{\"id\":\"p2629\"},{\"id\":\"p2638\"},{\"id\":\"p2647\"},{\"id\":\"p2656\"}],\"toolbar\":{\"type\":\"object\",\"name\":\"Toolbar\",\"id\":\"p2518\",\"attributes\":{\"tools\":[{\"type\":\"object\",\"name\":\"PanTool\",\"id\":\"p2531\"},{\"type\":\"object\",\"name\":\"WheelZoomTool\",\"id\":\"p2532\",\"attributes\":{\"renderers\":\"auto\"}},{\"type\":\"object\",\"name\":\"BoxZoomTool\",\"id\":\"p2533\",\"attributes\":{\"overlay\":{\"type\":\"object\",\"name\":\"BoxAnnotation\",\"id\":\"p2534\",\"attributes\":{\"syncable\":false,\"level\":\"overlay\",\"visible\":false,\"left\":{\"type\":\"number\",\"value\":\"nan\"},\"right\":{\"type\":\"number\",\"value\":\"nan\"},\"top\":{\"type\":\"number\",\"value\":\"nan\"},\"bottom\":{\"type\":\"number\",\"value\":\"nan\"},\"left_units\":\"canvas\",\"right_units\":\"canvas\",\"top_units\":\"canvas\",\"bottom_units\":\"canvas\",\"line_color\":\"black\",\"line_alpha\":1.0,\"line_width\":2,\"line_dash\":[4,4],\"fill_color\":\"lightgrey\",\"fill_alpha\":0.5}}}},{\"type\":\"object\",\"name\":\"SaveTool\",\"id\":\"p2539\"},{\"type\":\"object\",\"name\":\"ResetTool\",\"id\":\"p2540\"},{\"type\":\"object\",\"name\":\"HelpTool\",\"id\":\"p2541\"}]}},\"left\":[{\"type\":\"object\",\"name\":\"LinearAxis\",\"id\":\"p2526\",\"attributes\":{\"ticker\":{\"type\":\"object\",\"name\":\"BasicTicker\",\"id\":\"p2527\",\"attributes\":{\"mantissas\":[1,2,5]}},\"formatter\":{\"type\":\"object\",\"name\":\"BasicTickFormatter\",\"id\":\"p2528\"},\"axis_label\":\"Rice\",\"axis_label_standoff\":10,\"axis_label_text_color\":\"#E0E0E0\",\"axis_label_text_font\":\"Helvetica\",\"axis_label_text_font_size\":\"1.25em\",\"axis_label_text_font_style\":\"normal\",\"major_label_policy\":{\"type\":\"object\",\"name\":\"AllLabels\",\"id\":\"p2529\"},\"major_label_text_color\":\"#E0E0E0\",\"major_label_text_font\":\"Helvetica\",\"major_label_text_font_size\":\"1.025em\",\"axis_line_color\":\"#E0E0E0\",\"axis_line_alpha\":0,\"major_tick_line_color\":\"#E0E0E0\",\"major_tick_line_alpha\":0,\"minor_tick_line_color\":\"#E0E0E0\",\"minor_tick_line_alpha\":0}}],\"below\":[{\"type\":\"object\",\"name\":\"LinearAxis\",\"id\":\"p2521\",\"attributes\":{\"ticker\":{\"type\":\"object\",\"name\":\"BasicTicker\",\"id\":\"p2522\",\"attributes\":{\"mantissas\":[1,2,5]}},\"formatter\":{\"type\":\"object\",\"name\":\"BasicTickFormatter\",\"id\":\"p2523\"},\"axis_label\":\"Year\",\"axis_label_standoff\":10,\"axis_label_text_color\":\"#E0E0E0\",\"axis_label_text_font\":\"Helvetica\",\"axis_label_text_font_size\":\"1.25em\",\"axis_label_text_font_style\":\"normal\",\"major_label_policy\":{\"type\":\"object\",\"name\":\"AllLabels\",\"id\":\"p2524\"},\"major_label_text_color\":\"#E0E0E0\",\"major_label_text_font\":\"Helvetica\",\"major_label_text_font_size\":\"1.025em\",\"axis_line_color\":\"#E0E0E0\",\"axis_line_alpha\":0,\"major_tick_line_color\":\"#E0E0E0\",\"major_tick_line_alpha\":0,\"minor_tick_line_color\":\"#E0E0E0\",\"minor_tick_line_alpha\":0}}],\"center\":[{\"type\":\"object\",\"name\":\"Grid\",\"id\":\"p2525\",\"attributes\":{\"axis\":{\"id\":\"p2521\"},\"grid_line_color\":\"#E0E0E0\",\"grid_line_alpha\":0.25}},{\"type\":\"object\",\"name\":\"Grid\",\"id\":\"p2530\",\"attributes\":{\"dimension\":1,\"axis\":{\"id\":\"p2526\"},\"grid_line_color\":\"#E0E0E0\",\"grid_line_alpha\":0.25}}],\"background_fill_color\":\"#20262B\",\"border_fill_color\":\"#15191C\"}}]}}]}};\n  const render_items = [{\"docid\":\"80a7d03c-e2d3-4903-b382-f9ccca84be96\",\"roots\":{\"p2661\":\"afc5c333-2173-4fcd-8fe1-112585e127d4\"},\"root_ids\":[\"p2661\"]}];\n  void root.Bokeh.embed.embed_items_notebook(docs_json, render_items);\n  }\n  if (root.Bokeh !== undefined) {\n    embed_document(root);\n  } else {\n    let attempts = 0;\n    const timer = setInterval(function(root) {\n      if (root.Bokeh !== undefined) {\n        clearInterval(timer);\n        embed_document(root);\n      } else {\n        attempts++;\n        if (attempts > 100) {\n          clearInterval(timer);\n          console.log(\"Bokeh: ERROR: Unable to run BokehJS code because BokehJS library is missing\");\n        }\n      }\n    }, 10, root)\n  }\n})(window);",
      "application/vnd.bokehjs_exec.v0+json": ""
     },
     "metadata": {
      "application/vnd.bokehjs_exec.v0+json": {
       "id": "p2661"
      }
     },
     "output_type": "display_data"
    },
    {
     "data": {
      "text/html": "\n  <div id=\"e4ca4c6d-e54c-42bb-bda5-ef5f6e9de84e\" data-root-id=\"p2930\" style=\"display: contents;\"></div>\n"
     },
     "metadata": {},
     "output_type": "display_data"
    },
    {
     "data": {
      "application/javascript": "(function(root) {\n  function embed_document(root) {\n  const docs_json = {\"20ba8881-7a8e-49ca-9acf-52b5df663d14\":{\"version\":\"3.4.3\",\"title\":\"Bokeh Application\",\"roots\":[{\"type\":\"object\",\"name\":\"Column\",\"id\":\"p2930\",\"attributes\":{\"children\":[{\"type\":\"object\",\"name\":\"CheckboxGroup\",\"id\":\"p2928\",\"attributes\":{\"js_property_callbacks\":{\"type\":\"map\",\"entries\":[[\"change:active\",[{\"type\":\"object\",\"name\":\"CustomJS\",\"id\":\"p2929\",\"attributes\":{\"args\":{\"type\":\"map\",\"entries\":[[\"lines\",{\"type\":\"map\",\"entries\":[[\"agriculture\",{\"type\":\"object\",\"name\":\"GlyphRenderer\",\"id\":\"p2718\",\"attributes\":{\"data_source\":{\"type\":\"object\",\"name\":\"ColumnDataSource\",\"id\":\"p2676\",\"attributes\":{\"selected\":{\"type\":\"object\",\"name\":\"Selection\",\"id\":\"p2677\",\"attributes\":{\"indices\":[],\"line_indices\":[]}},\"selection_policy\":{\"type\":\"object\",\"name\":\"UnionRenderers\",\"id\":\"p2678\"},\"data\":{\"type\":\"map\",\"entries\":[[\"year\",{\"type\":\"ndarray\",\"array\":{\"type\":\"bytes\",\"data\":\"AAAAAABQn0AAAAAAAFSfQAAAAAAAWJ9AAAAAAABcn0AAAAAAAGCfQAAAAAAAZJ9AAAAAAABon0AAAAAAAGyfQAAAAAAAcJ9AAAAAAAB0n0AAAAAAAHifQAAAAAAAfJ9AAAAAAACAn0AAAAAAAISfQAAAAAAAiJ9AAAAAAACMn0AAAAAAAJCfQAAAAAAAlJ9AAAAAAACYn0A=\"},\"shape\":[19],\"dtype\":\"float64\",\"order\":\"little\"}],[\"agriculture\",{\"type\":\"ndarray\",\"array\":{\"type\":\"bytes\",\"data\":\"1azcDfan7T+VaVB8l4vfPz8Yg0EiVeQ/wst0qlah4D97q1uoRLvhP7NQVpVWZeA/+TJaR5PH4D++9JLRQa/iP02b/TB7QuU/x3/JO/dC3T9esrLoN3LfP80kwtUgDeA/yjLJM/3E2z/CMObVm4zgP5kBrnc+O+A/VI4FfXU/4T9MhGHeCobfP9BIcmw14N4/yoBs74Oe4D8=\"},\"shape\":[19],\"dtype\":\"float64\",\"order\":\"little\"}],[\"budget\",{\"type\":\"ndarray\",\"array\":{\"type\":\"bytes\",\"data\":\"AlvU6ieW5D+9/xIY53bgPwQLoz0VseI/vZ4f4VDc4T9mWfCflxnkP/ERi6xsM+Q/nWkS3woI5D8RyLV3YdTjP/R2ls9L2uU/vIL0KYTh5D8tB2PzOKnjP1IQ3Ik0quE/1h/FIs0V4j+QfdjfmF3hP6UdWe/XfOE/8eyYfqAT4D/8I7yGpJLiP/mT4ITwOeM/aaJEDsAk5D8=\"},\"shape\":[19],\"dtype\":\"float64\",\"order\":\"little\"}],[\"budgetary control\",{\"type\":\"ndarray\",\"array\":{\"type\":\"bytes\",\"data\":\"AAAAAAAA+H8AAAAAAAD4fyZkCtDGs+M/IU+aT/kX4T/vgCQvOybpP1lwNb/xGuc//2bEJrst5T/ak7U75XDkPxnfbrn4UNo/Q3r+WsLt4T/tBTfZNBHkPzglHLfnYOM/9KyZaQe34D/4wt/GGZvpP07jzq7Np+A/cbn7HeTi3z/eghFbw5XgP2swsWxMGeA/bCKMtCOy5D8=\"},\"shape\":[19],\"dtype\":\"float64\",\"order\":\"little\"}],[\"civil liberties justice home affairs\",{\"type\":\"ndarray\",\"array\":{\"type\":\"bytes\",\"data\":\"AZc71tXz2j/RPP0sROvfP//BgRtpt94/JGy7aQnw4D+UZ9zssE7iPybSUqC9QeA/mxMLKYB93j+Ct7kASyvgP6PvTmNHZeI/Qsxebjgb4z+pf7oAZEzkP0GKJZkYtt0/4+aVRpsB4D/cyDHEaJzhP7LYHZJdvt8/tLhCqxc73j8wVSelE0jgP7mY0nMAo+A/dlJ3H3iy5D8=\"},\"shape\":[19],\"dtype\":\"float64\",\"order\":\"little\"}],[\"constitutional inter institutional affairs\",{\"type\":\"ndarray\",\"array\":{\"type\":\"bytes\",\"data\":\"vgREI4in3T8AkUTDLHLiPwWdSGb9NOE/IEpUTRDQ4j9cWrhwyTjiPyDfEBMsJ+I/dE7cW8jo4z/Cisg6KhTkP6fgIWD3TOI/nsQ+RMUT4z/aaviWI6DjP9qOVBfq6+A/zTEG6DUA4D8KIpu7KwPhP+4KMP218uE/Ty2b1URc3z/6Obf+P2DgP1vzwiLFqtw/uTanoKJc2T8=\"},\"shape\":[19],\"dtype\":\"float64\",\"order\":\"little\"}],[\"culture education\",{\"type\":\"ndarray\",\"array\":{\"type\":\"bytes\",\"data\":\"AAAAAAAA+H8nG2rzdzzkPxgEtQNfz+A/qN+2UFDa4j/WOGMxebPlP7kMJfUcBec/lyx4QUn86j9TNO6q9zLpP9rpXH+cVuc/ZN/rJdNt5j+0B8jDjHjqPyTBCAsOOuQ/4G+rKfpa5D8oYrU8spvjP1EOVPMhA+Q/Nujrca904j9Bgz9/983oP3wML+oPouk/sQyeybTK4z8=\"},\"shape\":[19],\"dtype\":\"float64\",\"order\":\"little\"}],[\"development\",{\"type\":\"ndarray\",\"array\":{\"type\":\"bytes\",\"data\":\"lYxyJDp77j/A0i05KUnoP4Xp8ZvSh94/akLxCUAB2j+pFweoA9fjP18ME09DnuE/tABis4S+3T+54vdv9/fmP3uyofagheU/4jp+G9bc5j9F52cu83zeP1Pb+Wut0+I/itYsmVqm4D922EIypiThPyCt08mX6Nk/ppQMx91U2j/TvaUqYBywP6MoIOXUeuA/AAAAAAAA+H8=\"},\"shape\":[19],\"dtype\":\"float64\",\"order\":\"little\"}],[\"economic monetary affairs\",{\"type\":\"ndarray\",\"array\":{\"type\":\"bytes\",\"data\":\"AAAAAAAA+H8AAAAAAAD4fwAAAAAAAPh/AAAAAAAA+H8AAAAAAAD4f7ASO0xi5NU/boCcx+XE4z+5FFATpe7bPzEWjyX3BOQ/Qn+T28PF4j/w2MNVhRXiP35VjeODld4/n3kh5VWa3j/8/aHwrxLeP/m0CjPYi+I/xqrWA5y02j87GPnESTPgP1faXgty6OA/c6w8+ywC4T8=\"},\"shape\":[19],\"dtype\":\"float64\",\"order\":\"little\"}],[\"economics\",{\"type\":\"ndarray\",\"array\":{\"type\":\"bytes\",\"data\":\"3sglvsop1j/2Nl3mrQTeP4g7nYM8mts/cDWmxA1H2j+04RwzToLgP3lJr218R94/AAAAAAAA+H8AAAAAAAD4fwAAAAAAAPh/AAAAAAAA+H8AAAAAAAD4fwAAAAAAAPh/AAAAAAAA+H8AAAAAAAD4fwAAAAAAAPh/AAAAAAAA+H8AAAAAAAD4fwAAAAAAAPh/AAAAAAAA+H8=\"},\"shape\":[19],\"dtype\":\"float64\",\"order\":\"little\"}],[\"employment social affairs\",{\"type\":\"ndarray\",\"array\":{\"type\":\"bytes\",\"data\":\"AAAAAAAA+H/7F80iK6DRP1MR3tiry9o/4GSQQ4dk4T+7tc1WejngPxiImJwfq+c/bcygXZ3m4T/czM/ddSDjP2kwrlZZ4t4/sVV47OWT4j/CrWS6pnjgP3WPIeHiI94/p5g0iBSK4D/Rl424M8bXP7Lr5FgiK9w/JUOU4k9C3j+ZOlZIvozhP3/GGz0vjN4/2AOSr2zt3T8=\"},\"shape\":[19],\"dtype\":\"float64\",\"order\":\"little\"}],[\"environment public health\",{\"type\":\"ndarray\",\"array\":{\"type\":\"bytes\",\"data\":\"vus8P+EZ6D+snAuApqTXP09NC+b4SOI/nPkV8y2v2j91fybyJbfnP3n+cG5V5N0/Oim+G2i+2z+3lB3m6sTfP74XxODqAt4/nHtlxKDC2j+UqkVVRKXgP2ustz+TI9s/Zq45VMEi3z+MwYWm3iLhPwySzSQeUNk/+V5KTCh/2T81kmdr85feP4Tcd5+sNN0/tk0IcJmO3j8=\"},\"shape\":[19],\"dtype\":\"float64\",\"order\":\"little\"}],[\"fisheries\",{\"type\":\"ndarray\",\"array\":{\"type\":\"bytes\",\"data\":\"8ee2tnrg4z9KwB9gLIzkP/VLq2NjpOA/iI8QKOvJ5j+n7u7BZaLnPxGKtIM+I+c/Ta/7z9my4j/PRO6sXrXjP8o9sTNHSeQ/FF/2Phqh3j9ItQATCpnqP/tywdXGeOU/CzNFSB236T//VMtoGx3gPzNw18IeTNg/xc1mVZjA3T9Yok1maTboPy+DRbH2Xt4/vSpDbgqV6D8=\"},\"shape\":[19],\"dtype\":\"float64\",\"order\":\"little\"}],[\"foreign security policy\",{\"type\":\"ndarray\",\"array\":{\"type\":\"bytes\",\"data\":\"+nfiXA7d3z+y73aZNKLhPxnq4ueLceE/5E92tzjN4j/THDGQbaDkPwxKEbvqbeA/j/+ViR8F5D+seJo+XnfkP/Ua0suZwuM/sJyy2/3i4D9Ae40TOe7jPxiq+Ey8reA/ezNvaexT3z8GwbRJg9vfP5YT6QmbduA//p8E5oiL4D+72/oNZJzjP8f1/1P/O+M/SWonVwIQ4j8=\"},\"shape\":[19],\"dtype\":\"float64\",\"order\":\"little\"}],[\"gender equality\",{\"type\":\"ndarray\",\"array\":{\"type\":\"bytes\",\"data\":\"AAAAAAAA+H/obBgUqS7fP2IPifFfZuA/fxRzxNZ44T8HkvlNwJvdP+sK0Psykuk/L1HbYZIo3j85B5fklP/hP2rhHMpO3OE/4CrQszm04D9RVtKRs7LgP6JSFRM86tk/lL98rd2/3D81C+yDXdnXPwspWPg2od0/Dkh9FCEL2T9A2fqjrr7aP0/VY8O9OOI/zf9/cg3c4D8=\"},\"shape\":[19],\"dtype\":\"float64\",\"order\":\"little\"}],[\"industry research energy\",{\"type\":\"ndarray\",\"array\":{\"type\":\"bytes\",\"data\":\"AAAAAAAA+H/8rgUja2PZP7GnZzIYvNo/MzdC0/R/3z/m/wr9WCbjP7LkMU8kkeM/4pm6SG8R3z9RxnqH20ngP0dV0OrlHuE/g1SGiYzW3T82z4/H9LDgP06gQA4yfds/EHeCS/1q2j86IehIR0DiPyWQLbLegto/QRfxW8mI2z+9VQVvwPrgP/jf4n3jj98/4eopmN1H5z8=\"},\"shape\":[19],\"dtype\":\"float64\",\"order\":\"little\"}],[\"internal market consumer protection\",{\"type\":\"ndarray\",\"array\":{\"type\":\"bytes\",\"data\":\"AAAAAAAA+H+8ZIJdynTlP3DZR0qEtNo/cxq1NNWD2z/AWTASt4PkP6Cb3WTVfOQ/hGWsn+vm5z/PB3+jqqHnP6wZrQOQs+g/xxdmrH595D+2DBdezILhPyCws+MoOOE/GYiGfoZn4j8aQIZaMrPUP0EiOUwcwuA/BW2jQoD04T8rjjx5I6zkPz5j8L0BDeM/G5loH/6q3z8=\"},\"shape\":[19],\"dtype\":\"float64\",\"order\":\"little\"}],[\"internal regulations of the ep\",{\"type\":\"ndarray\",\"array\":{\"type\":\"bytes\",\"data\":\"AAAAAAAAuj/CdraQsJ3WPwAAAAAAAPh/ZE1PGdwS2T+QC9UVB9jbP/2WN4hiV+Y/GZ//FEyH1T8AAAAAAAD4f+5wKKp+zOQ/1hP4WY1g3D8AAAAAAAD4f4UnABuqfdc/7aGhKsL00D/qFL4pahTVPx11EmKjz88/fDR71pbN0D8SG3dyxMbNP1Ym+rUoj+8/5L5bCv1J7j8=\"},\"shape\":[19],\"dtype\":\"float64\",\"order\":\"little\"}],[\"international trade\",{\"type\":\"ndarray\",\"array\":{\"type\":\"bytes\",\"data\":\"AAAAAAAA+H/iISK1BiPgPw0GLwgytN4/XORhSHwq4D/ruQ4MTD7oP2UfrGBUH+M/MGGRaGUF4j9CzhWP3hPhP73zN/lz5+E/94gwEbdx4j9omcFLqzvgP2WK9GY3N9s/sSQmTWqQ3j8BhqVy8QLiP9BzgtXCleI/XgF3homd3z+eBZ9ItCbiPxXR2vnN++c/KLiW8YQK7D8=\"},\"shape\":[19],\"dtype\":\"float64\",\"order\":\"little\"}],[\"juridical affairs\",{\"type\":\"ndarray\",\"array\":{\"type\":\"bytes\",\"data\":\"1Tr7Iqp17j9sq4oMinjnP/GcmAX/quU/WC+aslZE3z87PVSM0C/tP1AYz9mkquk/zxgWRDCk3D9kSkneATDqP9ChER6vnuw/AAAAAAAA+H8AAAAAAAD4fwAAAAAAAPh/AAAAAAAA+H8AAAAAAAD4fwAAAAAAAPh/AAAAAAAA+H8AAAAAAAD4fwAAAAAAAPh/AAAAAAAA+H8=\"},\"shape\":[19],\"dtype\":\"float64\",\"order\":\"little\"}],[\"legal affairs\",{\"type\":\"ndarray\",\"array\":{\"type\":\"bytes\",\"data\":\"AAAAAAAA+H8AAAAAAAD4fwAAAAAAAPh/AAAAAAAA+H8AAAAAAAD4fwAAAAAAAPh/AAAAAAAA+H8AAAAAAAD4f4Yj11oveeI/B1TuW0Gx4z+Uc5u6tujgP/F0FVFIDeQ/OkAs8aDM5T/PDCxWd8vhPyCbKvDYb90/RRcaA2Jk5j8KPKy1zcrjP4dx7YiUzOI/cBdLjxWu5j8=\"},\"shape\":[19],\"dtype\":\"float64\",\"order\":\"little\"}],[\"petitions\",{\"type\":\"ndarray\",\"array\":{\"type\":\"bytes\",\"data\":\"JuPwrh7T7T/SFI/J5ybfP1uUSwtbf+g/NEHdr3jk6T/gjQU2FqrlPxPbTHXF7Og/AAAAAAAA+H8AAAAAAAD4f2lg9R5ArdA/c12zVVkb4z/gS+XdU+/jPznC5bM2LeA/JurojyqD4D/bWPQgJBfTPx+vtOlejNU/kMMrLf5W4T89T/0TOovjPzcuseTcXuA/7xfaVw+B2z8=\"},\"shape\":[19],\"dtype\":\"float64\",\"order\":\"little\"}],[\"regioanal development\",{\"type\":\"ndarray\",\"array\":{\"type\":\"bytes\",\"data\":\"AAAAAAAA+H8AAAAAAAD4fwAAAAAAAPh/AAAAAAAA+H8AAAAAAAD4fwAAAAAAAPh/AAAAAAAA+H8AAAAAAAD4fwAAAAAAAPh/AAAAAAAA+H8AAAAAAAD4fwAAAAAAAPh/gU8OlwGf7D8AAAAAAAD4fwAAAAAAAPh/AAAAAAAA+H8AAAAAAAD4fwAAAAAAAPh/AAAAAAAA+H8=\"},\"shape\":[19],\"dtype\":\"float64\",\"order\":\"little\"}],[\"regional development\",{\"type\":\"ndarray\",\"array\":{\"type\":\"bytes\",\"data\":\"AAAAAAAA+H92m8NJlm/iP4Nyt/Gec+U/jFsmRmNj4T8gLxssUdLjP3tXc/xEtuU/CCHEibfY6T9lT5nxNlfpP20zt6cK8uY/tJhLYk+65z938nyiLqroP5SJjOrOEuY/yrVyGzAz5T9gv3MYrZDjP8BMqFzVZOQ/8XGB/2U14z9rZQeLMiLjPxk2HCmuJeg/nY56tebm6z8=\"},\"shape\":[19],\"dtype\":\"float64\",\"order\":\"little\"}],[\"transport tourism\",{\"type\":\"ndarray\",\"array\":{\"type\":\"bytes\",\"data\":\"iIeHh4eH4T84UEWC6O3fP7ms1sgB1OQ/C1DKdl0w4D+fcs1hi43kP6nDTREkR+Q/IsVo57v45T+zq41NUHPjP0pCGDcWxOM/tu/0MsIP4T8s77UIVgbiPwKDoGfIHeU/aec8hgi54T+jQaCM2fHgP9sPlG60Ttg/Rr9HBh/e3D+ijgHFH2DkP6BA+NeKcuU/WjfmNyjf4T8=\"},\"shape\":[19],\"dtype\":\"float64\",\"order\":\"little\"}]]}}},\"view\":{\"type\":\"object\",\"name\":\"CDSView\",\"id\":\"p2719\",\"attributes\":{\"filter\":{\"type\":\"object\",\"name\":\"AllIndices\",\"id\":\"p2720\"}}},\"glyph\":{\"type\":\"object\",\"name\":\"Line\",\"id\":\"p2715\",\"attributes\":{\"x\":{\"type\":\"field\",\"field\":\"year\"},\"y\":{\"type\":\"field\",\"field\":\"agriculture\"},\"line_color\":\"#1f77b4\",\"line_width\":2}},\"nonselection_glyph\":{\"type\":\"object\",\"name\":\"Line\",\"id\":\"p2716\",\"attributes\":{\"x\":{\"type\":\"field\",\"field\":\"year\"},\"y\":{\"type\":\"field\",\"field\":\"agriculture\"},\"line_color\":\"#1f77b4\",\"line_alpha\":0.1,\"line_width\":2}},\"muted_glyph\":{\"type\":\"object\",\"name\":\"Line\",\"id\":\"p2717\",\"attributes\":{\"x\":{\"type\":\"field\",\"field\":\"year\"},\"y\":{\"type\":\"field\",\"field\":\"agriculture\"},\"line_color\":\"#1f77b4\",\"line_alpha\":0.2,\"line_width\":2}}}}],[\"budget\",{\"type\":\"object\",\"name\":\"GlyphRenderer\",\"id\":\"p2727\",\"attributes\":{\"data_source\":{\"id\":\"p2676\"},\"view\":{\"type\":\"object\",\"name\":\"CDSView\",\"id\":\"p2728\",\"attributes\":{\"filter\":{\"type\":\"object\",\"name\":\"AllIndices\",\"id\":\"p2729\"}}},\"glyph\":{\"type\":\"object\",\"name\":\"Line\",\"id\":\"p2724\",\"attributes\":{\"x\":{\"type\":\"field\",\"field\":\"year\"},\"y\":{\"type\":\"field\",\"field\":\"budget\"},\"line_color\":\"#1f77b4\",\"line_width\":2}},\"nonselection_glyph\":{\"type\":\"object\",\"name\":\"Line\",\"id\":\"p2725\",\"attributes\":{\"x\":{\"type\":\"field\",\"field\":\"year\"},\"y\":{\"type\":\"field\",\"field\":\"budget\"},\"line_color\":\"#1f77b4\",\"line_alpha\":0.1,\"line_width\":2}},\"muted_glyph\":{\"type\":\"object\",\"name\":\"Line\",\"id\":\"p2726\",\"attributes\":{\"x\":{\"type\":\"field\",\"field\":\"year\"},\"y\":{\"type\":\"field\",\"field\":\"budget\"},\"line_color\":\"#1f77b4\",\"line_alpha\":0.2,\"line_width\":2}}}}],[\"budgetary control\",{\"type\":\"object\",\"name\":\"GlyphRenderer\",\"id\":\"p2736\",\"attributes\":{\"data_source\":{\"id\":\"p2676\"},\"view\":{\"type\":\"object\",\"name\":\"CDSView\",\"id\":\"p2737\",\"attributes\":{\"filter\":{\"type\":\"object\",\"name\":\"AllIndices\",\"id\":\"p2738\"}}},\"glyph\":{\"type\":\"object\",\"name\":\"Line\",\"id\":\"p2733\",\"attributes\":{\"x\":{\"type\":\"field\",\"field\":\"year\"},\"y\":{\"type\":\"field\",\"field\":\"budgetary control\"},\"line_color\":\"#1f77b4\",\"line_width\":2}},\"nonselection_glyph\":{\"type\":\"object\",\"name\":\"Line\",\"id\":\"p2734\",\"attributes\":{\"x\":{\"type\":\"field\",\"field\":\"year\"},\"y\":{\"type\":\"field\",\"field\":\"budgetary control\"},\"line_color\":\"#1f77b4\",\"line_alpha\":0.1,\"line_width\":2}},\"muted_glyph\":{\"type\":\"object\",\"name\":\"Line\",\"id\":\"p2735\",\"attributes\":{\"x\":{\"type\":\"field\",\"field\":\"year\"},\"y\":{\"type\":\"field\",\"field\":\"budgetary control\"},\"line_color\":\"#1f77b4\",\"line_alpha\":0.2,\"line_width\":2}}}}],[\"civil liberties justice home affairs\",{\"type\":\"object\",\"name\":\"GlyphRenderer\",\"id\":\"p2745\",\"attributes\":{\"data_source\":{\"id\":\"p2676\"},\"view\":{\"type\":\"object\",\"name\":\"CDSView\",\"id\":\"p2746\",\"attributes\":{\"filter\":{\"type\":\"object\",\"name\":\"AllIndices\",\"id\":\"p2747\"}}},\"glyph\":{\"type\":\"object\",\"name\":\"Line\",\"id\":\"p2742\",\"attributes\":{\"x\":{\"type\":\"field\",\"field\":\"year\"},\"y\":{\"type\":\"field\",\"field\":\"civil liberties justice home affairs\"},\"line_color\":\"#1f77b4\",\"line_width\":2}},\"nonselection_glyph\":{\"type\":\"object\",\"name\":\"Line\",\"id\":\"p2743\",\"attributes\":{\"x\":{\"type\":\"field\",\"field\":\"year\"},\"y\":{\"type\":\"field\",\"field\":\"civil liberties justice home affairs\"},\"line_color\":\"#1f77b4\",\"line_alpha\":0.1,\"line_width\":2}},\"muted_glyph\":{\"type\":\"object\",\"name\":\"Line\",\"id\":\"p2744\",\"attributes\":{\"x\":{\"type\":\"field\",\"field\":\"year\"},\"y\":{\"type\":\"field\",\"field\":\"civil liberties justice home affairs\"},\"line_color\":\"#1f77b4\",\"line_alpha\":0.2,\"line_width\":2}}}}],[\"constitutional inter institutional affairs\",{\"type\":\"object\",\"name\":\"GlyphRenderer\",\"id\":\"p2754\",\"attributes\":{\"data_source\":{\"id\":\"p2676\"},\"view\":{\"type\":\"object\",\"name\":\"CDSView\",\"id\":\"p2755\",\"attributes\":{\"filter\":{\"type\":\"object\",\"name\":\"AllIndices\",\"id\":\"p2756\"}}},\"glyph\":{\"type\":\"object\",\"name\":\"Line\",\"id\":\"p2751\",\"attributes\":{\"x\":{\"type\":\"field\",\"field\":\"year\"},\"y\":{\"type\":\"field\",\"field\":\"constitutional inter institutional affairs\"},\"line_color\":\"#1f77b4\",\"line_width\":2}},\"nonselection_glyph\":{\"type\":\"object\",\"name\":\"Line\",\"id\":\"p2752\",\"attributes\":{\"x\":{\"type\":\"field\",\"field\":\"year\"},\"y\":{\"type\":\"field\",\"field\":\"constitutional inter institutional affairs\"},\"line_color\":\"#1f77b4\",\"line_alpha\":0.1,\"line_width\":2}},\"muted_glyph\":{\"type\":\"object\",\"name\":\"Line\",\"id\":\"p2753\",\"attributes\":{\"x\":{\"type\":\"field\",\"field\":\"year\"},\"y\":{\"type\":\"field\",\"field\":\"constitutional inter institutional affairs\"},\"line_color\":\"#1f77b4\",\"line_alpha\":0.2,\"line_width\":2}}}}],[\"culture education\",{\"type\":\"object\",\"name\":\"GlyphRenderer\",\"id\":\"p2763\",\"attributes\":{\"data_source\":{\"id\":\"p2676\"},\"view\":{\"type\":\"object\",\"name\":\"CDSView\",\"id\":\"p2764\",\"attributes\":{\"filter\":{\"type\":\"object\",\"name\":\"AllIndices\",\"id\":\"p2765\"}}},\"glyph\":{\"type\":\"object\",\"name\":\"Line\",\"id\":\"p2760\",\"attributes\":{\"x\":{\"type\":\"field\",\"field\":\"year\"},\"y\":{\"type\":\"field\",\"field\":\"culture education\"},\"line_color\":\"#1f77b4\",\"line_width\":2}},\"nonselection_glyph\":{\"type\":\"object\",\"name\":\"Line\",\"id\":\"p2761\",\"attributes\":{\"x\":{\"type\":\"field\",\"field\":\"year\"},\"y\":{\"type\":\"field\",\"field\":\"culture education\"},\"line_color\":\"#1f77b4\",\"line_alpha\":0.1,\"line_width\":2}},\"muted_glyph\":{\"type\":\"object\",\"name\":\"Line\",\"id\":\"p2762\",\"attributes\":{\"x\":{\"type\":\"field\",\"field\":\"year\"},\"y\":{\"type\":\"field\",\"field\":\"culture education\"},\"line_color\":\"#1f77b4\",\"line_alpha\":0.2,\"line_width\":2}}}}],[\"development\",{\"type\":\"object\",\"name\":\"GlyphRenderer\",\"id\":\"p2772\",\"attributes\":{\"data_source\":{\"id\":\"p2676\"},\"view\":{\"type\":\"object\",\"name\":\"CDSView\",\"id\":\"p2773\",\"attributes\":{\"filter\":{\"type\":\"object\",\"name\":\"AllIndices\",\"id\":\"p2774\"}}},\"glyph\":{\"type\":\"object\",\"name\":\"Line\",\"id\":\"p2769\",\"attributes\":{\"x\":{\"type\":\"field\",\"field\":\"year\"},\"y\":{\"type\":\"field\",\"field\":\"development\"},\"line_color\":\"#1f77b4\",\"line_width\":2}},\"nonselection_glyph\":{\"type\":\"object\",\"name\":\"Line\",\"id\":\"p2770\",\"attributes\":{\"x\":{\"type\":\"field\",\"field\":\"year\"},\"y\":{\"type\":\"field\",\"field\":\"development\"},\"line_color\":\"#1f77b4\",\"line_alpha\":0.1,\"line_width\":2}},\"muted_glyph\":{\"type\":\"object\",\"name\":\"Line\",\"id\":\"p2771\",\"attributes\":{\"x\":{\"type\":\"field\",\"field\":\"year\"},\"y\":{\"type\":\"field\",\"field\":\"development\"},\"line_color\":\"#1f77b4\",\"line_alpha\":0.2,\"line_width\":2}}}}],[\"economic monetary affairs\",{\"type\":\"object\",\"name\":\"GlyphRenderer\",\"id\":\"p2781\",\"attributes\":{\"data_source\":{\"id\":\"p2676\"},\"view\":{\"type\":\"object\",\"name\":\"CDSView\",\"id\":\"p2782\",\"attributes\":{\"filter\":{\"type\":\"object\",\"name\":\"AllIndices\",\"id\":\"p2783\"}}},\"glyph\":{\"type\":\"object\",\"name\":\"Line\",\"id\":\"p2778\",\"attributes\":{\"x\":{\"type\":\"field\",\"field\":\"year\"},\"y\":{\"type\":\"field\",\"field\":\"economic monetary affairs\"},\"line_color\":\"#1f77b4\",\"line_width\":2}},\"nonselection_glyph\":{\"type\":\"object\",\"name\":\"Line\",\"id\":\"p2779\",\"attributes\":{\"x\":{\"type\":\"field\",\"field\":\"year\"},\"y\":{\"type\":\"field\",\"field\":\"economic monetary affairs\"},\"line_color\":\"#1f77b4\",\"line_alpha\":0.1,\"line_width\":2}},\"muted_glyph\":{\"type\":\"object\",\"name\":\"Line\",\"id\":\"p2780\",\"attributes\":{\"x\":{\"type\":\"field\",\"field\":\"year\"},\"y\":{\"type\":\"field\",\"field\":\"economic monetary affairs\"},\"line_color\":\"#1f77b4\",\"line_alpha\":0.2,\"line_width\":2}}}}],[\"economics\",{\"type\":\"object\",\"name\":\"GlyphRenderer\",\"id\":\"p2790\",\"attributes\":{\"data_source\":{\"id\":\"p2676\"},\"view\":{\"type\":\"object\",\"name\":\"CDSView\",\"id\":\"p2791\",\"attributes\":{\"filter\":{\"type\":\"object\",\"name\":\"AllIndices\",\"id\":\"p2792\"}}},\"glyph\":{\"type\":\"object\",\"name\":\"Line\",\"id\":\"p2787\",\"attributes\":{\"x\":{\"type\":\"field\",\"field\":\"year\"},\"y\":{\"type\":\"field\",\"field\":\"economics\"},\"line_color\":\"#1f77b4\",\"line_width\":2}},\"nonselection_glyph\":{\"type\":\"object\",\"name\":\"Line\",\"id\":\"p2788\",\"attributes\":{\"x\":{\"type\":\"field\",\"field\":\"year\"},\"y\":{\"type\":\"field\",\"field\":\"economics\"},\"line_color\":\"#1f77b4\",\"line_alpha\":0.1,\"line_width\":2}},\"muted_glyph\":{\"type\":\"object\",\"name\":\"Line\",\"id\":\"p2789\",\"attributes\":{\"x\":{\"type\":\"field\",\"field\":\"year\"},\"y\":{\"type\":\"field\",\"field\":\"economics\"},\"line_color\":\"#1f77b4\",\"line_alpha\":0.2,\"line_width\":2}}}}],[\"employment social affairs\",{\"type\":\"object\",\"name\":\"GlyphRenderer\",\"id\":\"p2799\",\"attributes\":{\"data_source\":{\"id\":\"p2676\"},\"view\":{\"type\":\"object\",\"name\":\"CDSView\",\"id\":\"p2800\",\"attributes\":{\"filter\":{\"type\":\"object\",\"name\":\"AllIndices\",\"id\":\"p2801\"}}},\"glyph\":{\"type\":\"object\",\"name\":\"Line\",\"id\":\"p2796\",\"attributes\":{\"x\":{\"type\":\"field\",\"field\":\"year\"},\"y\":{\"type\":\"field\",\"field\":\"employment social affairs\"},\"line_color\":\"#1f77b4\",\"line_width\":2}},\"nonselection_glyph\":{\"type\":\"object\",\"name\":\"Line\",\"id\":\"p2797\",\"attributes\":{\"x\":{\"type\":\"field\",\"field\":\"year\"},\"y\":{\"type\":\"field\",\"field\":\"employment social affairs\"},\"line_color\":\"#1f77b4\",\"line_alpha\":0.1,\"line_width\":2}},\"muted_glyph\":{\"type\":\"object\",\"name\":\"Line\",\"id\":\"p2798\",\"attributes\":{\"x\":{\"type\":\"field\",\"field\":\"year\"},\"y\":{\"type\":\"field\",\"field\":\"employment social affairs\"},\"line_color\":\"#1f77b4\",\"line_alpha\":0.2,\"line_width\":2}}}}],[\"environment public health\",{\"type\":\"object\",\"name\":\"GlyphRenderer\",\"id\":\"p2808\",\"attributes\":{\"data_source\":{\"id\":\"p2676\"},\"view\":{\"type\":\"object\",\"name\":\"CDSView\",\"id\":\"p2809\",\"attributes\":{\"filter\":{\"type\":\"object\",\"name\":\"AllIndices\",\"id\":\"p2810\"}}},\"glyph\":{\"type\":\"object\",\"name\":\"Line\",\"id\":\"p2805\",\"attributes\":{\"x\":{\"type\":\"field\",\"field\":\"year\"},\"y\":{\"type\":\"field\",\"field\":\"environment public health\"},\"line_color\":\"#1f77b4\",\"line_width\":2}},\"nonselection_glyph\":{\"type\":\"object\",\"name\":\"Line\",\"id\":\"p2806\",\"attributes\":{\"x\":{\"type\":\"field\",\"field\":\"year\"},\"y\":{\"type\":\"field\",\"field\":\"environment public health\"},\"line_color\":\"#1f77b4\",\"line_alpha\":0.1,\"line_width\":2}},\"muted_glyph\":{\"type\":\"object\",\"name\":\"Line\",\"id\":\"p2807\",\"attributes\":{\"x\":{\"type\":\"field\",\"field\":\"year\"},\"y\":{\"type\":\"field\",\"field\":\"environment public health\"},\"line_color\":\"#1f77b4\",\"line_alpha\":0.2,\"line_width\":2}}}}],[\"fisheries\",{\"type\":\"object\",\"name\":\"GlyphRenderer\",\"id\":\"p2817\",\"attributes\":{\"data_source\":{\"id\":\"p2676\"},\"view\":{\"type\":\"object\",\"name\":\"CDSView\",\"id\":\"p2818\",\"attributes\":{\"filter\":{\"type\":\"object\",\"name\":\"AllIndices\",\"id\":\"p2819\"}}},\"glyph\":{\"type\":\"object\",\"name\":\"Line\",\"id\":\"p2814\",\"attributes\":{\"x\":{\"type\":\"field\",\"field\":\"year\"},\"y\":{\"type\":\"field\",\"field\":\"fisheries\"},\"line_color\":\"#1f77b4\",\"line_width\":2}},\"nonselection_glyph\":{\"type\":\"object\",\"name\":\"Line\",\"id\":\"p2815\",\"attributes\":{\"x\":{\"type\":\"field\",\"field\":\"year\"},\"y\":{\"type\":\"field\",\"field\":\"fisheries\"},\"line_color\":\"#1f77b4\",\"line_alpha\":0.1,\"line_width\":2}},\"muted_glyph\":{\"type\":\"object\",\"name\":\"Line\",\"id\":\"p2816\",\"attributes\":{\"x\":{\"type\":\"field\",\"field\":\"year\"},\"y\":{\"type\":\"field\",\"field\":\"fisheries\"},\"line_color\":\"#1f77b4\",\"line_alpha\":0.2,\"line_width\":2}}}}],[\"foreign security policy\",{\"type\":\"object\",\"name\":\"GlyphRenderer\",\"id\":\"p2826\",\"attributes\":{\"data_source\":{\"id\":\"p2676\"},\"view\":{\"type\":\"object\",\"name\":\"CDSView\",\"id\":\"p2827\",\"attributes\":{\"filter\":{\"type\":\"object\",\"name\":\"AllIndices\",\"id\":\"p2828\"}}},\"glyph\":{\"type\":\"object\",\"name\":\"Line\",\"id\":\"p2823\",\"attributes\":{\"x\":{\"type\":\"field\",\"field\":\"year\"},\"y\":{\"type\":\"field\",\"field\":\"foreign security policy\"},\"line_color\":\"#1f77b4\",\"line_width\":2}},\"nonselection_glyph\":{\"type\":\"object\",\"name\":\"Line\",\"id\":\"p2824\",\"attributes\":{\"x\":{\"type\":\"field\",\"field\":\"year\"},\"y\":{\"type\":\"field\",\"field\":\"foreign security policy\"},\"line_color\":\"#1f77b4\",\"line_alpha\":0.1,\"line_width\":2}},\"muted_glyph\":{\"type\":\"object\",\"name\":\"Line\",\"id\":\"p2825\",\"attributes\":{\"x\":{\"type\":\"field\",\"field\":\"year\"},\"y\":{\"type\":\"field\",\"field\":\"foreign security policy\"},\"line_color\":\"#1f77b4\",\"line_alpha\":0.2,\"line_width\":2}}}}],[\"gender equality\",{\"type\":\"object\",\"name\":\"GlyphRenderer\",\"id\":\"p2835\",\"attributes\":{\"data_source\":{\"id\":\"p2676\"},\"view\":{\"type\":\"object\",\"name\":\"CDSView\",\"id\":\"p2836\",\"attributes\":{\"filter\":{\"type\":\"object\",\"name\":\"AllIndices\",\"id\":\"p2837\"}}},\"glyph\":{\"type\":\"object\",\"name\":\"Line\",\"id\":\"p2832\",\"attributes\":{\"x\":{\"type\":\"field\",\"field\":\"year\"},\"y\":{\"type\":\"field\",\"field\":\"gender equality\"},\"line_color\":\"#1f77b4\",\"line_width\":2}},\"nonselection_glyph\":{\"type\":\"object\",\"name\":\"Line\",\"id\":\"p2833\",\"attributes\":{\"x\":{\"type\":\"field\",\"field\":\"year\"},\"y\":{\"type\":\"field\",\"field\":\"gender equality\"},\"line_color\":\"#1f77b4\",\"line_alpha\":0.1,\"line_width\":2}},\"muted_glyph\":{\"type\":\"object\",\"name\":\"Line\",\"id\":\"p2834\",\"attributes\":{\"x\":{\"type\":\"field\",\"field\":\"year\"},\"y\":{\"type\":\"field\",\"field\":\"gender equality\"},\"line_color\":\"#1f77b4\",\"line_alpha\":0.2,\"line_width\":2}}}}],[\"industry research energy\",{\"type\":\"object\",\"name\":\"GlyphRenderer\",\"id\":\"p2844\",\"attributes\":{\"data_source\":{\"id\":\"p2676\"},\"view\":{\"type\":\"object\",\"name\":\"CDSView\",\"id\":\"p2845\",\"attributes\":{\"filter\":{\"type\":\"object\",\"name\":\"AllIndices\",\"id\":\"p2846\"}}},\"glyph\":{\"type\":\"object\",\"name\":\"Line\",\"id\":\"p2841\",\"attributes\":{\"x\":{\"type\":\"field\",\"field\":\"year\"},\"y\":{\"type\":\"field\",\"field\":\"industry research energy\"},\"line_color\":\"#1f77b4\",\"line_width\":2}},\"nonselection_glyph\":{\"type\":\"object\",\"name\":\"Line\",\"id\":\"p2842\",\"attributes\":{\"x\":{\"type\":\"field\",\"field\":\"year\"},\"y\":{\"type\":\"field\",\"field\":\"industry research energy\"},\"line_color\":\"#1f77b4\",\"line_alpha\":0.1,\"line_width\":2}},\"muted_glyph\":{\"type\":\"object\",\"name\":\"Line\",\"id\":\"p2843\",\"attributes\":{\"x\":{\"type\":\"field\",\"field\":\"year\"},\"y\":{\"type\":\"field\",\"field\":\"industry research energy\"},\"line_color\":\"#1f77b4\",\"line_alpha\":0.2,\"line_width\":2}}}}],[\"internal market consumer protection\",{\"type\":\"object\",\"name\":\"GlyphRenderer\",\"id\":\"p2853\",\"attributes\":{\"data_source\":{\"id\":\"p2676\"},\"view\":{\"type\":\"object\",\"name\":\"CDSView\",\"id\":\"p2854\",\"attributes\":{\"filter\":{\"type\":\"object\",\"name\":\"AllIndices\",\"id\":\"p2855\"}}},\"glyph\":{\"type\":\"object\",\"name\":\"Line\",\"id\":\"p2850\",\"attributes\":{\"x\":{\"type\":\"field\",\"field\":\"year\"},\"y\":{\"type\":\"field\",\"field\":\"internal market consumer protection\"},\"line_color\":\"#1f77b4\",\"line_width\":2}},\"nonselection_glyph\":{\"type\":\"object\",\"name\":\"Line\",\"id\":\"p2851\",\"attributes\":{\"x\":{\"type\":\"field\",\"field\":\"year\"},\"y\":{\"type\":\"field\",\"field\":\"internal market consumer protection\"},\"line_color\":\"#1f77b4\",\"line_alpha\":0.1,\"line_width\":2}},\"muted_glyph\":{\"type\":\"object\",\"name\":\"Line\",\"id\":\"p2852\",\"attributes\":{\"x\":{\"type\":\"field\",\"field\":\"year\"},\"y\":{\"type\":\"field\",\"field\":\"internal market consumer protection\"},\"line_color\":\"#1f77b4\",\"line_alpha\":0.2,\"line_width\":2}}}}],[\"internal regulations of the ep\",{\"type\":\"object\",\"name\":\"GlyphRenderer\",\"id\":\"p2862\",\"attributes\":{\"data_source\":{\"id\":\"p2676\"},\"view\":{\"type\":\"object\",\"name\":\"CDSView\",\"id\":\"p2863\",\"attributes\":{\"filter\":{\"type\":\"object\",\"name\":\"AllIndices\",\"id\":\"p2864\"}}},\"glyph\":{\"type\":\"object\",\"name\":\"Line\",\"id\":\"p2859\",\"attributes\":{\"x\":{\"type\":\"field\",\"field\":\"year\"},\"y\":{\"type\":\"field\",\"field\":\"internal regulations of the ep\"},\"line_color\":\"#1f77b4\",\"line_width\":2}},\"nonselection_glyph\":{\"type\":\"object\",\"name\":\"Line\",\"id\":\"p2860\",\"attributes\":{\"x\":{\"type\":\"field\",\"field\":\"year\"},\"y\":{\"type\":\"field\",\"field\":\"internal regulations of the ep\"},\"line_color\":\"#1f77b4\",\"line_alpha\":0.1,\"line_width\":2}},\"muted_glyph\":{\"type\":\"object\",\"name\":\"Line\",\"id\":\"p2861\",\"attributes\":{\"x\":{\"type\":\"field\",\"field\":\"year\"},\"y\":{\"type\":\"field\",\"field\":\"internal regulations of the ep\"},\"line_color\":\"#1f77b4\",\"line_alpha\":0.2,\"line_width\":2}}}}],[\"international trade\",{\"type\":\"object\",\"name\":\"GlyphRenderer\",\"id\":\"p2871\",\"attributes\":{\"data_source\":{\"id\":\"p2676\"},\"view\":{\"type\":\"object\",\"name\":\"CDSView\",\"id\":\"p2872\",\"attributes\":{\"filter\":{\"type\":\"object\",\"name\":\"AllIndices\",\"id\":\"p2873\"}}},\"glyph\":{\"type\":\"object\",\"name\":\"Line\",\"id\":\"p2868\",\"attributes\":{\"x\":{\"type\":\"field\",\"field\":\"year\"},\"y\":{\"type\":\"field\",\"field\":\"international trade\"},\"line_color\":\"#1f77b4\",\"line_width\":2}},\"nonselection_glyph\":{\"type\":\"object\",\"name\":\"Line\",\"id\":\"p2869\",\"attributes\":{\"x\":{\"type\":\"field\",\"field\":\"year\"},\"y\":{\"type\":\"field\",\"field\":\"international trade\"},\"line_color\":\"#1f77b4\",\"line_alpha\":0.1,\"line_width\":2}},\"muted_glyph\":{\"type\":\"object\",\"name\":\"Line\",\"id\":\"p2870\",\"attributes\":{\"x\":{\"type\":\"field\",\"field\":\"year\"},\"y\":{\"type\":\"field\",\"field\":\"international trade\"},\"line_color\":\"#1f77b4\",\"line_alpha\":0.2,\"line_width\":2}}}}],[\"juridical affairs\",{\"type\":\"object\",\"name\":\"GlyphRenderer\",\"id\":\"p2880\",\"attributes\":{\"data_source\":{\"id\":\"p2676\"},\"view\":{\"type\":\"object\",\"name\":\"CDSView\",\"id\":\"p2881\",\"attributes\":{\"filter\":{\"type\":\"object\",\"name\":\"AllIndices\",\"id\":\"p2882\"}}},\"glyph\":{\"type\":\"object\",\"name\":\"Line\",\"id\":\"p2877\",\"attributes\":{\"x\":{\"type\":\"field\",\"field\":\"year\"},\"y\":{\"type\":\"field\",\"field\":\"juridical affairs\"},\"line_color\":\"#1f77b4\",\"line_width\":2}},\"nonselection_glyph\":{\"type\":\"object\",\"name\":\"Line\",\"id\":\"p2878\",\"attributes\":{\"x\":{\"type\":\"field\",\"field\":\"year\"},\"y\":{\"type\":\"field\",\"field\":\"juridical affairs\"},\"line_color\":\"#1f77b4\",\"line_alpha\":0.1,\"line_width\":2}},\"muted_glyph\":{\"type\":\"object\",\"name\":\"Line\",\"id\":\"p2879\",\"attributes\":{\"x\":{\"type\":\"field\",\"field\":\"year\"},\"y\":{\"type\":\"field\",\"field\":\"juridical affairs\"},\"line_color\":\"#1f77b4\",\"line_alpha\":0.2,\"line_width\":2}}}}],[\"legal affairs\",{\"type\":\"object\",\"name\":\"GlyphRenderer\",\"id\":\"p2889\",\"attributes\":{\"data_source\":{\"id\":\"p2676\"},\"view\":{\"type\":\"object\",\"name\":\"CDSView\",\"id\":\"p2890\",\"attributes\":{\"filter\":{\"type\":\"object\",\"name\":\"AllIndices\",\"id\":\"p2891\"}}},\"glyph\":{\"type\":\"object\",\"name\":\"Line\",\"id\":\"p2886\",\"attributes\":{\"x\":{\"type\":\"field\",\"field\":\"year\"},\"y\":{\"type\":\"field\",\"field\":\"legal affairs\"},\"line_color\":\"#1f77b4\",\"line_width\":2}},\"nonselection_glyph\":{\"type\":\"object\",\"name\":\"Line\",\"id\":\"p2887\",\"attributes\":{\"x\":{\"type\":\"field\",\"field\":\"year\"},\"y\":{\"type\":\"field\",\"field\":\"legal affairs\"},\"line_color\":\"#1f77b4\",\"line_alpha\":0.1,\"line_width\":2}},\"muted_glyph\":{\"type\":\"object\",\"name\":\"Line\",\"id\":\"p2888\",\"attributes\":{\"x\":{\"type\":\"field\",\"field\":\"year\"},\"y\":{\"type\":\"field\",\"field\":\"legal affairs\"},\"line_color\":\"#1f77b4\",\"line_alpha\":0.2,\"line_width\":2}}}}],[\"petitions\",{\"type\":\"object\",\"name\":\"GlyphRenderer\",\"id\":\"p2898\",\"attributes\":{\"data_source\":{\"id\":\"p2676\"},\"view\":{\"type\":\"object\",\"name\":\"CDSView\",\"id\":\"p2899\",\"attributes\":{\"filter\":{\"type\":\"object\",\"name\":\"AllIndices\",\"id\":\"p2900\"}}},\"glyph\":{\"type\":\"object\",\"name\":\"Line\",\"id\":\"p2895\",\"attributes\":{\"x\":{\"type\":\"field\",\"field\":\"year\"},\"y\":{\"type\":\"field\",\"field\":\"petitions\"},\"line_color\":\"#1f77b4\",\"line_width\":2}},\"nonselection_glyph\":{\"type\":\"object\",\"name\":\"Line\",\"id\":\"p2896\",\"attributes\":{\"x\":{\"type\":\"field\",\"field\":\"year\"},\"y\":{\"type\":\"field\",\"field\":\"petitions\"},\"line_color\":\"#1f77b4\",\"line_alpha\":0.1,\"line_width\":2}},\"muted_glyph\":{\"type\":\"object\",\"name\":\"Line\",\"id\":\"p2897\",\"attributes\":{\"x\":{\"type\":\"field\",\"field\":\"year\"},\"y\":{\"type\":\"field\",\"field\":\"petitions\"},\"line_color\":\"#1f77b4\",\"line_alpha\":0.2,\"line_width\":2}}}}],[\"regioanal development\",{\"type\":\"object\",\"name\":\"GlyphRenderer\",\"id\":\"p2907\",\"attributes\":{\"data_source\":{\"id\":\"p2676\"},\"view\":{\"type\":\"object\",\"name\":\"CDSView\",\"id\":\"p2908\",\"attributes\":{\"filter\":{\"type\":\"object\",\"name\":\"AllIndices\",\"id\":\"p2909\"}}},\"glyph\":{\"type\":\"object\",\"name\":\"Line\",\"id\":\"p2904\",\"attributes\":{\"x\":{\"type\":\"field\",\"field\":\"year\"},\"y\":{\"type\":\"field\",\"field\":\"regioanal development\"},\"line_color\":\"#1f77b4\",\"line_width\":2}},\"nonselection_glyph\":{\"type\":\"object\",\"name\":\"Line\",\"id\":\"p2905\",\"attributes\":{\"x\":{\"type\":\"field\",\"field\":\"year\"},\"y\":{\"type\":\"field\",\"field\":\"regioanal development\"},\"line_color\":\"#1f77b4\",\"line_alpha\":0.1,\"line_width\":2}},\"muted_glyph\":{\"type\":\"object\",\"name\":\"Line\",\"id\":\"p2906\",\"attributes\":{\"x\":{\"type\":\"field\",\"field\":\"year\"},\"y\":{\"type\":\"field\",\"field\":\"regioanal development\"},\"line_color\":\"#1f77b4\",\"line_alpha\":0.2,\"line_width\":2}}}}],[\"regional development\",{\"type\":\"object\",\"name\":\"GlyphRenderer\",\"id\":\"p2916\",\"attributes\":{\"data_source\":{\"id\":\"p2676\"},\"view\":{\"type\":\"object\",\"name\":\"CDSView\",\"id\":\"p2917\",\"attributes\":{\"filter\":{\"type\":\"object\",\"name\":\"AllIndices\",\"id\":\"p2918\"}}},\"glyph\":{\"type\":\"object\",\"name\":\"Line\",\"id\":\"p2913\",\"attributes\":{\"x\":{\"type\":\"field\",\"field\":\"year\"},\"y\":{\"type\":\"field\",\"field\":\"regional development\"},\"line_color\":\"#1f77b4\",\"line_width\":2}},\"nonselection_glyph\":{\"type\":\"object\",\"name\":\"Line\",\"id\":\"p2914\",\"attributes\":{\"x\":{\"type\":\"field\",\"field\":\"year\"},\"y\":{\"type\":\"field\",\"field\":\"regional development\"},\"line_color\":\"#1f77b4\",\"line_alpha\":0.1,\"line_width\":2}},\"muted_glyph\":{\"type\":\"object\",\"name\":\"Line\",\"id\":\"p2915\",\"attributes\":{\"x\":{\"type\":\"field\",\"field\":\"year\"},\"y\":{\"type\":\"field\",\"field\":\"regional development\"},\"line_color\":\"#1f77b4\",\"line_alpha\":0.2,\"line_width\":2}}}}],[\"transport tourism\",{\"type\":\"object\",\"name\":\"GlyphRenderer\",\"id\":\"p2925\",\"attributes\":{\"data_source\":{\"id\":\"p2676\"},\"view\":{\"type\":\"object\",\"name\":\"CDSView\",\"id\":\"p2926\",\"attributes\":{\"filter\":{\"type\":\"object\",\"name\":\"AllIndices\",\"id\":\"p2927\"}}},\"glyph\":{\"type\":\"object\",\"name\":\"Line\",\"id\":\"p2922\",\"attributes\":{\"x\":{\"type\":\"field\",\"field\":\"year\"},\"y\":{\"type\":\"field\",\"field\":\"transport tourism\"},\"line_color\":\"#1f77b4\",\"line_width\":2}},\"nonselection_glyph\":{\"type\":\"object\",\"name\":\"Line\",\"id\":\"p2923\",\"attributes\":{\"x\":{\"type\":\"field\",\"field\":\"year\"},\"y\":{\"type\":\"field\",\"field\":\"transport tourism\"},\"line_color\":\"#1f77b4\",\"line_alpha\":0.1,\"line_width\":2}},\"muted_glyph\":{\"type\":\"object\",\"name\":\"Line\",\"id\":\"p2924\",\"attributes\":{\"x\":{\"type\":\"field\",\"field\":\"year\"},\"y\":{\"type\":\"field\",\"field\":\"transport tourism\"},\"line_color\":\"#1f77b4\",\"line_alpha\":0.2,\"line_width\":2}}}}]]}],[\"labels\",[\"agriculture\",\"budget\",\"budgetary control\",\"civil liberties justice home affairs\",\"constitutional inter institutional affairs\",\"culture education\",\"development\",\"economic monetary affairs\",\"economics\",\"employment social affairs\",\"environment public health\",\"fisheries\",\"foreign security policy\",\"gender equality\",\"industry research energy\",\"internal market consumer protection\",\"internal regulations of the ep\",\"international trade\",\"juridical affairs\",\"legal affairs\",\"petitions\",\"regioanal development\",\"regional development\",\"transport tourism\"]]]},\"code\":\"\\n    const active = cb_obj.active.map(i => labels[i]);\\n    for (let area of labels) {\\n        lines[area].visible = active.includes(area);\\n    }\\n\"}}]]]},\"labels\":[\"agriculture\",\"budget\",\"budgetary control\",\"civil liberties justice home affairs\",\"constitutional inter institutional affairs\",\"culture education\",\"development\",\"economic monetary affairs\",\"economics\",\"employment social affairs\",\"environment public health\",\"fisheries\",\"foreign security policy\",\"gender equality\",\"industry research energy\",\"internal market consumer protection\",\"internal regulations of the ep\",\"international trade\",\"juridical affairs\",\"legal affairs\",\"petitions\",\"regioanal development\",\"regional development\",\"transport tourism\"],\"active\":[0,1,2,3,4,5,6,7,8,9,10,11,12,13,14,15,16,17,18,19,20,21,22,23]}},{\"type\":\"object\",\"name\":\"Figure\",\"id\":\"p2679\",\"attributes\":{\"width\":700,\"height\":350,\"x_range\":{\"type\":\"object\",\"name\":\"DataRange1d\",\"id\":\"p2680\"},\"y_range\":{\"type\":\"object\",\"name\":\"DataRange1d\",\"id\":\"p2681\"},\"x_scale\":{\"type\":\"object\",\"name\":\"LinearScale\",\"id\":\"p2689\"},\"y_scale\":{\"type\":\"object\",\"name\":\"LinearScale\",\"id\":\"p2690\"},\"title\":{\"type\":\"object\",\"name\":\"Title\",\"id\":\"p2682\",\"attributes\":{\"text\":\"Agreement by Policy Area\",\"text_color\":\"#E0E0E0\",\"text_font\":\"Helvetica\",\"text_font_size\":\"1.15em\"}},\"outline_line_color\":\"#E0E0E0\",\"outline_line_alpha\":0.25,\"renderers\":[{\"id\":\"p2718\"},{\"id\":\"p2727\"},{\"id\":\"p2736\"},{\"id\":\"p2745\"},{\"id\":\"p2754\"},{\"id\":\"p2763\"},{\"id\":\"p2772\"},{\"id\":\"p2781\"},{\"id\":\"p2790\"},{\"id\":\"p2799\"},{\"id\":\"p2808\"},{\"id\":\"p2817\"},{\"id\":\"p2826\"},{\"id\":\"p2835\"},{\"id\":\"p2844\"},{\"id\":\"p2853\"},{\"id\":\"p2862\"},{\"id\":\"p2871\"},{\"id\":\"p2880\"},{\"id\":\"p2889\"},{\"id\":\"p2898\"},{\"id\":\"p2907\"},{\"id\":\"p2916\"},{\"id\":\"p2925\"}],\"toolbar\":{\"type\":\"object\",\"name\":\"Toolbar\",\"id\":\"p2688\",\"attributes\":{\"tools\":[{\"type\":\"object\",\"name\":\"PanTool\",\"id\":\"p2701\"},{\"type\":\"object\",\"name\":\"WheelZoomTool\",\"id\":\"p2702\",\"attributes\":{\"renderers\":\"auto\"}},{\"type\":\"object\",\"name\":\"BoxZoomTool\",\"id\":\"p2703\",\"attributes\":{\"overlay\":{\"type\":\"object\",\"name\":\"BoxAnnotation\",\"id\":\"p2704\",\"attributes\":{\"syncable\":false,\"level\":\"overlay\",\"visible\":false,\"left\":{\"type\":\"number\",\"value\":\"nan\"},\"right\":{\"type\":\"number\",\"value\":\"nan\"},\"top\":{\"type\":\"number\",\"value\":\"nan\"},\"bottom\":{\"type\":\"number\",\"value\":\"nan\"},\"left_units\":\"canvas\",\"right_units\":\"canvas\",\"top_units\":\"canvas\",\"bottom_units\":\"canvas\",\"line_color\":\"black\",\"line_alpha\":1.0,\"line_width\":2,\"line_dash\":[4,4],\"fill_color\":\"lightgrey\",\"fill_alpha\":0.5}}}},{\"type\":\"object\",\"name\":\"SaveTool\",\"id\":\"p2709\"},{\"type\":\"object\",\"name\":\"ResetTool\",\"id\":\"p2710\"},{\"type\":\"object\",\"name\":\"HelpTool\",\"id\":\"p2711\"}]}},\"left\":[{\"type\":\"object\",\"name\":\"LinearAxis\",\"id\":\"p2696\",\"attributes\":{\"ticker\":{\"type\":\"object\",\"name\":\"BasicTicker\",\"id\":\"p2697\",\"attributes\":{\"mantissas\":[1,2,5]}},\"formatter\":{\"type\":\"object\",\"name\":\"BasicTickFormatter\",\"id\":\"p2698\"},\"axis_label\":\"Rice\",\"axis_label_standoff\":10,\"axis_label_text_color\":\"#E0E0E0\",\"axis_label_text_font\":\"Helvetica\",\"axis_label_text_font_size\":\"1.25em\",\"axis_label_text_font_style\":\"normal\",\"major_label_policy\":{\"type\":\"object\",\"name\":\"AllLabels\",\"id\":\"p2699\"},\"major_label_text_color\":\"#E0E0E0\",\"major_label_text_font\":\"Helvetica\",\"major_label_text_font_size\":\"1.025em\",\"axis_line_color\":\"#E0E0E0\",\"axis_line_alpha\":0,\"major_tick_line_color\":\"#E0E0E0\",\"major_tick_line_alpha\":0,\"minor_tick_line_color\":\"#E0E0E0\",\"minor_tick_line_alpha\":0}}],\"below\":[{\"type\":\"object\",\"name\":\"LinearAxis\",\"id\":\"p2691\",\"attributes\":{\"ticker\":{\"type\":\"object\",\"name\":\"BasicTicker\",\"id\":\"p2692\",\"attributes\":{\"mantissas\":[1,2,5]}},\"formatter\":{\"type\":\"object\",\"name\":\"BasicTickFormatter\",\"id\":\"p2693\"},\"axis_label\":\"Year\",\"axis_label_standoff\":10,\"axis_label_text_color\":\"#E0E0E0\",\"axis_label_text_font\":\"Helvetica\",\"axis_label_text_font_size\":\"1.25em\",\"axis_label_text_font_style\":\"normal\",\"major_label_policy\":{\"type\":\"object\",\"name\":\"AllLabels\",\"id\":\"p2694\"},\"major_label_text_color\":\"#E0E0E0\",\"major_label_text_font\":\"Helvetica\",\"major_label_text_font_size\":\"1.025em\",\"axis_line_color\":\"#E0E0E0\",\"axis_line_alpha\":0,\"major_tick_line_color\":\"#E0E0E0\",\"major_tick_line_alpha\":0,\"minor_tick_line_color\":\"#E0E0E0\",\"minor_tick_line_alpha\":0}}],\"center\":[{\"type\":\"object\",\"name\":\"Grid\",\"id\":\"p2695\",\"attributes\":{\"axis\":{\"id\":\"p2691\"},\"grid_line_color\":\"#E0E0E0\",\"grid_line_alpha\":0.25}},{\"type\":\"object\",\"name\":\"Grid\",\"id\":\"p2700\",\"attributes\":{\"dimension\":1,\"axis\":{\"id\":\"p2696\"},\"grid_line_color\":\"#E0E0E0\",\"grid_line_alpha\":0.25}}],\"background_fill_color\":\"#20262B\",\"border_fill_color\":\"#15191C\"}}]}}]}};\n  const render_items = [{\"docid\":\"20ba8881-7a8e-49ca-9acf-52b5df663d14\",\"roots\":{\"p2930\":\"e4ca4c6d-e54c-42bb-bda5-ef5f6e9de84e\"},\"root_ids\":[\"p2930\"]}];\n  void root.Bokeh.embed.embed_items_notebook(docs_json, render_items);\n  }\n  if (root.Bokeh !== undefined) {\n    embed_document(root);\n  } else {\n    let attempts = 0;\n    const timer = setInterval(function(root) {\n      if (root.Bokeh !== undefined) {\n        clearInterval(timer);\n        embed_document(root);\n      } else {\n        attempts++;\n        if (attempts > 100) {\n          clearInterval(timer);\n          console.log(\"Bokeh: ERROR: Unable to run BokehJS code because BokehJS library is missing\");\n        }\n      }\n    }, 10, root)\n  }\n})(window);",
      "application/vnd.bokehjs_exec.v0+json": ""
     },
     "metadata": {
      "application/vnd.bokehjs_exec.v0+json": {
       "id": "p2930"
      }
     },
     "output_type": "display_data"
    }
   ],
   "source": [
    "import pandas as pd\n",
    "from bokeh.plotting import figure, show, output_notebook\n",
    "from bokeh.models import ColumnDataSource, CheckboxGroup, CustomJS\n",
    "from bokeh.layouts import column\n",
    "\n",
    "# 7. PLOTS with Bokeh\n",
    "output_notebook()\n",
    "\n",
    "# 7.1 Parliament-wide static line\n",
    "p1 = figure(title=\"Parliament-wide Agreement (Rice Index)\",\n",
    "            x_axis_label='Year', y_axis_label='Rice index',\n",
    "            width=700, height=350)\n",
    "p1.line(yearly['year'], yearly['rice'], line_width=2)\n",
    "show(p1)\n",
    "\n",
    "# 7.2 Interactive: Agreement by Party\n",
    "source_party = ColumnDataSource(\n",
    "    data=dict(year=party_year.index, **{c: party_year[c].values for c in party_year.columns})\n",
    ")\n",
    "p2 = figure(title=\"Agreement by Party\",\n",
    "            x_axis_label='Year', y_axis_label='Rice',\n",
    "            width=700, height=350)\n",
    "\n",
    "lines = {}\n",
    "for party in party_year.columns:\n",
    "    lines[party] = p2.line('year', party, source=source_party, line_width=2, visible=True)\n",
    "\n",
    "checkbox_parties = CheckboxGroup(labels=list(party_year.columns),\n",
    "                                 active=list(range(len(party_year.columns))))\n",
    "\n",
    "callback_party = CustomJS(args=dict(lines=lines, labels=checkbox_parties.labels), code=\"\"\"\n",
    "    const active = cb_obj.active.map(i => labels[i]);\n",
    "    for (let p of labels) {\n",
    "        lines[p].visible = active.includes(p);\n",
    "    }\n",
    "\"\"\")\n",
    "checkbox_parties.js_on_change('active', callback_party)\n",
    "\n",
    "show(column(checkbox_parties, p2))\n",
    "\n",
    "# 7.3 Interactive: Agreement by Policy Area\n",
    "source_policy = ColumnDataSource(\n",
    "    data=dict(year=policy_year.index, **{c: policy_year[c].values for c in policy_year.columns})\n",
    ")\n",
    "p3 = figure(title=\"Agreement by Policy Area\",\n",
    "            x_axis_label='Year', y_axis_label='Rice',\n",
    "            width=700, height=350)\n",
    "\n",
    "pol_lines = {}\n",
    "for area in policy_year.columns:\n",
    "    pol_lines[area] = p3.line('year', area, source=source_policy, line_width=2, visible=True)\n",
    "\n",
    "checkbox_policies = CheckboxGroup(labels=list(policy_year.columns),\n",
    "                                 active=list(range(len(policy_year.columns))))\n",
    "\n",
    "callback_pol = CustomJS(args=dict(lines=pol_lines, labels=checkbox_policies.labels), code=\"\"\"\n",
    "    const active = cb_obj.active.map(i => labels[i]);\n",
    "    for (let area of labels) {\n",
    "        lines[area].visible = active.includes(area);\n",
    "    }\n",
    "\"\"\")\n",
    "checkbox_policies.js_on_change('active', callback_pol)\n",
    "\n",
    "show(column(checkbox_policies, p3))"
   ],
   "metadata": {
    "collapsed": false,
    "ExecuteTime": {
     "end_time": "2025-05-11T13:35:49.388644Z",
     "start_time": "2025-05-11T13:35:49.162792Z"
    }
   },
   "id": "5974fbbcf2a9dcf5"
  },
  {
   "cell_type": "code",
   "execution_count": 35,
   "outputs": [
    {
     "name": "stdout",
     "output_type": "stream",
     "text": [
      "['The Left' 'IDG' 'EPP' 'NI' 'ALDE' 'S&D' 'UEN' 'Greens/EFA' 'EFD' 'ECR'\n",
      " nan 'EFDD' 'ENF' 'REG']\n"
     ]
    }
   ],
   "source": [
    "print(df['epg'].unique())"
   ],
   "metadata": {
    "collapsed": false,
    "ExecuteTime": {
     "end_time": "2025-05-11T13:31:03.262135Z",
     "start_time": "2025-05-11T13:31:02.876541Z"
    }
   },
   "id": "a35f0f7c6a753fa3"
  },
  {
   "cell_type": "code",
   "execution_count": 40,
   "outputs": [],
   "source": [
    "# 1️⃣ Count yes/no/abstain per (party, policy_area)\n",
    "pp = (\n",
    "    df_votes\n",
    "    .groupby(['epg','policy_area_cleaned'])['vote']\n",
    "    .value_counts()\n",
    "    .unstack(fill_value=0)\n",
    "    .rename(columns={1:'yes',2:'no',3:'abstain'})\n",
    "    .reset_index()\n",
    ")\n",
    "\n",
    "# 2️⃣ Rice index\n",
    "pp['rice'] = pp.apply(lambda r: rice_index(r.yes, r.no, r.abstain), axis=1)\n",
    "\n",
    "# 3️⃣ Pivot so each party is a column, rows are policy_area\n",
    "party_policy = (\n",
    "    pp\n",
    "    .pivot(index='policy_area_cleaned', columns='epg', values='rice')\n",
    "    .fillna(0)               # in case some party never voted in an area\n",
    "    .sort_index()\n",
    ")"
   ],
   "metadata": {
    "collapsed": false,
    "ExecuteTime": {
     "end_time": "2025-05-11T13:42:32.022561Z",
     "start_time": "2025-05-11T13:42:30.362507Z"
    }
   },
   "id": "d0ef4ffbdbb0df43"
  },
  {
   "cell_type": "code",
   "execution_count": 53,
   "outputs": [
    {
     "data": {
      "text/html": "    <style>\n        .bk-notebook-logo {\n            display: block;\n            width: 20px;\n            height: 20px;\n            background-image: url(data:image/png;base64,iVBORw0KGgoAAAANSUhEUgAAABQAAAAUCAYAAACNiR0NAAAABHNCSVQICAgIfAhkiAAAAAlwSFlzAAALEgAACxIB0t1+/AAAABx0RVh0U29mdHdhcmUAQWRvYmUgRmlyZXdvcmtzIENTNui8sowAAAOkSURBVDiNjZRtaJVlGMd/1/08zzln5zjP1LWcU9N0NkN8m2CYjpgQYQXqSs0I84OLIC0hkEKoPtiH3gmKoiJDU7QpLgoLjLIQCpEsNJ1vqUOdO7ppbuec5+V+rj4ctwzd8IIbbi6u+8f1539dt3A78eXC7QizUF7gyV1fD1Yqg4JWz84yffhm0qkFqBogB9rM8tZdtwVsPUhWhGcFJngGeWrPzHm5oaMmkfEg1usvLFyc8jLRqDOMru7AyC8saQr7GG7f5fvDeH7Ej8CM66nIF+8yngt6HWaKh7k49Soy9nXurCi1o3qUbS3zWfrYeQDTB/Qj6kX6Ybhw4B+bOYoLKCC9H3Nu/leUTZ1JdRWkkn2ldcCamzrcf47KKXdAJllSlxAOkRgyHsGC/zRday5Qld9DyoM4/q/rUoy/CXh3jzOu3bHUVZeU+DEn8FInkPBFlu3+nW3Nw0mk6vCDiWg8CeJaxEwuHS3+z5RgY+YBR6V1Z1nxSOfoaPa4LASWxxdNp+VWTk7+4vzaou8v8PN+xo+KY2xsw6une2frhw05CTYOmQvsEhjhWjn0bmXPjpE1+kplmmkP3suftwTubK9Vq22qKmrBhpY4jvd5afdRA3wGjFAgcnTK2s4hY0/GPNIb0nErGMCRxWOOX64Z8RAC4oCXdklmEvcL8o0BfkNK4lUg9HTl+oPlQxdNo3Mg4Nv175e/1LDGzZen30MEjRUtmXSfiTVu1kK8W4txyV6BMKlbgk3lMwYCiusNy9fVfvvwMxv8Ynl6vxoByANLTWplvuj/nF9m2+PDtt1eiHPBr1oIfhCChQMBw6Aw0UulqTKZdfVvfG7VcfIqLG9bcldL/+pdWTLxLUy8Qq38heUIjh4XlzZxzQm19lLFlr8vdQ97rjZVOLf8nclzckbcD4wxXMidpX30sFd37Fv/GtwwhzhxGVAprjbg0gCAEeIgwCZyTV2Z1REEW8O4py0wsjeloKoMr6iCY6dP92H6Vw/oTyICIthibxjm/DfN9lVz8IqtqKYLUXfoKVMVQVVJOElGjrnnUt9T9wbgp8AyYKaGlqingHZU/uG2NTZSVqwHQTWkx9hxjkpWDaCg6Ckj5qebgBVbT3V3NNXMSiWSDdGV3hrtzla7J+duwPOToIg42ChPQOQjspnSlp1V+Gjdged7+8UN5CRAV7a5EdFNwCjEaBR27b3W890TE7g24NAP/mMDXRWrGoFPQI9ls/MWO2dWFAar/xcOIImbbpA3zgAAAABJRU5ErkJggg==);\n        }\n    </style>\n    <div>\n        <a href=\"https://bokeh.org\" target=\"_blank\" class=\"bk-notebook-logo\"></a>\n        <span id=\"b9dcc5fd-04a2-4308-9243-3a6f894b0377\">Loading BokehJS ...</span>\n    </div>\n"
     },
     "metadata": {},
     "output_type": "display_data"
    },
    {
     "data": {
      "application/javascript": "'use strict';\n(function(root) {\n  function now() {\n    return new Date();\n  }\n\n  const force = true;\n\n  if (typeof root._bokeh_onload_callbacks === \"undefined\" || force === true) {\n    root._bokeh_onload_callbacks = [];\n    root._bokeh_is_loading = undefined;\n  }\n\nconst JS_MIME_TYPE = 'application/javascript';\n  const HTML_MIME_TYPE = 'text/html';\n  const EXEC_MIME_TYPE = 'application/vnd.bokehjs_exec.v0+json';\n  const CLASS_NAME = 'output_bokeh rendered_html';\n\n  /**\n   * Render data to the DOM node\n   */\n  function render(props, node) {\n    const script = document.createElement(\"script\");\n    node.appendChild(script);\n  }\n\n  /**\n   * Handle when an output is cleared or removed\n   */\n  function handleClearOutput(event, handle) {\n    function drop(id) {\n      const view = Bokeh.index.get_by_id(id)\n      if (view != null) {\n        view.model.document.clear()\n        Bokeh.index.delete(view)\n      }\n    }\n\n    const cell = handle.cell;\n\n    const id = cell.output_area._bokeh_element_id;\n    const server_id = cell.output_area._bokeh_server_id;\n\n    // Clean up Bokeh references\n    if (id != null) {\n      drop(id)\n    }\n\n    if (server_id !== undefined) {\n      // Clean up Bokeh references\n      const cmd_clean = \"from bokeh.io.state import curstate; print(curstate().uuid_to_server['\" + server_id + \"'].get_sessions()[0].document.roots[0]._id)\";\n      cell.notebook.kernel.execute(cmd_clean, {\n        iopub: {\n          output: function(msg) {\n            const id = msg.content.text.trim()\n            drop(id)\n          }\n        }\n      });\n      // Destroy server and session\n      const cmd_destroy = \"import bokeh.io.notebook as ion; ion.destroy_server('\" + server_id + \"')\";\n      cell.notebook.kernel.execute(cmd_destroy);\n    }\n  }\n\n  /**\n   * Handle when a new output is added\n   */\n  function handleAddOutput(event, handle) {\n    const output_area = handle.output_area;\n    const output = handle.output;\n\n    // limit handleAddOutput to display_data with EXEC_MIME_TYPE content only\n    if ((output.output_type != \"display_data\") || (!Object.prototype.hasOwnProperty.call(output.data, EXEC_MIME_TYPE))) {\n      return\n    }\n\n    const toinsert = output_area.element.find(\".\" + CLASS_NAME.split(' ')[0]);\n\n    if (output.metadata[EXEC_MIME_TYPE][\"id\"] !== undefined) {\n      toinsert[toinsert.length - 1].firstChild.textContent = output.data[JS_MIME_TYPE];\n      // store reference to embed id on output_area\n      output_area._bokeh_element_id = output.metadata[EXEC_MIME_TYPE][\"id\"];\n    }\n    if (output.metadata[EXEC_MIME_TYPE][\"server_id\"] !== undefined) {\n      const bk_div = document.createElement(\"div\");\n      bk_div.innerHTML = output.data[HTML_MIME_TYPE];\n      const script_attrs = bk_div.children[0].attributes;\n      for (let i = 0; i < script_attrs.length; i++) {\n        toinsert[toinsert.length - 1].firstChild.setAttribute(script_attrs[i].name, script_attrs[i].value);\n        toinsert[toinsert.length - 1].firstChild.textContent = bk_div.children[0].textContent\n      }\n      // store reference to server id on output_area\n      output_area._bokeh_server_id = output.metadata[EXEC_MIME_TYPE][\"server_id\"];\n    }\n  }\n\n  function register_renderer(events, OutputArea) {\n\n    function append_mime(data, metadata, element) {\n      // create a DOM node to render to\n      const toinsert = this.create_output_subarea(\n        metadata,\n        CLASS_NAME,\n        EXEC_MIME_TYPE\n      );\n      this.keyboard_manager.register_events(toinsert);\n      // Render to node\n      const props = {data: data, metadata: metadata[EXEC_MIME_TYPE]};\n      render(props, toinsert[toinsert.length - 1]);\n      element.append(toinsert);\n      return toinsert\n    }\n\n    /* Handle when an output is cleared or removed */\n    events.on('clear_output.CodeCell', handleClearOutput);\n    events.on('delete.Cell', handleClearOutput);\n\n    /* Handle when a new output is added */\n    events.on('output_added.OutputArea', handleAddOutput);\n\n    /**\n     * Register the mime type and append_mime function with output_area\n     */\n    OutputArea.prototype.register_mime_type(EXEC_MIME_TYPE, append_mime, {\n      /* Is output safe? */\n      safe: true,\n      /* Index of renderer in `output_area.display_order` */\n      index: 0\n    });\n  }\n\n  // register the mime type if in Jupyter Notebook environment and previously unregistered\n  if (root.Jupyter !== undefined) {\n    const events = require('base/js/events');\n    const OutputArea = require('notebook/js/outputarea').OutputArea;\n\n    if (OutputArea.prototype.mime_types().indexOf(EXEC_MIME_TYPE) == -1) {\n      register_renderer(events, OutputArea);\n    }\n  }\n  if (typeof (root._bokeh_timeout) === \"undefined\" || force === true) {\n    root._bokeh_timeout = Date.now() + 5000;\n    root._bokeh_failed_load = false;\n  }\n\n  const NB_LOAD_WARNING = {'data': {'text/html':\n     \"<div style='background-color: #fdd'>\\n\"+\n     \"<p>\\n\"+\n     \"BokehJS does not appear to have successfully loaded. If loading BokehJS from CDN, this \\n\"+\n     \"may be due to a slow or bad network connection. Possible fixes:\\n\"+\n     \"</p>\\n\"+\n     \"<ul>\\n\"+\n     \"<li>re-rerun `output_notebook()` to attempt to load from CDN again, or</li>\\n\"+\n     \"<li>use INLINE resources instead, as so:</li>\\n\"+\n     \"</ul>\\n\"+\n     \"<code>\\n\"+\n     \"from bokeh.resources import INLINE\\n\"+\n     \"output_notebook(resources=INLINE)\\n\"+\n     \"</code>\\n\"+\n     \"</div>\"}};\n\n  function display_loaded(error = null) {\n    const el = document.getElementById(\"b9dcc5fd-04a2-4308-9243-3a6f894b0377\");\n    if (el != null) {\n      const html = (() => {\n        if (typeof root.Bokeh === \"undefined\") {\n          if (error == null) {\n            return \"BokehJS is loading ...\";\n          } else {\n            return \"BokehJS failed to load.\";\n          }\n        } else {\n          const prefix = `BokehJS ${root.Bokeh.version}`;\n          if (error == null) {\n            return `${prefix} successfully loaded.`;\n          } else {\n            return `${prefix} <b>encountered errors</b> while loading and may not function as expected.`;\n          }\n        }\n      })();\n      el.innerHTML = html;\n\n      if (error != null) {\n        const wrapper = document.createElement(\"div\");\n        wrapper.style.overflow = \"auto\";\n        wrapper.style.height = \"5em\";\n        wrapper.style.resize = \"vertical\";\n        const content = document.createElement(\"div\");\n        content.style.fontFamily = \"monospace\";\n        content.style.whiteSpace = \"pre-wrap\";\n        content.style.backgroundColor = \"rgb(255, 221, 221)\";\n        content.textContent = error.stack ?? error.toString();\n        wrapper.append(content);\n        el.append(wrapper);\n      }\n    } else if (Date.now() < root._bokeh_timeout) {\n      setTimeout(() => display_loaded(error), 100);\n    }\n  }\n\n  function run_callbacks() {\n    try {\n      root._bokeh_onload_callbacks.forEach(function(callback) {\n        if (callback != null)\n          callback();\n      });\n    } finally {\n      delete root._bokeh_onload_callbacks\n    }\n    console.debug(\"Bokeh: all callbacks have finished\");\n  }\n\n  function load_libs(css_urls, js_urls, callback) {\n    if (css_urls == null) css_urls = [];\n    if (js_urls == null) js_urls = [];\n\n    root._bokeh_onload_callbacks.push(callback);\n    if (root._bokeh_is_loading > 0) {\n      console.debug(\"Bokeh: BokehJS is being loaded, scheduling callback at\", now());\n      return null;\n    }\n    if (js_urls == null || js_urls.length === 0) {\n      run_callbacks();\n      return null;\n    }\n    console.debug(\"Bokeh: BokehJS not loaded, scheduling load and callback at\", now());\n    root._bokeh_is_loading = css_urls.length + js_urls.length;\n\n    function on_load() {\n      root._bokeh_is_loading--;\n      if (root._bokeh_is_loading === 0) {\n        console.debug(\"Bokeh: all BokehJS libraries/stylesheets loaded\");\n        run_callbacks()\n      }\n    }\n\n    function on_error(url) {\n      console.error(\"failed to load \" + url);\n    }\n\n    for (let i = 0; i < css_urls.length; i++) {\n      const url = css_urls[i];\n      const element = document.createElement(\"link\");\n      element.onload = on_load;\n      element.onerror = on_error.bind(null, url);\n      element.rel = \"stylesheet\";\n      element.type = \"text/css\";\n      element.href = url;\n      console.debug(\"Bokeh: injecting link tag for BokehJS stylesheet: \", url);\n      document.body.appendChild(element);\n    }\n\n    for (let i = 0; i < js_urls.length; i++) {\n      const url = js_urls[i];\n      const element = document.createElement('script');\n      element.onload = on_load;\n      element.onerror = on_error.bind(null, url);\n      element.async = false;\n      element.src = url;\n      console.debug(\"Bokeh: injecting script tag for BokehJS library: \", url);\n      document.head.appendChild(element);\n    }\n  };\n\n  function inject_raw_css(css) {\n    const element = document.createElement(\"style\");\n    element.appendChild(document.createTextNode(css));\n    document.body.appendChild(element);\n  }\n\n  const js_urls = [\"https://cdn.bokeh.org/bokeh/release/bokeh-3.4.3.min.js\", \"https://cdn.bokeh.org/bokeh/release/bokeh-gl-3.4.3.min.js\", \"https://cdn.bokeh.org/bokeh/release/bokeh-widgets-3.4.3.min.js\", \"https://cdn.bokeh.org/bokeh/release/bokeh-tables-3.4.3.min.js\", \"https://cdn.bokeh.org/bokeh/release/bokeh-mathjax-3.4.3.min.js\"];\n  const css_urls = [];\n\n  const inline_js = [    function(Bokeh) {\n      Bokeh.set_log_level(\"info\");\n    },\nfunction(Bokeh) {\n    }\n  ];\n\n  function run_inline_js() {\n    if (root.Bokeh !== undefined || force === true) {\n      try {\n            for (let i = 0; i < inline_js.length; i++) {\n      inline_js[i].call(root, root.Bokeh);\n    }\n\n      } catch (error) {display_loaded(error);throw error;\n      }if (force === true) {\n        display_loaded();\n      }} else if (Date.now() < root._bokeh_timeout) {\n      setTimeout(run_inline_js, 100);\n    } else if (!root._bokeh_failed_load) {\n      console.log(\"Bokeh: BokehJS failed to load within specified timeout.\");\n      root._bokeh_failed_load = true;\n    } else if (force !== true) {\n      const cell = $(document.getElementById(\"b9dcc5fd-04a2-4308-9243-3a6f894b0377\")).parents('.cell').data().cell;\n      cell.output_area.append_execute_result(NB_LOAD_WARNING)\n    }\n  }\n\n  if (root._bokeh_is_loading === 0) {\n    console.debug(\"Bokeh: BokehJS loaded, going straight to plotting\");\n    run_inline_js();\n  } else {\n    load_libs(css_urls, js_urls, function() {\n      console.debug(\"Bokeh: BokehJS plotting callback run at\", now());\n      run_inline_js();\n    });\n  }\n}(window));",
      "application/vnd.bokehjs_load.v0+json": "'use strict';\n(function(root) {\n  function now() {\n    return new Date();\n  }\n\n  const force = true;\n\n  if (typeof root._bokeh_onload_callbacks === \"undefined\" || force === true) {\n    root._bokeh_onload_callbacks = [];\n    root._bokeh_is_loading = undefined;\n  }\n\n\n  if (typeof (root._bokeh_timeout) === \"undefined\" || force === true) {\n    root._bokeh_timeout = Date.now() + 5000;\n    root._bokeh_failed_load = false;\n  }\n\n  const NB_LOAD_WARNING = {'data': {'text/html':\n     \"<div style='background-color: #fdd'>\\n\"+\n     \"<p>\\n\"+\n     \"BokehJS does not appear to have successfully loaded. If loading BokehJS from CDN, this \\n\"+\n     \"may be due to a slow or bad network connection. Possible fixes:\\n\"+\n     \"</p>\\n\"+\n     \"<ul>\\n\"+\n     \"<li>re-rerun `output_notebook()` to attempt to load from CDN again, or</li>\\n\"+\n     \"<li>use INLINE resources instead, as so:</li>\\n\"+\n     \"</ul>\\n\"+\n     \"<code>\\n\"+\n     \"from bokeh.resources import INLINE\\n\"+\n     \"output_notebook(resources=INLINE)\\n\"+\n     \"</code>\\n\"+\n     \"</div>\"}};\n\n  function display_loaded(error = null) {\n    const el = document.getElementById(\"b9dcc5fd-04a2-4308-9243-3a6f894b0377\");\n    if (el != null) {\n      const html = (() => {\n        if (typeof root.Bokeh === \"undefined\") {\n          if (error == null) {\n            return \"BokehJS is loading ...\";\n          } else {\n            return \"BokehJS failed to load.\";\n          }\n        } else {\n          const prefix = `BokehJS ${root.Bokeh.version}`;\n          if (error == null) {\n            return `${prefix} successfully loaded.`;\n          } else {\n            return `${prefix} <b>encountered errors</b> while loading and may not function as expected.`;\n          }\n        }\n      })();\n      el.innerHTML = html;\n\n      if (error != null) {\n        const wrapper = document.createElement(\"div\");\n        wrapper.style.overflow = \"auto\";\n        wrapper.style.height = \"5em\";\n        wrapper.style.resize = \"vertical\";\n        const content = document.createElement(\"div\");\n        content.style.fontFamily = \"monospace\";\n        content.style.whiteSpace = \"pre-wrap\";\n        content.style.backgroundColor = \"rgb(255, 221, 221)\";\n        content.textContent = error.stack ?? error.toString();\n        wrapper.append(content);\n        el.append(wrapper);\n      }\n    } else if (Date.now() < root._bokeh_timeout) {\n      setTimeout(() => display_loaded(error), 100);\n    }\n  }\n\n  function run_callbacks() {\n    try {\n      root._bokeh_onload_callbacks.forEach(function(callback) {\n        if (callback != null)\n          callback();\n      });\n    } finally {\n      delete root._bokeh_onload_callbacks\n    }\n    console.debug(\"Bokeh: all callbacks have finished\");\n  }\n\n  function load_libs(css_urls, js_urls, callback) {\n    if (css_urls == null) css_urls = [];\n    if (js_urls == null) js_urls = [];\n\n    root._bokeh_onload_callbacks.push(callback);\n    if (root._bokeh_is_loading > 0) {\n      console.debug(\"Bokeh: BokehJS is being loaded, scheduling callback at\", now());\n      return null;\n    }\n    if (js_urls == null || js_urls.length === 0) {\n      run_callbacks();\n      return null;\n    }\n    console.debug(\"Bokeh: BokehJS not loaded, scheduling load and callback at\", now());\n    root._bokeh_is_loading = css_urls.length + js_urls.length;\n\n    function on_load() {\n      root._bokeh_is_loading--;\n      if (root._bokeh_is_loading === 0) {\n        console.debug(\"Bokeh: all BokehJS libraries/stylesheets loaded\");\n        run_callbacks()\n      }\n    }\n\n    function on_error(url) {\n      console.error(\"failed to load \" + url);\n    }\n\n    for (let i = 0; i < css_urls.length; i++) {\n      const url = css_urls[i];\n      const element = document.createElement(\"link\");\n      element.onload = on_load;\n      element.onerror = on_error.bind(null, url);\n      element.rel = \"stylesheet\";\n      element.type = \"text/css\";\n      element.href = url;\n      console.debug(\"Bokeh: injecting link tag for BokehJS stylesheet: \", url);\n      document.body.appendChild(element);\n    }\n\n    for (let i = 0; i < js_urls.length; i++) {\n      const url = js_urls[i];\n      const element = document.createElement('script');\n      element.onload = on_load;\n      element.onerror = on_error.bind(null, url);\n      element.async = false;\n      element.src = url;\n      console.debug(\"Bokeh: injecting script tag for BokehJS library: \", url);\n      document.head.appendChild(element);\n    }\n  };\n\n  function inject_raw_css(css) {\n    const element = document.createElement(\"style\");\n    element.appendChild(document.createTextNode(css));\n    document.body.appendChild(element);\n  }\n\n  const js_urls = [\"https://cdn.bokeh.org/bokeh/release/bokeh-3.4.3.min.js\", \"https://cdn.bokeh.org/bokeh/release/bokeh-gl-3.4.3.min.js\", \"https://cdn.bokeh.org/bokeh/release/bokeh-widgets-3.4.3.min.js\", \"https://cdn.bokeh.org/bokeh/release/bokeh-tables-3.4.3.min.js\", \"https://cdn.bokeh.org/bokeh/release/bokeh-mathjax-3.4.3.min.js\"];\n  const css_urls = [];\n\n  const inline_js = [    function(Bokeh) {\n      Bokeh.set_log_level(\"info\");\n    },\nfunction(Bokeh) {\n    }\n  ];\n\n  function run_inline_js() {\n    if (root.Bokeh !== undefined || force === true) {\n      try {\n            for (let i = 0; i < inline_js.length; i++) {\n      inline_js[i].call(root, root.Bokeh);\n    }\n\n      } catch (error) {display_loaded(error);throw error;\n      }if (force === true) {\n        display_loaded();\n      }} else if (Date.now() < root._bokeh_timeout) {\n      setTimeout(run_inline_js, 100);\n    } else if (!root._bokeh_failed_load) {\n      console.log(\"Bokeh: BokehJS failed to load within specified timeout.\");\n      root._bokeh_failed_load = true;\n    } else if (force !== true) {\n      const cell = $(document.getElementById(\"b9dcc5fd-04a2-4308-9243-3a6f894b0377\")).parents('.cell').data().cell;\n      cell.output_area.append_execute_result(NB_LOAD_WARNING)\n    }\n  }\n\n  if (root._bokeh_is_loading === 0) {\n    console.debug(\"Bokeh: BokehJS loaded, going straight to plotting\");\n    run_inline_js();\n  } else {\n    load_libs(css_urls, js_urls, function() {\n      console.debug(\"Bokeh: BokehJS plotting callback run at\", now());\n      run_inline_js();\n    });\n  }\n}(window));"
     },
     "metadata": {},
     "output_type": "display_data"
    },
    {
     "data": {
      "text/html": "\n  <div id=\"a2902f19-c7d8-454b-9773-087a6b459a7a\" data-root-id=\"p3549\" style=\"display: contents;\"></div>\n"
     },
     "metadata": {},
     "output_type": "display_data"
    },
    {
     "data": {
      "application/javascript": "(function(root) {\n  function embed_document(root) {\n  const docs_json = {\"0449a287-92d2-4b06-a7a8-4be34f480018\":{\"version\":\"3.4.3\",\"title\":\"Bokeh Application\",\"roots\":[{\"type\":\"object\",\"name\":\"Column\",\"id\":\"p3549\",\"attributes\":{\"children\":[{\"type\":\"object\",\"name\":\"Select\",\"id\":\"p3547\",\"attributes\":{\"js_property_callbacks\":{\"type\":\"map\",\"entries\":[[\"change:value\",[{\"type\":\"object\",\"name\":\"CustomJS\",\"id\":\"p3548\",\"attributes\":{\"args\":{\"type\":\"map\",\"entries\":[[\"src\",{\"type\":\"object\",\"name\":\"ColumnDataSource\",\"id\":\"p3501\",\"attributes\":{\"selected\":{\"type\":\"object\",\"name\":\"Selection\",\"id\":\"p3502\",\"attributes\":{\"indices\":[],\"line_indices\":[]}},\"selection_policy\":{\"type\":\"object\",\"name\":\"UnionRenderers\",\"id\":\"p3503\"},\"data\":{\"type\":\"map\",\"entries\":[[\"policy_area\",[\"agriculture\",\"budget\",\"budgetary control\",\"civil liberties justice home affairs\",\"constitutional inter institutional affairs\",\"culture education\",\"development\",\"economic monetary affairs\",\"economics\",\"employment social affairs\",\"environment public health\",\"fisheries\",\"foreign security policy\",\"gender equality\",\"industry research energy\",\"internal market consumer protection\",\"internal regulations of the ep\",\"international trade\",\"juridical affairs\",\"legal affairs\",\"petitions\",\"regioanal development\",\"regional development\",\"transport tourism\"]],[\"ALDE\",[0.10729992380595918,0.0273155737704918,0.5203078635014837,0.3705892239511,0.08522589062603658,0.5610719576244557,0.46870142715840046,0.21615172491417636,0.139365835317709,0.24571488706770675,0.1722833206397563,0.25960501748757464,0.2946961022851963,0.5008820789311978,0.2715517697476324,0.17933672257328837,0.12838454517797385,0.008271811176375491,0.5882417461884392,0.3739398318944206,0.20607713283989093,1.0,0.24437652391909062,0.1945834559905799]],[\"ECR\",[0.02986186917457385,0.16166333110962863,0.03028317085825073,0.058168347652845225,0.2145383446661187,0.03971446376975809,0.06853763191464687,0.14961368477949827,0.0,0.20113840502190017,0.058284549523157744,0.22986818626604502,0.07611299452186887,0.2060522696011004,0.049060580731911184,0.14150140547231607,0.09283461018476791,0.19593812854879764,0.6294205052005943,0.07601922264469793,0.25258676757523796,0.7301587301587301,0.03807723467458817,0.09909835387542394]],[\"EFD\",[0.038704511077498,0.00484558351333995,0.06627539503386004,0.02652381942999792,0.20795808089078108,0.02631578947368421,0.04057744830277019,0.04570161636389644,0.0,0.06662870159453303,0.04282785749903042,0.21414107323658454,0.01419451236077153,0.032398753894081,0.07935457178320232,0.21890261419132434,0.06,0.042636895268474216,0.25902335456475584,0.07475592747559275,0.11926605504587157,0.0,0.026748971193415638,0.012312238364934745]],[\"EFDD\",[0.04408817635270541,0.13437761568815018,0.11591832129963899,0.06368302855309592,0.05886116442738324,0.08306277056277056,0.012317327766179541,0.03520809508957965,0.0,0.011455350169226764,0.017269654272231334,0.04798705966930266,0.004434077734925291,0.06323099415204679,0.020739229685754527,0.06601223502631953,0.2825112107623318,0.21082499389797413,0.0,0.054781704781704785,0.20168449806510358,0.625,0.0729305740987984,0.05563990354559257]],[\"ENF\",[0.014224240975376523,0.055483490566037734,0.15946612688974635,0.20695757462860337,0.04724587021480521,0.20583898554998525,0.06910673150755055,0.05438230383973289,0.0,0.23351342761798824,0.015157672301690506,0.16561580496006725,0.24792649211253862,0.44514975413500224,0.09588397627855087,0.08416666666666667,0.06320541760722348,0.14527027027027026,0.0,0.00858684985279686,0.03606290672451193,0.6785714285714286,0.19791666666666666,0.009698929076581127]],[\"EPP\",[0.12927572446676952,0.066737020992253,0.35009227146115446,0.18031093627881786,0.011320161417116503,0.4974797549546356,0.3930508925143009,0.09924192315089764,0.049396794270611305,0.2330840027997451,0.1283609878977055,0.3147154083383873,0.17798010262639155,0.23704979665876708,0.14235993208828523,0.1764161650717832,0.30939615012745014,0.12726882060908998,0.7064346565162226,0.34271864108008493,0.1793167030122511,0.9890710382513661,0.2317332012664273,0.15818676889159441]],[\"Greens/EFA\",[0.17669595145367267,0.30425030485685944,0.6343937497302197,0.3100489231288309,0.31551080438963686,0.5626322082222018,0.6352698277089562,0.48485310303953943,0.4596090987926089,0.6661142394395375,0.42889907279121814,0.22465900657675872,0.3508554408567404,0.6520554139087403,0.4273681820761678,0.3906206542435977,0.41531065088757396,0.48609575501725466,0.6607478587842073,0.4186813186813187,0.46645577175599856,1.0,0.4813323296951449,0.3537665796077226]],[\"IDG\",[0.04591696896412737,0.13580101972360123,0.16667476081783303,0.042945329757021145,0.11379618260966626,0.04661751951431049,0.09671207474502531,0.002410032269923614,0.34531955160867667,0.13933155465820593,0.10309558361335082,0.08523347678078233,0.02173175277005424,0.1251976192690412,0.011576011157601115,0.24591541013902307,0.5989974937343359,0.007433252427184466,0.03351104341203351,0.24702533031608145,0.2781226980953383,0.0,0.03625,0.02545577059858496]],[\"NI\",[0.169627088710773,0.0005714911054097105,0.17778141897427494,0.07320117171383778,0.03793807417488942,0.11095258078052875,0.15534889944470462,0.08271123736539605,0.1737769896735162,0.1487669871300533,0.15785014767604538,0.24872272358305877,0.07119336965737534,0.14512166859791426,0.06708927628103539,0.22892803538984122,0.06814159292035399,0.08680464873335074,0.19394261424017004,0.16083328666629332,0.27082190277625373,0.125,0.030572618795452942,0.10650520105573669]],[\"REG\",[0.08526343415786365,0.061416438548466346,0.4401630469396854,0.14669382495916494,0.13887871804260268,0.4642429426860565,0.6699433441479832,0.17207319874428934,0.0,0.45538842205835517,0.25984048581715435,0.47867433788217395,0.1871524666309269,0.5995442678859765,0.12340573136239927,0.14411344755970923,0.576271186440678,0.20070565884109107,0.0,0.23506451761032282,0.3435939530747657,0.0,0.28868341379592505,0.13503671784912302]],[\"S&D\",[0.2113057749040476,0.06547802710840336,0.5700116067194169,0.32917820493587896,0.188422247446084,0.5383882075069008,0.6179706525132688,0.37271703227396197,0.4481545583744917,0.5836477490468759,0.3377413871617874,0.38236001559298977,0.29908160762960273,0.666639382653734,0.3944114531058325,0.39378548158737575,0.18534718425369054,0.1956592470669295,0.6811362671925314,0.4500473018250621,0.3135246336238892,0.9807692307692307,0.3178357924904283,0.33545691367259034]],[\"The Left\",[0.20884215932435518,0.3774223796624297,0.5361776511718244,0.2358648747563643,0.16918365191678109,0.41293311333925625,0.5711804641860955,0.28902636941587045,0.1509687034277198,0.4924776844957883,0.4062072816188221,0.4315909090909091,0.1413245229786918,0.6513385350739642,0.3378447593474988,0.2850887644465626,0.4037914691943128,0.4657606428524381,0.5709633649932158,0.41234498308906425,0.4952737801243294,1.0,0.48432729493181353,0.2542011450293211]],[\"UEN\",[0.42424768016650766,0.29352212389380533,0.5868585298196949,0.12596201760699852,0.028212345355763568,0.41180313588850176,0.5507633587786259,0.0,0.001053740779768177,0.18186101295641932,0.14461691825690687,0.28827726809378185,0.07989294958978634,0.32511263931705003,0.22144459398833558,0.005307625649913345,0.13358778625954199,0.1402125880807357,0.4977408277607085,0.0,0.511520737327189,0.0,0.09623893805309734,0.009046624913013222]],[\"y\",[0.10729992380595918,0.0273155737704918,0.5203078635014837,0.3705892239511,0.08522589062603658,0.5610719576244557,0.46870142715840046,0.21615172491417636,0.139365835317709,0.24571488706770675,0.1722833206397563,0.25960501748757464,0.2946961022851963,0.5008820789311978,0.2715517697476324,0.17933672257328837,0.12838454517797385,0.008271811176375491,0.5882417461884392,0.3739398318944206,0.20607713283989093,1.0,0.24437652391909062,0.1945834559905799]]]}}}]]},\"code\":\"\\n    const d = src.data;\\n    const choice = cb_obj.value;\\n    d['y'] = d[choice];\\n    src.change.emit();\\n\"}}]]]},\"title\":\"Party:\",\"options\":[\"ALDE\",\"ECR\",\"EFD\",\"EFDD\",\"ENF\",\"EPP\",\"Greens/EFA\",\"IDG\",\"NI\",\"REG\",\"S&D\",\"The Left\",\"UEN\"],\"value\":\"ALDE\"}},{\"type\":\"object\",\"name\":\"Figure\",\"id\":\"p3504\",\"attributes\":{\"width\":800,\"height\":800,\"x_range\":{\"type\":\"object\",\"name\":\"FactorRange\",\"id\":\"p3514\",\"attributes\":{\"factors\":[\"agriculture\",\"budget\",\"budgetary control\",\"civil liberties justice home affairs\",\"constitutional inter institutional affairs\",\"culture education\",\"development\",\"economic monetary affairs\",\"economics\",\"employment social affairs\",\"environment public health\",\"fisheries\",\"foreign security policy\",\"gender equality\",\"industry research energy\",\"internal market consumer protection\",\"internal regulations of the ep\",\"international trade\",\"juridical affairs\",\"legal affairs\",\"petitions\",\"regioanal development\",\"regional development\",\"transport tourism\"]}},\"y_range\":{\"type\":\"object\",\"name\":\"DataRange1d\",\"id\":\"p3506\"},\"x_scale\":{\"type\":\"object\",\"name\":\"CategoricalScale\",\"id\":\"p3515\"},\"y_scale\":{\"type\":\"object\",\"name\":\"LinearScale\",\"id\":\"p3516\"},\"title\":{\"type\":\"object\",\"name\":\"Title\",\"id\":\"p3507\",\"attributes\":{\"text\":\"Rice\\u2010score by Policy Area\",\"text_color\":\"#E0E0E0\",\"text_font\":\"Helvetica\",\"text_font_size\":\"1.15em\"}},\"outline_line_color\":\"#E0E0E0\",\"outline_line_alpha\":0.25,\"renderers\":[{\"type\":\"object\",\"name\":\"GlyphRenderer\",\"id\":\"p3544\",\"attributes\":{\"data_source\":{\"id\":\"p3501\"},\"view\":{\"type\":\"object\",\"name\":\"CDSView\",\"id\":\"p3545\",\"attributes\":{\"filter\":{\"type\":\"object\",\"name\":\"AllIndices\",\"id\":\"p3546\"}}},\"glyph\":{\"type\":\"object\",\"name\":\"VBar\",\"id\":\"p3541\",\"attributes\":{\"x\":{\"type\":\"field\",\"field\":\"policy_area\"},\"width\":{\"type\":\"value\",\"value\":0.8},\"top\":{\"type\":\"field\",\"field\":\"y\"},\"line_color\":{\"type\":\"value\",\"value\":\"#1f77b4\"},\"fill_color\":{\"type\":\"value\",\"value\":\"#1f77b4\"}}},\"nonselection_glyph\":{\"type\":\"object\",\"name\":\"VBar\",\"id\":\"p3542\",\"attributes\":{\"x\":{\"type\":\"field\",\"field\":\"policy_area\"},\"width\":{\"type\":\"value\",\"value\":0.8},\"top\":{\"type\":\"field\",\"field\":\"y\"},\"line_color\":{\"type\":\"value\",\"value\":\"#1f77b4\"},\"line_alpha\":{\"type\":\"value\",\"value\":0.1},\"fill_color\":{\"type\":\"value\",\"value\":\"#1f77b4\"},\"fill_alpha\":{\"type\":\"value\",\"value\":0.1},\"hatch_alpha\":{\"type\":\"value\",\"value\":0.1}}},\"muted_glyph\":{\"type\":\"object\",\"name\":\"VBar\",\"id\":\"p3543\",\"attributes\":{\"x\":{\"type\":\"field\",\"field\":\"policy_area\"},\"width\":{\"type\":\"value\",\"value\":0.8},\"top\":{\"type\":\"field\",\"field\":\"y\"},\"line_color\":{\"type\":\"value\",\"value\":\"#1f77b4\"},\"line_alpha\":{\"type\":\"value\",\"value\":0.2},\"fill_color\":{\"type\":\"value\",\"value\":\"#1f77b4\"},\"fill_alpha\":{\"type\":\"value\",\"value\":0.2},\"hatch_alpha\":{\"type\":\"value\",\"value\":0.2}}}}}],\"toolbar\":{\"type\":\"object\",\"name\":\"Toolbar\",\"id\":\"p3513\",\"attributes\":{\"tools\":[{\"type\":\"object\",\"name\":\"PanTool\",\"id\":\"p3527\"},{\"type\":\"object\",\"name\":\"WheelZoomTool\",\"id\":\"p3528\",\"attributes\":{\"renderers\":\"auto\"}},{\"type\":\"object\",\"name\":\"BoxZoomTool\",\"id\":\"p3529\",\"attributes\":{\"overlay\":{\"type\":\"object\",\"name\":\"BoxAnnotation\",\"id\":\"p3530\",\"attributes\":{\"syncable\":false,\"level\":\"overlay\",\"visible\":false,\"left\":{\"type\":\"number\",\"value\":\"nan\"},\"right\":{\"type\":\"number\",\"value\":\"nan\"},\"top\":{\"type\":\"number\",\"value\":\"nan\"},\"bottom\":{\"type\":\"number\",\"value\":\"nan\"},\"left_units\":\"canvas\",\"right_units\":\"canvas\",\"top_units\":\"canvas\",\"bottom_units\":\"canvas\",\"line_color\":\"black\",\"line_alpha\":1.0,\"line_width\":2,\"line_dash\":[4,4],\"fill_color\":\"lightgrey\",\"fill_alpha\":0.5}}}},{\"type\":\"object\",\"name\":\"SaveTool\",\"id\":\"p3535\"},{\"type\":\"object\",\"name\":\"ResetTool\",\"id\":\"p3536\"},{\"type\":\"object\",\"name\":\"HelpTool\",\"id\":\"p3537\"}]}},\"left\":[{\"type\":\"object\",\"name\":\"LinearAxis\",\"id\":\"p3522\",\"attributes\":{\"ticker\":{\"type\":\"object\",\"name\":\"BasicTicker\",\"id\":\"p3523\",\"attributes\":{\"mantissas\":[1,2,5]}},\"formatter\":{\"type\":\"object\",\"name\":\"BasicTickFormatter\",\"id\":\"p3524\"},\"axis_label\":\"Rice index\",\"axis_label_standoff\":10,\"axis_label_text_color\":\"#E0E0E0\",\"axis_label_text_font\":\"Helvetica\",\"axis_label_text_font_size\":\"1.25em\",\"axis_label_text_font_style\":\"normal\",\"major_label_policy\":{\"type\":\"object\",\"name\":\"AllLabels\",\"id\":\"p3525\"},\"major_label_text_color\":\"#E0E0E0\",\"major_label_text_font\":\"Helvetica\",\"major_label_text_font_size\":\"1.025em\",\"axis_line_color\":\"#E0E0E0\",\"axis_line_alpha\":0,\"major_tick_line_color\":\"#E0E0E0\",\"major_tick_line_alpha\":0,\"minor_tick_line_color\":\"#E0E0E0\",\"minor_tick_line_alpha\":0}}],\"below\":[{\"type\":\"object\",\"name\":\"CategoricalAxis\",\"id\":\"p3517\",\"attributes\":{\"ticker\":{\"type\":\"object\",\"name\":\"CategoricalTicker\",\"id\":\"p3518\"},\"formatter\":{\"type\":\"object\",\"name\":\"CategoricalTickFormatter\",\"id\":\"p3519\"},\"axis_label\":\"Policy Area\",\"axis_label_standoff\":10,\"axis_label_text_color\":\"#E0E0E0\",\"axis_label_text_font\":\"Helvetica\",\"axis_label_text_font_size\":\"1.25em\",\"axis_label_text_font_style\":\"normal\",\"major_label_orientation\":1.2,\"major_label_policy\":{\"type\":\"object\",\"name\":\"AllLabels\",\"id\":\"p3520\"},\"major_label_text_color\":\"#E0E0E0\",\"major_label_text_font\":\"Helvetica\",\"major_label_text_font_size\":\"1.025em\",\"axis_line_color\":\"#E0E0E0\",\"axis_line_alpha\":0,\"major_tick_line_color\":\"#E0E0E0\",\"major_tick_line_alpha\":0,\"minor_tick_line_color\":\"#E0E0E0\",\"minor_tick_line_alpha\":0}}],\"center\":[{\"type\":\"object\",\"name\":\"Grid\",\"id\":\"p3521\",\"attributes\":{\"axis\":{\"id\":\"p3517\"},\"grid_line_color\":\"#E0E0E0\",\"grid_line_alpha\":0.25}},{\"type\":\"object\",\"name\":\"Grid\",\"id\":\"p3526\",\"attributes\":{\"dimension\":1,\"axis\":{\"id\":\"p3522\"},\"grid_line_color\":\"#E0E0E0\",\"grid_line_alpha\":0.25}}],\"background_fill_color\":\"#20262B\",\"border_fill_color\":\"#15191C\"}}]}}]}};\n  const render_items = [{\"docid\":\"0449a287-92d2-4b06-a7a8-4be34f480018\",\"roots\":{\"p3549\":\"a2902f19-c7d8-454b-9773-087a6b459a7a\"},\"root_ids\":[\"p3549\"]}];\n  void root.Bokeh.embed.embed_items_notebook(docs_json, render_items);\n  }\n  if (root.Bokeh !== undefined) {\n    embed_document(root);\n  } else {\n    let attempts = 0;\n    const timer = setInterval(function(root) {\n      if (root.Bokeh !== undefined) {\n        clearInterval(timer);\n        embed_document(root);\n      } else {\n        attempts++;\n        if (attempts > 100) {\n          clearInterval(timer);\n          console.log(\"Bokeh: ERROR: Unable to run BokehJS code because BokehJS library is missing\");\n        }\n      }\n    }, 10, root)\n  }\n})(window);",
      "application/vnd.bokehjs_exec.v0+json": ""
     },
     "metadata": {
      "application/vnd.bokehjs_exec.v0+json": {
       "id": "p3549"
      }
     },
     "output_type": "display_data"
    }
   ],
   "source": [
    "from bokeh.plotting import figure, show, output_notebook\n",
    "from bokeh.models import ColumnDataSource, Select, CustomJS\n",
    "from bokeh.layouts import column\n",
    "\n",
    "output_notebook()\n",
    "\n",
    "# 1️⃣ Prepare the CDS with one extra “y” field that we’ll reassign\n",
    "policies = list(party_policy.index)\n",
    "parties  = list(party_policy.columns)\n",
    "\n",
    "data = { 'policy_area': policies }\n",
    "for p in parties:\n",
    "    data[p] = party_policy[p].values.tolist()\n",
    "\n",
    "# initialize “y” to the first party\n",
    "initial = parties[0]\n",
    "data['y'] = data[initial]\n",
    "\n",
    "source = ColumnDataSource(data)\n",
    "\n",
    "# 2️⃣ Make the figure (categorical x-axis)\n",
    "p = figure(x_range=policies,\n",
    "           title=\"Rice‐score by Policy Area\",\n",
    "           x_axis_label='Policy Area',\n",
    "           y_axis_label='Rice index',\n",
    "           width=800, height=800)\n",
    "p.vbar(x='policy_area', top='y', source=source, width=0.8)\n",
    "p.xaxis.major_label_orientation = 1.2  # rotate labels so they don’t overlap\n",
    "\n",
    "# 3️⃣ Dropdown widget\n",
    "dropdown = Select(title=\"Party:\", value=initial, options=parties)\n",
    "\n",
    "# 4️⃣ JS callback to swap in the chosen party’s column\n",
    "callback = CustomJS(args=dict(src=source), code=\"\"\"\n",
    "    const d = src.data;\n",
    "    const choice = cb_obj.value;\n",
    "    d['y'] = d[choice];\n",
    "    src.change.emit();\n",
    "\"\"\")\n",
    "dropdown.js_on_change('value', callback)\n",
    "\n",
    "# 5️⃣ Layout\n",
    "show(column(dropdown, p))\n"
   ],
   "metadata": {
    "collapsed": false,
    "ExecuteTime": {
     "end_time": "2025-05-11T13:44:43.824183Z",
     "start_time": "2025-05-11T13:44:43.741764Z"
    }
   },
   "id": "6b22d21ae1b1c5d0"
  },
  {
   "cell_type": "code",
   "execution_count": null,
   "outputs": [],
   "source": [],
   "metadata": {
    "collapsed": false
   },
   "id": "a61b0812330689e8"
  }
 ],
 "metadata": {
  "kernelspec": {
   "display_name": "Python 3",
   "language": "python",
   "name": "python3"
  },
  "language_info": {
   "codemirror_mode": {
    "name": "ipython",
    "version": 2
   },
   "file_extension": ".py",
   "mimetype": "text/x-python",
   "name": "python",
   "nbconvert_exporter": "python",
   "pygments_lexer": "ipython2",
   "version": "2.7.6"
  }
 },
 "nbformat": 4,
 "nbformat_minor": 5
}
